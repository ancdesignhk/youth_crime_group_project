{
 "cells": [
  {
   "cell_type": "markdown",
   "id": "e22b2371-5c81-4934-9a3c-1eaadf299efe",
   "metadata": {},
   "source": [
    "# Notebook Title\n",
    "---\n",
    "Description"
   ]
  },
  {
   "cell_type": "markdown",
   "id": "8fcfeeb1-d8bc-4180-921d-3f746240efa8",
   "metadata": {},
   "source": [
    "---\n",
    "## Notebook Section"
   ]
  },
  {
   "cell_type": "markdown",
   "id": "24afbd21-abb3-4914-8ac6-58e5701fd9ab",
   "metadata": {},
   "source": [
    "### Notebook Subsection"
   ]
  },
  {
   "cell_type": "markdown",
   "id": "bfed4070-539d-4f83-9356-eba51b484091",
   "metadata": {},
   "source": [
    "Markdown commentary."
   ]
  },
  {
   "cell_type": "code",
   "execution_count": null,
   "id": "ad67e5e6-3a19-438b-8254-5e01515f0a9f",
   "metadata": {},
   "outputs": [],
   "source": []
  }
 ],
 "metadata": {
  "kernelspec": {
   "display_name": "Python 3 (ipykernel)",
   "language": "python",
   "name": "python3"
  },
  "language_info": {
   "codemirror_mode": {
    "name": "ipython",
    "version": 3
   },
   "file_extension": ".py",
   "mimetype": "text/x-python",
   "name": "python",
   "nbconvert_exporter": "python",
   "pygments_lexer": "ipython3",
   "version": "3.12.4"
  }
 },
 "nbformat": 4,
 "nbformat_minor": 5
}
