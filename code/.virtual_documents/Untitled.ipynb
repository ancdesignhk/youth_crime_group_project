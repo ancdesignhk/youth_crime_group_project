# import libraries
import pandas as pd
import numpy as np
import matplotlib.pyplot as plt
import seaborn as sns


# Read demographic data
demo = pd.read_excel('../data/combined_state_demo_data_2016_2022.xlsx', sheet_name = 'Data')
# check for missing values and print the shape
print(demo.isna().sum())
print(demo.shape)
demo.head()


# Read crime data
crime = pd.read_csv('../data/transformed_crime_data.csv')
# rename the 'data_year' column to 'year' and update column names to lowercase with underscores
crime.columns = crime.columns.str.lower().str.replace(' ', '_')
crime.rename(columns={'data_year': 'year'}, inplace=True)

# check for missing values and print the shape
print(crime.isna().sum())
print(crime.shape)
crime.head()


# Read youth data
youth = pd.read_csv('../data/youth data.csv')
# update column names to lowercase with underscores
youth.columns = youth.columns.str.lower().str.replace(' ', '_')

print(youth.isna().sum())
print(youth.shape)
youth.head()


# Merge the datasets on 'state' and 'year'
merged_data = pd.merge(demo, crime, on=['state', 'year'], how='inner')
merged_data.shape


merged_data.isna().sum()


merged_data = pd.merge(merged_data, youth, on=['state', 'year'], how='inner')
merged_data.shape



