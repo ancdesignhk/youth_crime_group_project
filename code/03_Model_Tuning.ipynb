{
 "cells": [
  {
   "cell_type": "markdown",
   "id": "cc4f9aca-70a3-419e-9d00-776fa9140394",
   "metadata": {},
   "source": [
    "# Models Tuning\n",
    "\n",
    "---\n",
    "This notebook explores hyperparameter tuning across multiple models, optimizing each model's performance to identify the best fit for our dataset and objectives."
   ]
  },
  {
   "cell_type": "markdown",
   "id": "bb69a676-8b72-4f53-b13d-2829731f488f",
   "metadata": {},
   "source": [
    "---\n",
    "## Load Data"
   ]
  },
  {
   "cell_type": "code",
   "execution_count": 139,
   "id": "c7ce4aea-61ef-44ce-8248-e64d8ed99106",
   "metadata": {},
   "outputs": [],
   "source": [
    "# import libraries\n",
    "import pandas as pd\n",
    "import numpy as np\n",
    "import matplotlib.pyplot as plt\n",
    "import seaborn as sns\n",
    "import time\n",
    "import random\n",
    "\n",
    "# Set seed\n",
    "np.random.seed(42)\n",
    "random.seed(42)\n",
    "\n",
    "# from sklearn\n",
    "from sklearn.pipeline import Pipeline\n",
    "from sklearn.model_selection import train_test_split, cross_val_score, GridSearchCV\n",
    "from sklearn.preprocessing import StandardScaler\n",
    "from sklearn.tree import DecisionTreeRegressor\n",
    "from sklearn.ensemble import RandomForestRegressor\n",
    "from sklearn.ensemble import GradientBoostingRegressor\n",
    "from xgboost import XGBRegressor\n",
    "import xgboost as xgb\n",
    "from sklearn.svm import SVR\n",
    "from sklearn.ensemble import StackingRegressor\n",
    "from sklearn.ensemble import BaggingRegressor\n",
    "from sklearn.linear_model import Ridge,Lasso\n",
    "from sklearn.metrics import mean_squared_error, r2_score,mean_absolute_error"
   ]
  },
  {
   "cell_type": "code",
   "execution_count": 140,
   "id": "f30d6da7-eb34-422d-a4d7-ab4eb3d6817e",
   "metadata": {},
   "outputs": [
    {
     "data": {
      "text/html": [
       "<div>\n",
       "<style scoped>\n",
       "    .dataframe tbody tr th:only-of-type {\n",
       "        vertical-align: middle;\n",
       "    }\n",
       "\n",
       "    .dataframe tbody tr th {\n",
       "        vertical-align: top;\n",
       "    }\n",
       "\n",
       "    .dataframe thead th {\n",
       "        text-align: right;\n",
       "    }\n",
       "</style>\n",
       "<table border=\"1\" class=\"dataframe\">\n",
       "  <thead>\n",
       "    <tr style=\"text-align: right;\">\n",
       "      <th></th>\n",
       "      <th>state</th>\n",
       "      <th>year</th>\n",
       "      <th>total_pop</th>\n",
       "      <th>white_pop</th>\n",
       "      <th>black_pop</th>\n",
       "      <th>hispanic_pop</th>\n",
       "      <th>asian_pop</th>\n",
       "      <th>native_pop</th>\n",
       "      <th>islander_pop</th>\n",
       "      <th>multi_race_pop</th>\n",
       "      <th>...</th>\n",
       "      <th>rate:__crimes_against_society</th>\n",
       "      <th>rate:__fraud_and_other_financial_crimes</th>\n",
       "      <th>rate:__property_crime</th>\n",
       "      <th>rate:__violent_crime</th>\n",
       "      <th>youth_not_in_school</th>\n",
       "      <th>youth_in_foster_care</th>\n",
       "      <th>youth_living_in_poverty</th>\n",
       "      <th>total_crime_count</th>\n",
       "      <th>total_crime_rate</th>\n",
       "      <th>log_total_crime_rate</th>\n",
       "    </tr>\n",
       "  </thead>\n",
       "  <tbody>\n",
       "    <tr>\n",
       "      <th>0</th>\n",
       "      <td>AL</td>\n",
       "      <td>2022</td>\n",
       "      <td>4916000</td>\n",
       "      <td>0.645</td>\n",
       "      <td>0.252</td>\n",
       "      <td>0.0480</td>\n",
       "      <td>0.0140</td>\n",
       "      <td>0.002</td>\n",
       "      <td>0.0</td>\n",
       "      <td>0.039</td>\n",
       "      <td>...</td>\n",
       "      <td>189.36</td>\n",
       "      <td>36.01</td>\n",
       "      <td>253.48</td>\n",
       "      <td>298.96</td>\n",
       "      <td>73000.0</td>\n",
       "      <td>819.25</td>\n",
       "      <td>240000.000000</td>\n",
       "      <td>39465.0</td>\n",
       "      <td>777.81</td>\n",
       "      <td>6.657767</td>\n",
       "    </tr>\n",
       "    <tr>\n",
       "      <th>1</th>\n",
       "      <td>AL</td>\n",
       "      <td>2021</td>\n",
       "      <td>4900800</td>\n",
       "      <td>0.644</td>\n",
       "      <td>0.255</td>\n",
       "      <td>0.0470</td>\n",
       "      <td>0.0130</td>\n",
       "      <td>0.004</td>\n",
       "      <td>0.0</td>\n",
       "      <td>0.037</td>\n",
       "      <td>...</td>\n",
       "      <td>128.17</td>\n",
       "      <td>24.48</td>\n",
       "      <td>219.86</td>\n",
       "      <td>218.90</td>\n",
       "      <td>86000.0</td>\n",
       "      <td>819.25</td>\n",
       "      <td>245000.000000</td>\n",
       "      <td>29868.0</td>\n",
       "      <td>591.41</td>\n",
       "      <td>6.384199</td>\n",
       "    </tr>\n",
       "    <tr>\n",
       "      <th>2</th>\n",
       "      <td>AL</td>\n",
       "      <td>2020</td>\n",
       "      <td>4833950</td>\n",
       "      <td>0.649</td>\n",
       "      <td>0.260</td>\n",
       "      <td>0.0455</td>\n",
       "      <td>0.0135</td>\n",
       "      <td>0.004</td>\n",
       "      <td>0.0</td>\n",
       "      <td>0.028</td>\n",
       "      <td>...</td>\n",
       "      <td>13.00</td>\n",
       "      <td>1.79</td>\n",
       "      <td>12.91</td>\n",
       "      <td>16.67</td>\n",
       "      <td>82000.0</td>\n",
       "      <td>819.25</td>\n",
       "      <td>249833.333333</td>\n",
       "      <td>2233.0</td>\n",
       "      <td>44.37</td>\n",
       "      <td>3.814851</td>\n",
       "    </tr>\n",
       "    <tr>\n",
       "      <th>3</th>\n",
       "      <td>AL</td>\n",
       "      <td>2019</td>\n",
       "      <td>4767100</td>\n",
       "      <td>0.654</td>\n",
       "      <td>0.265</td>\n",
       "      <td>0.0440</td>\n",
       "      <td>0.0140</td>\n",
       "      <td>0.004</td>\n",
       "      <td>0.0</td>\n",
       "      <td>0.019</td>\n",
       "      <td>...</td>\n",
       "      <td>3.74</td>\n",
       "      <td>1.21</td>\n",
       "      <td>6.80</td>\n",
       "      <td>4.32</td>\n",
       "      <td>74000.0</td>\n",
       "      <td>800.00</td>\n",
       "      <td>228000.000000</td>\n",
       "      <td>808.0</td>\n",
       "      <td>16.07</td>\n",
       "      <td>2.837323</td>\n",
       "    </tr>\n",
       "    <tr>\n",
       "      <th>4</th>\n",
       "      <td>AL</td>\n",
       "      <td>2018</td>\n",
       "      <td>4752600</td>\n",
       "      <td>0.656</td>\n",
       "      <td>0.265</td>\n",
       "      <td>0.0430</td>\n",
       "      <td>0.0130</td>\n",
       "      <td>0.010</td>\n",
       "      <td>0.0</td>\n",
       "      <td>0.019</td>\n",
       "      <td>...</td>\n",
       "      <td>1.31</td>\n",
       "      <td>0.62</td>\n",
       "      <td>1.47</td>\n",
       "      <td>2.09</td>\n",
       "      <td>86000.0</td>\n",
       "      <td>829.00</td>\n",
       "      <td>255000.000000</td>\n",
       "      <td>276.0</td>\n",
       "      <td>5.49</td>\n",
       "      <td>1.870263</td>\n",
       "    </tr>\n",
       "  </tbody>\n",
       "</table>\n",
       "<p>5 rows × 34 columns</p>\n",
       "</div>"
      ],
      "text/plain": [
       "  state  year  total_pop  white_pop  black_pop  hispanic_pop  asian_pop  \\\n",
       "0    AL  2022    4916000      0.645      0.252        0.0480     0.0140   \n",
       "1    AL  2021    4900800      0.644      0.255        0.0470     0.0130   \n",
       "2    AL  2020    4833950      0.649      0.260        0.0455     0.0135   \n",
       "3    AL  2019    4767100      0.654      0.265        0.0440     0.0140   \n",
       "4    AL  2018    4752600      0.656      0.265        0.0430     0.0130   \n",
       "\n",
       "   native_pop  islander_pop  multi_race_pop  ...  \\\n",
       "0       0.002           0.0           0.039  ...   \n",
       "1       0.004           0.0           0.037  ...   \n",
       "2       0.004           0.0           0.028  ...   \n",
       "3       0.004           0.0           0.019  ...   \n",
       "4       0.010           0.0           0.019  ...   \n",
       "\n",
       "   rate:__crimes_against_society  rate:__fraud_and_other_financial_crimes  \\\n",
       "0                         189.36                                    36.01   \n",
       "1                         128.17                                    24.48   \n",
       "2                          13.00                                     1.79   \n",
       "3                           3.74                                     1.21   \n",
       "4                           1.31                                     0.62   \n",
       "\n",
       "   rate:__property_crime  rate:__violent_crime  youth_not_in_school  \\\n",
       "0                 253.48                298.96              73000.0   \n",
       "1                 219.86                218.90              86000.0   \n",
       "2                  12.91                 16.67              82000.0   \n",
       "3                   6.80                  4.32              74000.0   \n",
       "4                   1.47                  2.09              86000.0   \n",
       "\n",
       "   youth_in_foster_care  youth_living_in_poverty  total_crime_count  \\\n",
       "0                819.25            240000.000000            39465.0   \n",
       "1                819.25            245000.000000            29868.0   \n",
       "2                819.25            249833.333333             2233.0   \n",
       "3                800.00            228000.000000              808.0   \n",
       "4                829.00            255000.000000              276.0   \n",
       "\n",
       "   total_crime_rate  log_total_crime_rate  \n",
       "0            777.81              6.657767  \n",
       "1            591.41              6.384199  \n",
       "2             44.37              3.814851  \n",
       "3             16.07              2.837323  \n",
       "4              5.49              1.870263  \n",
       "\n",
       "[5 rows x 34 columns]"
      ]
     },
     "execution_count": 140,
     "metadata": {},
     "output_type": "execute_result"
    }
   ],
   "source": [
    "#youth_crime = pd.read_csv('../data/state_demo_crime_youth_data_combined_clean.csv')\n",
    "youth_crime =pd.read_csv('../data/data.csv')\n",
    "#youth_crime =pd.read_csv('../data/data_engineered.csv')\n",
    "youth_crime.head()"
   ]
  },
  {
   "cell_type": "markdown",
   "id": "a09d1640-cbb9-438e-a6fa-a4727121459b",
   "metadata": {},
   "source": [
    "### Features and Target Variable"
   ]
  },
  {
   "cell_type": "code",
   "execution_count": 142,
   "id": "22dd2ba3-826a-4a4b-8833-97294406203c",
   "metadata": {
    "scrolled": true
   },
   "outputs": [
    {
     "name": "stdout",
     "output_type": "stream",
     "text": [
      "['year', 'median_income', 'poverty_rate', 'unemployment_rate', 'unemployed_15_weeks', 'labor_force_participation_rate', 'hs_grad_rate', 'bachelors_grad_rate', 'zhvi', 'crude_rate_suicide', 'crude_rate_od', 'youth_not_in_school', 'youth_in_foster_care', 'youth_living_in_poverty']\n"
     ]
    }
   ],
   "source": [
    "# Define features (X) and target variable (y)\n",
    "\n",
    "# columns to exclude: population-related and crime-related features\n",
    "crime_related_columns = [\n",
    "    'count:__crimes_against_society', \n",
    "    'count:__fraud_and_other_financial_crimes', \n",
    "    'count:__property_crime', \n",
    "    'count:__violent_crime',\n",
    "    'rate:__crimes_against_society', \n",
    "    'rate:__fraud_and_other_financial_crimes', \n",
    "    'rate:__property_crime', \n",
    "    'rate:__violent_crime',\n",
    "    'total_crime_count',\n",
    "    'total_crime_rate',\n",
    "    'log_total_crime_rate'\n",
    "]\n",
    "\n",
    "population_related_columns = [\n",
    "    'total_pop',\n",
    "    'white_pop',\n",
    "    'black_pop',\n",
    "    'hispanic_pop',\n",
    "    'asian_pop',\n",
    "    'native_pop',\n",
    "    'islander_pop',\n",
    "    'multi_race_pop',\n",
    "    'state'\n",
    "]\n",
    "\n",
    "\n",
    "\n",
    "#features to keep: exclude population-related and crime-related features\n",
    "X = youth_crime.drop(columns=crime_related_columns + population_related_columns)\n",
    "\n",
    "# Display the list of features used for modeling\n",
    "filtered_features = X.columns.tolist()\n",
    "print(filtered_features)\n",
    "\n",
    "\n",
    "y = youth_crime['log_total_crime_rate']\n",
    "\n"
   ]
  },
  {
   "cell_type": "markdown",
   "id": "fa3d7775-249d-4d7c-8f4b-12e5e000593e",
   "metadata": {},
   "source": [
    "### Train-Test Split"
   ]
  },
  {
   "cell_type": "code",
   "execution_count": 144,
   "id": "1cfb935c-2db4-4923-a856-76b29bbf4ad4",
   "metadata": {},
   "outputs": [
    {
     "name": "stdout",
     "output_type": "stream",
     "text": [
      "X_train shape: (249, 14)\n",
      "X_test shape: (63, 14)\n",
      "y_train shape: (249,)\n",
      "y_test shape: (63,)\n"
     ]
    }
   ],
   "source": [
    "# Split the data\n",
    "X_train, X_test, y_train, y_test = train_test_split(X, y, test_size=0.2, random_state=42)\n",
    "print(f'X_train shape: {X_train.shape}')\n",
    "print(f'X_test shape: {X_test.shape}')\n",
    "print(f'y_train shape: {y_train.shape}')\n",
    "print(f'y_test shape: {y_test.shape}')"
   ]
  },
  {
   "cell_type": "markdown",
   "id": "ecb37d46-c8af-48be-a746-20b83609012f",
   "metadata": {},
   "source": [
    "---\n",
    "## Create Models"
   ]
  },
  {
   "cell_type": "markdown",
   "id": "d4651d63-8c7e-4566-adbd-e3f6a882012c",
   "metadata": {},
   "source": [
    "###  Decision Tree Model"
   ]
  },
  {
   "cell_type": "code",
   "execution_count": 147,
   "id": "cc619f13-eea3-4ad3-9c69-192aea80899b",
   "metadata": {},
   "outputs": [
    {
     "name": "stdout",
     "output_type": "stream",
     "text": [
      "Decision Tree Model:\n",
      "Cross Validation mean: -0.4452790886490526\n",
      "Training MSE: 0.5219682162254862\n",
      "Training MAE: 0.4905628113818791\n",
      "Training R2 0.5698414511387316\n",
      "Testing MSE: 1.0519576214381052\n",
      "Testing MAE: 0.698796169723742\n",
      "Testing R2: 0.25560298605809395\n"
     ]
    }
   ],
   "source": [
    "# establish Logistic Regression pipeline with CountVectorizer\n",
    "pipe_dt = Pipeline([\n",
    "    ('dt', DecisionTreeRegressor(random_state = 42,\n",
    "                                 max_depth = 5,\n",
    "                                 min_samples_split = 7,\n",
    "                                 min_samples_leaf = 3,\n",
    "                                 ccp_alpha = 0.01))\n",
    "])\n",
    "print(\"Decision Tree Model:\")\n",
    "# calculate cross validation score mean\n",
    "print(f'Cross Validation mean: {cross_val_score(pipe_dt, X_train, y_train, cv = 3).mean()}')\n",
    "\n",
    "# fit model to training data\n",
    "pipe_dt.fit(X_train, y_train)\n",
    "# Make predictions\n",
    "y_train_pred = pipe_dt.predict(X_train)\n",
    "y_test_pred = pipe_dt.predict(X_test)\n",
    "#Evaluate Model\n",
    "# training \n",
    "print(f'Training MSE: {mean_squared_error(y_train,y_train_pred)}')\n",
    "print(f'Training MAE: {mean_absolute_error(y_train,y_train_pred)}')\n",
    "print(f'Training R2 {r2_score(y_train,y_train_pred)}')\n",
    "\n",
    "# test \n",
    "print(f'Testing MSE: {mean_squared_error(y_test,y_test_pred)}')\n",
    "print(f'Testing MAE: {mean_absolute_error( y_test,y_test_pred)}')\n",
    "print(f'Testing R2: {r2_score(y_test,y_test_pred)}')"
   ]
  },
  {
   "cell_type": "markdown",
   "id": "2729259d-d348-4d0d-848e-21eb665bdb7e",
   "metadata": {},
   "source": [
    "- The model performs well on the training data, with relatively low error metrics (MSE and MAE) and an R² of 0.57, meaning it explains about 57% of the variance. This suggests that the model fits the training data closely.\n",
    "- On the test set, there’s a noticeable drop in performance. The testing MSE and MAE are higher than on the training set, and the R² score drops to 0.26, indicating that only 26% of the variance is explained in the testing data. This decrease in performance from training to testing data suggests overfitting, where the model fits the training data too closely but struggles to generalize."
   ]
  },
  {
   "cell_type": "markdown",
   "id": "fdeb5271-eaef-42c8-9631-11e5b511ef99",
   "metadata": {},
   "source": [
    "#### GridSearch DecisionTree"
   ]
  },
  {
   "cell_type": "code",
   "execution_count": 150,
   "id": "7ae9c023-2345-48ad-9868-02383c51397a",
   "metadata": {},
   "outputs": [],
   "source": [
    "grid_dt = GridSearchCV(estimator = DecisionTreeRegressor(random_state = 42),\n",
    "                    param_grid = {'max_depth': range(2,8,1),\n",
    "                                  'min_samples_split': range(8,25,3),\n",
    "                                  'min_samples_leaf': range(2,7),\n",
    "                                  'ccp_alpha': [0, 0.001, 0.01, 0.1, 1, 10],\n",
    "                                  'max_features': range(5,21,5)},\n",
    "                    cv = 5,\n",
    "                    verbose = 1)"
   ]
  },
  {
   "cell_type": "code",
   "execution_count": 151,
   "id": "a0fccc5d-ba73-4815-b8c5-0ecd860f6f08",
   "metadata": {},
   "outputs": [
    {
     "name": "stdout",
     "output_type": "stream",
     "text": [
      "1730397376.8485708\n",
      "Fitting 5 folds for each of 4320 candidates, totalling 21600 fits\n",
      "33.30721402168274\n",
      "best_model_dt:DecisionTreeRegressor(ccp_alpha=0.1, max_depth=6, max_features=5,\n",
      "                      min_samples_leaf=5, min_samples_split=11,\n",
      "                      random_state=42)\n",
      "best score decision_tree:0.0577332911172654\n"
     ]
    }
   ],
   "source": [
    "# start timer\n",
    "t0 = time.time()\n",
    "\n",
    "# print start time\n",
    "print(t0)\n",
    "\n",
    "# gridsearch\n",
    "grid_dt.fit(X_train, y_train)\n",
    "\n",
    "# print end time\n",
    "print(time.time() - t0)\n",
    "best_model_dt = grid_dt.best_estimator_\n",
    "\n",
    "print(f'best_model_dt:{best_model_dt}')\n",
    "print(f'best score decision_tree:{grid_dt.best_score_}')"
   ]
  },
  {
   "cell_type": "code",
   "execution_count": 152,
   "id": "e130ae41-7b1d-494c-b8ba-d530f61ff0fc",
   "metadata": {},
   "outputs": [
    {
     "name": "stdout",
     "output_type": "stream",
     "text": [
      "Grid Search Decision Tree Model\n",
      "Training MSE: 1.0255353125741988\n",
      "Training MAE: 0.703066985640151\n",
      "Training R2 0.154847425283967\n",
      "Testing MSE: 1.1554215215512655\n",
      "Testing MAE: 0.7792556765816435\n",
      "Testing R2: 0.18238880259152945\n"
     ]
    }
   ],
   "source": [
    "# Make predictions\n",
    "y_train_pred = grid_dt.predict(X_train)\n",
    "y_test_pred = grid_dt.predict(X_test)\n",
    "#Evaluate Model\n",
    "print(\"Grid Search Decision Tree Model\")\n",
    "# training \n",
    "print(f'Training MSE: {mean_squared_error(y_train,y_train_pred)}')\n",
    "print(f'Training MAE: {mean_absolute_error(y_train,y_train_pred)}')\n",
    "print(f'Training R2 {r2_score(y_train,y_train_pred)}')\n",
    "\n",
    "# test \n",
    "print(f'Testing MSE: {mean_squared_error(y_test,y_test_pred)}')\n",
    "print(f'Testing MAE: {mean_absolute_error( y_test,y_test_pred)}')\n",
    "print(f'Testing R2: {r2_score(y_test,y_test_pred)}')"
   ]
  },
  {
   "cell_type": "markdown",
   "id": "7000974e-2c19-4d8e-a99c-4bd3cfe7e788",
   "metadata": {},
   "source": [
    "- The training metrics indicate that the model does not fit the training data very well, with a relatively high MSE and MAE, and a low R² of 0.15. This means that the model explains only 15% of the variance in the training data, which is quite low for a Decision Tree model.\n",
    "- The testing metrics are similar to the training metrics, with a slight increase in MSE and MAE, and an R² of 0.18. This indicates that the model does not generalize well to new data, explaining only 18% of the variance on the test set."
   ]
  },
  {
   "cell_type": "code",
   "execution_count": 154,
   "id": "de4332ed-84b2-48fc-8faf-29cc7e450a46",
   "metadata": {},
   "outputs": [
    {
     "data": {
      "image/png": "[encoded data removed]",
      "text/plain": [
       "<Figure size 640x480 with 1 Axes>"
      ]
     },
     "metadata": {},
     "output_type": "display_data"
    }
   ],
   "source": [
    "feat_importances = pd.Series(best_model_dt.feature_importances_, index = X_train.columns)\n",
    "feat_importances.nlargest(15).plot(kind = 'barh')\n",
    "plt.title('Top 15 Features - Decision Tree')\n",
    "\n",
    "plt.show()"
   ]
  },
  {
   "cell_type": "markdown",
   "id": "03b987b9-7b91-48b8-93e9-6abe44a59640",
   "metadata": {},
   "source": [
    "----------"
   ]
  },
  {
   "cell_type": "markdown",
   "id": "34030e7e-69e4-48e7-b8d5-f98e43ebb4bf",
   "metadata": {},
   "source": [
    "### Random Forest Model"
   ]
  },
  {
   "cell_type": "code",
   "execution_count": 157,
   "id": "47bdbd9f-28e7-4949-b36a-ab161c4e972b",
   "metadata": {},
   "outputs": [],
   "source": [
    "# \n",
    "pipe_rf = Pipeline([\n",
    "    ('rf', RandomForestRegressor(random_state = 42,\n",
    "                                 max_depth = 5,\n",
    "                                 min_samples_split = 7,\n",
    "                                 min_samples_leaf = 3,\n",
    "                                 ccp_alpha = 0.01))\n",
    "])"
   ]
  },
  {
   "cell_type": "code",
   "execution_count": 158,
   "id": "cf806c07-702a-4e8c-89aa-88eacd9646b3",
   "metadata": {},
   "outputs": [
    {
     "name": "stdout",
     "output_type": "stream",
     "text": [
      "Random Forest Model\n",
      "Cross Validation mean: 0.1064140696561748\n",
      "Training MSE: 0.4001712548329582\n",
      "Training MAE: 0.41640312678754726\n",
      "Training R2 0.670215386830036\n",
      "Testing MSE: 0.9011860558190234\n",
      "Testing MAE: 0.6908020524854414\n",
      "Testing R2: 0.36229350376237024\n"
     ]
    }
   ],
   "source": [
    "\n",
    "pipe_rf.fit(X_train, y_train)\n",
    "\n",
    "# Make predictions\n",
    "y_train_pred = pipe_rf.predict(X_train)\n",
    "y_test_pred = pipe_rf.predict(X_test)\n",
    "#Evaluate Model\n",
    "print(\"Random Forest Model\")\n",
    "# calculate cross validation score mean\n",
    "print(f'Cross Validation mean: {cross_val_score(pipe_rf, X_train, y_train, cv = 3).mean()}')\n",
    "\n",
    "# fit model to training\n",
    "# training \n",
    "print(f'Training MSE: {mean_squared_error(y_train,y_train_pred)}')\n",
    "print(f'Training MAE: {mean_absolute_error(y_train,y_train_pred)}')\n",
    "print(f'Training R2 {r2_score(y_train,y_train_pred)}')\n",
    "\n",
    "# test \n",
    "print(f'Testing MSE: {mean_squared_error(y_test,y_test_pred)}')\n",
    "print(f'Testing MAE: {mean_absolute_error( y_test,y_test_pred)}')\n",
    "print(f'Testing R2: {r2_score(y_test,y_test_pred)}')"
   ]
  },
  {
   "cell_type": "markdown",
   "id": "577d9bb9-6849-47b4-8e47-84bbdcfc67e2",
   "metadata": {},
   "source": [
    "- The Random Forest model performs well on the training data, with low error values and an R² of 0.67, meaning it explains 67% of the variance in the training set.\n",
    "- On the test set, the model's error metrics are higher, and the R² score decreases to 0.36. This means it explains 36% of the variance in the testing data, indicating that the model generalizes moderately well but still shows signs of overfitting."
   ]
  },
  {
   "cell_type": "markdown",
   "id": "7b9e0c1a-e420-46e6-bd1e-a72778be6181",
   "metadata": {},
   "source": [
    "#### GridSearch RandomForest"
   ]
  },
  {
   "cell_type": "code",
   "execution_count": 161,
   "id": "32fe012d-9742-42a1-8023-18fb1d6b81e3",
   "metadata": {},
   "outputs": [],
   "source": [
    "grid_rf = GridSearchCV(estimator = RandomForestRegressor(random_state = 42, n_jobs = -1),\n",
    "                    param_grid = {'max_depth': range(2,8,1),\n",
    "                                  'min_samples_split': range(8,25,3),\n",
    "                                  'min_samples_leaf': range(2,7),\n",
    "                                  'ccp_alpha': [0, 0.001, 0.01, 0.1, 1, 10],\n",
    "                                  'max_features': range(5,21,5)},\n",
    "                    cv = 5,\n",
    "                    verbose = 1)"
   ]
  },
  {
   "cell_type": "code",
   "execution_count": 162,
   "id": "452b9124-7508-4c34-98f7-1c8efc37ff8c",
   "metadata": {},
   "outputs": [
    {
     "name": "stdout",
     "output_type": "stream",
     "text": [
      "1730397410.9289\n",
      "Fitting 5 folds for each of 4320 candidates, totalling 21600 fits\n",
      "1541.6209738254547\n",
      "best_model_rf:RandomForestRegressor(ccp_alpha=0.001, max_depth=6, max_features=5,\n",
      "                      min_samples_leaf=2, min_samples_split=8, n_jobs=-1,\n",
      "                      random_state=42)\n",
      "best score :0.21586024250456629\n"
     ]
    },
    {
     "name": "stderr",
     "output_type": "stream",
     "text": [
      "/opt/anaconda3/lib/python3.11/site-packages/numpy/ma/core.py:2820: RuntimeWarning: invalid value encountered in cast\n",
      "  _data = np.array(data, dtype=dtype, copy=copy,\n"
     ]
    }
   ],
   "source": [
    "# start timer\n",
    "t0 = time.time()\n",
    "\n",
    "# print start time\n",
    "print(t0)\n",
    "\n",
    "# gridsearch\n",
    "grid_rf.fit(X_train, y_train)\n",
    "\n",
    "# print end time\n",
    "print(time.time() - t0)\n",
    "best_model_rf = grid_rf.best_estimator_\n",
    "print(f'best_model_rf:{best_model_rf}')\n",
    "print(f'best score :{grid_rf.best_score_}')"
   ]
  },
  {
   "cell_type": "code",
   "execution_count": 163,
   "id": "d1af9a2b-83f7-43b6-8cb6-aca99bfcce70",
   "metadata": {
    "scrolled": true
   },
   "outputs": [
    {
     "name": "stdout",
     "output_type": "stream",
     "text": [
      "Grid SearchRandom Forest Model\n",
      "Training MSE: 0.37433893344578645\n",
      "Training MAE: 0.39297678128214575\n",
      "Training R2 0.691504027663338\n",
      "Testing MSE: 0.9620900903727286\n",
      "Testing MAE: 0.6990948380422897\n",
      "Testing R2: 0.319195967763901\n"
     ]
    }
   ],
   "source": [
    "# Make predictions\n",
    "y_train_pred = best_model_rf.predict(X_train)\n",
    "y_test_pred = best_model_rf.predict(X_test)\n",
    "#Evaluate Model\n",
    "print(\"Grid SearchRandom Forest Model\")\n",
    "# training \n",
    "print(f'Training MSE: {mean_squared_error(y_train,y_train_pred)}')\n",
    "print(f'Training MAE: {mean_absolute_error(y_train,y_train_pred)}')\n",
    "print(f'Training R2 {r2_score(y_train,y_train_pred)}')\n",
    "\n",
    "# test \n",
    "print(f'Testing MSE: {mean_squared_error(y_test,y_test_pred)}')\n",
    "print(f'Testing MAE: {mean_absolute_error( y_test,y_test_pred)}')\n",
    "print(f'Testing R2: {r2_score(y_test,y_test_pred)}')"
   ]
  },
  {
   "cell_type": "markdown",
   "id": "fc3abb0f-1ca3-47c8-9a66-10087f91928b",
   "metadata": {},
   "source": [
    "- The model performs well on the training data, with relatively low error metrics and an R² score of 0.69, explaining about 69% of the variance in the training set.\n",
    "- The testing performance shows a drop compared to training. The testing R² score of 0.32 means that the model explains only 32% of the variance in the test data, indicating some overfitting. The model performs worse on unseen data, with increased MSE and MAE"
   ]
  },
  {
   "cell_type": "code",
   "execution_count": 165,
   "id": "38bc4a82-909f-4a74-86b5-93c2eee58ee1",
   "metadata": {},
   "outputs": [
    {
     "data": {
      "image/png": "[encoded data removed]",
      "text/plain": [
       "<Figure size 640x480 with 1 Axes>"
      ]
     },
     "metadata": {},
     "output_type": "display_data"
    }
   ],
   "source": [
    "feat_importances = pd.Series(best_model_rf.feature_importances_, index = X_train.columns)\n",
    "feat_importances.nlargest(15).plot(kind = 'barh')\n",
    "plt.title('Top 15 Features - Random Forest');\n"
   ]
  },
  {
   "cell_type": "markdown",
   "id": "69ee1a8f-063d-462c-abb3-9701ec985b0c",
   "metadata": {},
   "source": [
    "---"
   ]
  },
  {
   "cell_type": "markdown",
   "id": "499e7fbf-69c9-44a2-9132-2788f9d713e8",
   "metadata": {},
   "source": [
    "### Gradient Boosting"
   ]
  },
  {
   "cell_type": "code",
   "execution_count": 168,
   "id": "de96cd0d-bb86-4f40-ab2b-1716d0b61089",
   "metadata": {},
   "outputs": [
    {
     "name": "stdout",
     "output_type": "stream",
     "text": [
      "Gradient Boosting Model:\n",
      "Training MSE: 1.7027442297528755e-15\n",
      "Training MAE: 3.2630425265415274e-08\n",
      "Training R²: 0.9999999999999986\n",
      "Testing MSE: 0.6121055246073238\n",
      "Testing MAE: 0.527335993686188\n",
      "Testing R²: 0.5668556266438485\n"
     ]
    }
   ],
   "source": [
    "\n",
    "#https://scikit-learn.org/1.5/auto_examples/ensemble/plot_gradient_boosting_early_stopping.html\n",
    "\n",
    "# Pipeline setup\n",
    "gb_pipeline = Pipeline(steps=[\n",
    "\n",
    "    ('gb', GradientBoostingRegressor(n_estimators=1000, max_depth=5, learning_rate=0.1, random_state=42))\n",
    "])\n",
    "\n",
    "# Fit the pipeline to the training data\n",
    "gb_pipeline.fit(X_train, y_train)\n",
    "\n",
    "# Prediction\n",
    "y_train_pred = gb_pipeline.predict(X_train)\n",
    "y_test_pred = gb_pipeline.predict(X_test)\n",
    "\n",
    "# Calculate training and testing scoresa\n",
    "train_mse = mean_squared_error(y_train, y_train_pred)\n",
    "train_mae = mean_absolute_error(y_train, y_train_pred)\n",
    "train_r2 = r2_score(y_train, y_train_pred)\n",
    "\n",
    "test_mse = mean_squared_error(y_test, y_test_pred)\n",
    "test_mae = mean_absolute_error(y_test, y_test_pred)\n",
    "test_r2 = r2_score(y_test, y_test_pred)\n",
    "\n",
    "print(\"Gradient Boosting Model:\")\n",
    "print(\"Training MSE:\", train_mse)\n",
    "print(\"Training MAE:\", train_mae)\n",
    "print(\"Training R²:\", train_r2)\n",
    "\n",
    "print(\"Testing MSE:\", test_mse)\n",
    "print(\"Testing MAE:\", test_mae)\n",
    "print(\"Testing R²:\", test_r2)"
   ]
  },
  {
   "cell_type": "markdown",
   "id": "274d92da-f3fc-4dee-8245-e57ef07765eb",
   "metadata": {},
   "source": [
    "- The model performs extremely well on the training data, with a very low MSE and MAE, and an R² of 0.95. This high R² score indicates that the model captures nearly all of the variance in the training set, suggesting a strong fit.\n",
    "- While the model generalizes better than previous models, it still shows some overfitting, as indicated by the drop in R² to 0.57 on the testing set. This means the model explains 57% of the variance in unseen data."
   ]
  },
  {
   "cell_type": "markdown",
   "id": "b12917f8-3e23-44bf-be63-878447c62d4e",
   "metadata": {},
   "source": [
    "#### Grid Search Gradient Boosting"
   ]
  },
  {
   "cell_type": "code",
   "execution_count": 171,
   "id": "d60ab8d8-6df0-48bf-8e8e-4b1a28cf3f22",
   "metadata": {},
   "outputs": [
    {
     "name": "stdout",
     "output_type": "stream",
     "text": [
      "Fitting 5 folds for each of 2700 candidates, totalling 13500 fits\n"
     ]
    },
    {
     "name": "stderr",
     "output_type": "stream",
     "text": [
      "python(37810) MallocStackLogging: can't turn off malloc stack logging because it was not enabled.\n",
      "python(37811) MallocStackLogging: can't turn off malloc stack logging because it was not enabled.\n",
      "python(37812) MallocStackLogging: can't turn off malloc stack logging because it was not enabled.\n",
      "python(37813) MallocStackLogging: can't turn off malloc stack logging because it was not enabled.\n",
      "python(37814) MallocStackLogging: can't turn off malloc stack logging because it was not enabled.\n",
      "python(37815) MallocStackLogging: can't turn off malloc stack logging because it was not enabled.\n",
      "python(37816) MallocStackLogging: can't turn off malloc stack logging because it was not enabled.\n",
      "python(37817) MallocStackLogging: can't turn off malloc stack logging because it was not enabled.\n",
      "python(37818) MallocStackLogging: can't turn off malloc stack logging because it was not enabled.\n",
      "python(37819) MallocStackLogging: can't turn off malloc stack logging because it was not enabled.\n"
     ]
    },
    {
     "name": "stdout",
     "output_type": "stream",
     "text": [
      "Best Parameters: {'gb__learning_rate': 0.05, 'gb__max_depth': 5, 'gb__min_samples_leaf': 1, 'gb__min_samples_split': 15, 'gb__n_estimators': 1000, 'gb__subsample': 0.6}\n",
      "Best Cross-Validated MSE: 0.31542335086454665\n"
     ]
    }
   ],
   "source": [
    "# Define the parameter grid for Gradient Boosting\n",
    "param_grid = {\n",
    "    'gb__n_estimators': [200, 300,400,500,1000],\n",
    "    'gb__max_depth': [3, 4,5,],\n",
    "    'gb__learning_rate': [0.01, 0.05, 0.1,0.2,0.3],\n",
    "    'gb__min_samples_split': [2, 5, 10,15],\n",
    "    'gb__min_samples_leaf': [1, 2, 4],\n",
    "    'gb__subsample': [0.6, 0.8, 1.0]\n",
    "}\n",
    "\n",
    "# Setup GridSearchCV with the pipeline and parameter grid\n",
    "grid_search = GridSearchCV(gb_pipeline, param_grid=param_grid, cv=5, scoring='r2', n_jobs=-1, verbose=1)\n",
    "\n",
    "# Fit GridSearchCV on the training data\n",
    "grid_search.fit(X_train, y_train)\n",
    "\n",
    "# Best parameters from grid search\n",
    "best_params = grid_search.best_params_\n",
    "best_score = grid_search.best_score_ \n",
    "\n",
    "print(\"Best Parameters:\", best_params)\n",
    "print(\"Best Cross-Validated MSE:\", best_score)\n"
   ]
  },
  {
   "cell_type": "code",
   "execution_count": 172,
   "id": "ae8ebd0f-71ca-4a4c-b14d-53e074c63dd2",
   "metadata": {},
   "outputs": [
    {
     "name": "stdout",
     "output_type": "stream",
     "text": [
      "Pipeline(steps=[('gb',\n",
      "                 GradientBoostingRegressor(learning_rate=0.05, max_depth=5,\n",
      "                                           min_samples_split=15,\n",
      "                                           n_estimators=1000, random_state=42,\n",
      "                                           subsample=0.6))])\n",
      "Best Parameters: {'gb__learning_rate': 0.05, 'gb__max_depth': 5, 'gb__min_samples_leaf': 1, 'gb__min_samples_split': 15, 'gb__n_estimators': 1000, 'gb__subsample': 0.6}\n",
      "Grid Search Gradient Boosting Model:\n",
      "Best Cross-Validated R²: 0.31542335086454665\n",
      "Training MSE: 4.2795143371903885e-06\n",
      "Training MAE: 0.0017620063179891433\n",
      "Training R²: 0.9999964732149969\n",
      "Testing MSE: 0.8528142377962297\n",
      "Testing MAE: 0.6217973262949966\n",
      "Testing R²: 0.39652286449068896\n"
     ]
    }
   ],
   "source": [
    "# Predictions\n",
    "best_model = grid_search.best_estimator_\n",
    "print(best_model)\n",
    "y_train_pred = best_model.predict(X_train)\n",
    "y_test_pred = best_model.predict(X_test)\n",
    "\n",
    "# Calculate training and testing scores\n",
    "train_mse = mean_squared_error(y_train, y_train_pred)\n",
    "train_mae = mean_absolute_error(y_train, y_train_pred)\n",
    "train_r2 = r2_score(y_train, y_train_pred)\n",
    "\n",
    "test_mse = mean_squared_error(y_test, y_test_pred)\n",
    "test_mae = mean_absolute_error(y_test, y_test_pred)\n",
    "test_r2 = r2_score(y_test, y_test_pred)\n",
    "print(\"Best Parameters:\", best_params)\n",
    "print(\"Grid Search Gradient Boosting Model:\")\n",
    "print(\"Best Cross-Validated R²:\", best_score)\n",
    "print(\"Training MSE:\", train_mse)\n",
    "print(\"Training MAE:\", train_mae)\n",
    "print(\"Training R²:\", train_r2)\n",
    "print(\"Testing MSE:\", test_mse)\n",
    "print(\"Testing MAE:\", test_mae)\n",
    "print(\"Testing R²:\", test_r2)\n"
   ]
  },
  {
   "cell_type": "markdown",
   "id": "6ebc93ed-fd80-4ac4-93cc-8c9f88ff5f7c",
   "metadata": {},
   "source": [
    "- The Grid Search-tuned Gradient Boosting model demonstrates high accuracy on the training data, but a performance drop on testing data indicates overfitting. The model's parameters allow for a complex structure that captures training patterns very well but struggles to generalize fully."
   ]
  },
  {
   "cell_type": "markdown",
   "id": "5b36d352-baec-49f6-9c60-26c00acf4873",
   "metadata": {},
   "source": [
    "----"
   ]
  },
  {
   "cell_type": "markdown",
   "id": "f6d9ba9b-a8a4-402b-82a5-f529d98d592b",
   "metadata": {},
   "source": [
    "###  XG Boosting"
   ]
  },
  {
   "cell_type": "code",
   "execution_count": 176,
   "id": "51c2c9f4-dad7-4a22-a354-d43ed1d1efcb",
   "metadata": {},
   "outputs": [
    {
     "name": "stdout",
     "output_type": "stream",
     "text": [
      "XG Boosting Model:\n",
      "Training MSE: 0.015432265680777197\n",
      "Training MAE: 0.0881431538749866\n",
      "Training R²: 0.9872821355696935\n",
      "Testing MSE: 0.7198983491709466\n",
      "Testing MAE: 0.5682308943549468\n",
      "Testing R²: 0.49057816537137866\n"
     ]
    }
   ],
   "source": [
    "#https://xgboost.readthedocs.io/en/latest/python/sklearn_estimator.html\n",
    "# Define the callback for early stopping\n",
    "ss= StandardScaler()\n",
    "X_train_sc = ss.fit_transform(X_train)\n",
    "X_test_sc =ss.transform(X_test)\n",
    "early_stop = xgb.callback.EarlyStopping(\n",
    "    rounds=8,  # Stop after 2 rounds of no improvement\n",
    "    metric_name='rmse',  # Change this to the metric you want to monitor\n",
    "    data_name='validation_0',  # Corresponds to the eval_set name\n",
    "    save_best=True\n",
    ")\n",
    "\n",
    "# Fit the XGBRegressor with early stopping callback\n",
    "model = XGBRegressor(\n",
    "    n_estimators=1000, \n",
    "    learning_rate=0.1, \n",
    "    max_depth=5, \n",
    "    tree_method=\"hist\",\n",
    "    callbacks=[early_stop],\n",
    "    random_state=42\n",
    ")\n",
    "\n",
    "# Define the evaluation set (validation)\n",
    "eval_set = [(X_test_sc, y_test)]\n",
    "\n",
    "# Fit the model with the early stopping callback\n",
    "model.fit(\n",
    "    X_train_sc, y_train,\n",
    "    eval_set=eval_set,\n",
    "    verbose=False,\n",
    "      # Pass the early stopping callback\n",
    ")\n",
    "\n",
    "# Predict and evaluate\n",
    "y_train_pred = model.predict(X_train_sc)\n",
    "y_test_pred = model.predict(X_test_sc)\n",
    "\n",
    "# Evaluating the model on training, validation, and testing sets\n",
    "mse_train = mean_squared_error(y_train, y_train_pred)\n",
    "mae_train = mean_absolute_error(y_train, y_train_pred)\n",
    "r2_train= r2_score(y_train, y_train_pred)\n",
    "\n",
    "\n",
    "mse_test = mean_squared_error(y_test, y_test_pred)\n",
    "mae_test= mean_absolute_error(y_test, y_test_pred)\n",
    "r2_test = r2_score(y_test, y_test_pred)\n",
    "\n",
    "\n",
    "print(\"XG Boosting Model:\")\n",
    "print(\"Training MSE:\", mse_train)\n",
    "print(\"Training MAE:\", mae_train)\n",
    "print(\"Training R²:\", r2_train)\n",
    "print(\"Testing MSE:\", mse_test)\n",
    "print(\"Testing MAE:\", mae_test)\n",
    "print(\"Testing R²:\", r2_test)\n"
   ]
  },
  {
   "cell_type": "markdown",
   "id": "e28bae9a-6b60-41c3-a930-38975860e277",
   "metadata": {},
   "source": [
    "- The XGBoost model achieves a near-perfect fit on the training data but struggles with overfitting, as evidenced by the performance gap on the testing set. The model’s high complexity may be capturing noise in the training data, reducing its ability to generalize.\n"
   ]
  },
  {
   "cell_type": "markdown",
   "id": "ed22cbd2-4d28-4627-8be2-9117c5320d34",
   "metadata": {},
   "source": [
    "#### GridSearch XG Boosting"
   ]
  },
  {
   "cell_type": "code",
   "execution_count": 179,
   "id": "ed265f6c-2132-41a6-a0b4-4c9120b2c346",
   "metadata": {
    "scrolled": true
   },
   "outputs": [
    {
     "name": "stderr",
     "output_type": "stream",
     "text": [
      "/opt/anaconda3/lib/python3.11/site-packages/numpy/ma/core.py:2820: RuntimeWarning: invalid value encountered in cast\n",
      "  _data = np.array(data, dtype=dtype, copy=copy,\n"
     ]
    },
    {
     "name": "stdout",
     "output_type": "stream",
     "text": [
      "Grid Search XG Boosting Model:\n",
      "Best Parameters: {'xgb__alpha': 0, 'xgb__colsample_bytree': 0.7, 'xgb__lambda': 10, 'xgb__learning_rate': 0.1, 'xgb__max_depth': 5, 'xgb__n_estimators': 1000, 'xgb__subsample': 0.9}\n",
      "Best Cross-Validated R²: 0.297068806083178\n",
      "Training MSE: 5.873596536334163e-07\n",
      "Training MAE: 0.0004699893563539082\n",
      "Training R²: 0.9999995159517986\n",
      "Testing MSE: 0.626862280550113\n",
      "Testing MAE: 0.539203355057685\n",
      "Testing R²: 0.5564133000373217\n"
     ]
    }
   ],
   "source": [
    "# Define the parameter grid\n",
    "# Define parameter grid for hyperparameter tuning\n",
    "# Pipeline setup\n",
    "xg_pipeline = Pipeline(steps=[\n",
    "    #('preprocessor', column_transformer),\n",
    "    ('scaler', StandardScaler()),\n",
    "    ('xgb', XGBRegressor(random_state=42, alpha=1.5))\n",
    "])\n",
    "param_grid = {\n",
    "    'xgb__n_estimators': [100, 200,1000],\n",
    "    'xgb__learning_rate': [0.01, 0.05, 0.1],\n",
    "    'xgb__max_depth': [3, 5],\n",
    "    'xgb__subsample': [0.8, 0.9, 1.0],\n",
    "    'xgb__colsample_bytree': [0.7, 0.8, 1.0],\n",
    "    'xgb__lambda': [0, 1, 10],       # L2 regularization\n",
    "    'xgb__alpha': [0, 0.5, 1]        # L1 regularization\n",
    "}\n",
    "\n",
    "# Set up GridSearchCV\n",
    "grid_search = GridSearchCV(\n",
    "    xg_pipeline,\n",
    "    param_grid=param_grid,\n",
    "    cv=5,                             # 5-fold cross-validation\n",
    "                    \n",
    "    n_jobs=-1,                        # Use all available cores\n",
    "   \n",
    ")\n",
    "\n",
    "# Fit GridSearchCV to the training data\n",
    "# Fit with early stopping\n",
    "grid_search.fit(\n",
    "    X_train, y_train,\n",
    " \n",
    ")\n",
    "\n",
    "\n",
    "# Retrieve best parameters and score\n",
    "best_params = grid_search.best_params_\n",
    "best_score = grid_search.best_score_\n",
    "best_model = grid_search.best_estimator_\n",
    "\n",
    "y_train_pred = grid_search.best_estimator_.predict(X_train)\n",
    "y_test_pred = grid_search.best_estimator_.predict(X_test)\n",
    "# Evaluate the best model on the test set\n",
    "train_mse = mean_squared_error(y_train, y_train_pred)\n",
    "train_mae = mean_absolute_error(y_train, y_train_pred)\n",
    "train_r2 = r2_score(y_train, y_train_pred)\n",
    "test_mse = mean_squared_error(y_test, y_test_pred)\n",
    "test_mae = mean_absolute_error(y_test, y_test_pred)\n",
    "test_r2 = r2_score(y_test, y_test_pred)\n",
    "\n",
    "print(\"Grid Search XG Boosting Model:\")\n",
    "print(\"Best Parameters:\", best_params)\n",
    "\n",
    "print(\"Best Cross-Validated R²:\", best_score)\n",
    "\n",
    "print(\"Training MSE:\", train_mse)\n",
    "print(\"Training MAE:\", train_mae)\n",
    "print(\"Training R²:\", train_r2)\n",
    "print(\"Testing MSE:\", test_mse)\n",
    "print(\"Testing MAE:\", test_mae)\n",
    "print(\"Testing R²:\", test_r2)\n"
   ]
  },
  {
   "cell_type": "markdown",
   "id": "083babce-770c-4714-b025-506ca6001a9e",
   "metadata": {},
   "source": [
    "- The Grid Search-tuned XGBoost model performs better on testing data compared to earlier versions, achieving a balance between fit on training data and generalization on the test set. The high training performance still points to some overfitting, but the testing R² of 0.56 indicates a stronger model fit."
   ]
  },
  {
   "cell_type": "markdown",
   "id": "33bb5542-57a8-4f71-bc8d-c1e4cb919d45",
   "metadata": {},
   "source": [
    "---"
   ]
  },
  {
   "cell_type": "markdown",
   "id": "ed1ff9b7-76ff-4c35-9e7f-0f733fc773c2",
   "metadata": {},
   "source": [
    "### SVM"
   ]
  },
  {
   "cell_type": "code",
   "execution_count": 183,
   "id": "0ae70e19-31dc-42e6-b8fb-407dc9f334a1",
   "metadata": {},
   "outputs": [
    {
     "name": "stdout",
     "output_type": "stream",
     "text": [
      "SVM Model:\n",
      "Training MSE: 1.13168919688562\n",
      "Training MAE: 0.6174990284728299\n",
      "Training R²: 0.06736508553234166\n",
      "Testing MSE: 1.5416087790067015\n",
      "Testing MAE: 0.8035342663611563\n",
      "Testing R²: 0.5564133000373217\n"
     ]
    }
   ],
   "source": [
    "\n",
    "\n",
    "# Define the SVM pipeline with scaling\n",
    "svm_pipeline = Pipeline([\n",
    "    #('preprocessor', column_transformer),\n",
    "    ('scaler', StandardScaler()),       # Scale features for SVR\n",
    "    ('svr', SVR(kernel='linear',C=1.0, epsilon=0.1)   ) # Basic SVR model with default parameters\n",
    "])\n",
    "\n",
    "\n",
    "# Fit the pipeline on the training data\n",
    "svm_pipeline.fit(X_train, y_train)\n",
    "\n",
    "# Make predictions on training and testing sets\n",
    "\n",
    "y_train_pred = svm_pipeline.predict(X_train)\n",
    "y_test_pred = svm_pipeline.predict(X_test)\n",
    "\n",
    "# Evaluate the model performance\n",
    "train_mse = mean_squared_error(y_train, y_train_pred)\n",
    "train_mae = mean_absolute_error(y_train, y_train_pred)\n",
    "train_r2 = r2_score(y_train, y_train_pred)\n",
    "\n",
    "test_mse = mean_squared_error(y_test, y_test_pred)\n",
    "test_mae = mean_absolute_error(y_test, y_test_pred)\n",
    "test_r2_log = r2_score(y_test, y_test_pred)\n",
    "\n",
    "\n",
    "print(\"SVM Model:\")\n",
    "print(\"Training MSE:\", train_mse)\n",
    "print(\"Training MAE:\", train_mae)\n",
    "print(\"Training R²:\", train_r2)\n",
    "print(\"Testing MSE:\", test_mse)\n",
    "print(\"Testing MAE:\", test_mae)\n",
    "print(\"Testing R²:\", test_r2)\n"
   ]
  },
  {
   "cell_type": "markdown",
   "id": "b0399b6d-ccd5-411d-9a45-8bcf8a108a74",
   "metadata": {},
   "source": [
    "- The SVM model appears to be underfitting, as it has a low R² on the training data but still performs moderately on the test set. This pattern suggests the model may lack complexity, as it fails to capture enough detail in the training data, leading to limited predictive power"
   ]
  },
  {
   "cell_type": "markdown",
   "id": "f0f23569-162b-4071-9df4-52ba3410694c",
   "metadata": {},
   "source": [
    "#### GridSearch SVM"
   ]
  },
  {
   "cell_type": "code",
   "execution_count": 186,
   "id": "101b2295-b80c-4ac6-b9ed-29ee35e6bb5d",
   "metadata": {},
   "outputs": [
    {
     "name": "stdout",
     "output_type": "stream",
     "text": [
      "Fitting 5 folds for each of 18 candidates, totalling 90 fits\n",
      "Grid Search SVM Model:\n",
      "Best Parameters: {'svr__C': 10, 'svr__epsilon': 0.01, 'svr__kernel': 'rbf'}\n",
      "Best Cross-Validated R²: 0.37867537830788806\n",
      "Training MSE: 0.3094663527441867\n",
      "Training MAE: 0.1541475465474648\n",
      "Training R²: 0.7449660859037399\n",
      "Testing MSE: 1.1192332816023314\n",
      "Testing MAE: 0.6433542891964723\n",
      "Testing R²: 0.20799669516135844\n"
     ]
    }
   ],
   "source": [
    "# Define the parameter grid for GridSearchCV\n",
    "param_grid = {\n",
    "    'svr__C': [0.1, 1, 10],              # Regularization strength\n",
    "    'svr__epsilon': [0.01, 0.1, 0.5],    # Insensitivity margin\n",
    "    'svr__kernel': ['linear', 'rbf']      # Kernels to test\n",
    "}\n",
    "\n",
    "# Set up GridSearchCV with cross-validation\n",
    "grid_search = GridSearchCV(svm_pipeline, param_grid, cv=5, scoring='r2', verbose=1, n_jobs=-1)\n",
    "\n",
    "# Fit GridSearchCV to the training data\n",
    "grid_search.fit(X_train, y_train)\n",
    "\n",
    "# Retrieve the best parameters and score\n",
    "best_params = grid_search.best_params_\n",
    "best_score = grid_search.best_score_\n",
    "best_model = grid_search.best_estimator_\n",
    "# Make predictions with the best estimator on the test set\n",
    "y_train_pred = grid_search.best_estimator_.predict(X_train)\n",
    "y_test_pred= grid_search.best_estimator_.predict(X_test)\n",
    "\n",
    "# Evaluate the model on the test set\n",
    "train_mse = mean_squared_error(y_train, y_train_pred)\n",
    "train_mae = mean_absolute_error(y_train, y_train_pred)\n",
    "train_r2 = r2_score(y_train, y_train_pred)\n",
    "test_mse = mean_squared_error(y_test, y_test_pred)\n",
    "test_mae = mean_absolute_error(y_test, y_test_pred)\n",
    "test_r2 = r2_score(y_test, y_test_pred)\n",
    "\n",
    "print(\"Grid Search SVM Model:\")\n",
    "print(\"Best Parameters:\", best_params)\n",
    "print(\"Best Cross-Validated R²:\", best_score)\n",
    "\n",
    "print(\"Training MSE:\", train_mse)\n",
    "print(\"Training MAE:\", train_mae)\n",
    "print(\"Training R²:\", train_r2)\n",
    "print(\"Testing MSE:\", test_mse)\n",
    "print(\"Testing MAE:\", test_mae)\n",
    "print(\"Testing R²:\", test_r2)"
   ]
  },
  {
   "cell_type": "markdown",
   "id": "bda30dc7-b3ad-4b06-a992-c63879cfe4ea",
   "metadata": {},
   "source": [
    "- The Grid Search-tuned SVM model shows improved fit on the training data, but the testing performance indicates some overfitting, with an R² of 0.21 on unseen data. This suggests that while the optimized model captures the training patterns better than before, it still struggles to generalize effectively."
   ]
  },
  {
   "cell_type": "markdown",
   "id": "99f87ded-cb54-49ad-86a5-a8904ed687a5",
   "metadata": {},
   "source": [
    "---"
   ]
  },
  {
   "cell_type": "markdown",
   "id": "cb52b21e-4a31-4774-965a-fc85d20b18ed",
   "metadata": {},
   "source": [
    "### Stacking"
   ]
  },
  {
   "cell_type": "code",
   "execution_count": 190,
   "id": "36a8ad6a-24db-42e7-82c9-785024719203",
   "metadata": {},
   "outputs": [
    {
     "name": "stdout",
     "output_type": "stream",
     "text": [
      "Stacking Model:\n",
      "Training MSE: 0.12533692507606764\n",
      "Training MAE: 0.23409477770376722\n",
      "Training R²: 0.8967087494343449\n",
      "Testing MSE: 0.6731602148875476\n",
      "Testing MAE: 0.5671465220803918\n",
      "Testing R²: 0.5236514820989242\n"
     ]
    }
   ],
   "source": [
    "# Define base models and meta model\n",
    "base_models = [\n",
    "    ('gradient_boosting', GradientBoostingRegressor(learning_rate=0.05, max_depth=4, n_estimators=500, random_state=42,min_samples_leaf= 1,min_samples_split= 5)),\n",
    "    ('random_forest', RandomForestRegressor(ccp_alpha=0.1,n_estimators=50, max_depth=7,random_state=42,min_samples_leaf= 4,min_samples_split= 8)),\n",
    "   ('lasso', Lasso(alpha=0.1, max_iter=10000))\n",
    "]\n",
    "\n",
    "\n",
    "meta_model = Ridge(alpha=1.0)\n",
    "\n",
    "\n",
    "# Define the stacking regressor\n",
    "stacked_ensemble = StackingRegressor(estimators=base_models, final_estimator=meta_model, cv=5)\n",
    "\n",
    "# Create pipeline with stacking ensemble\n",
    "stacking_pipeline = Pipeline(steps=[\n",
    "    #('preprocessor', column_transformer),\n",
    "    ('scaler', StandardScaler()),\n",
    "    ('stacked_model', stacked_ensemble)\n",
    "])\n",
    "\n",
    "# Fit GridSearchCV on the training data to find the best parameters\n",
    "stacking_pipeline.fit(X_train, y_train)\n",
    "\n",
    "\n",
    "# Evaluate the stacked model on the test data\n",
    "y_train_pred = stacking_pipeline.predict(X_train)\n",
    "y_test_pred= stacking_pipeline.predict(X_test)\n",
    "\n",
    "ensemble_train_score = stacking_pipeline.score(X_train, y_train)\n",
    "ensemble_test_score = stacking_pipeline.score(X_test, y_test)\n",
    "\n",
    "# Evaluate the model on the test set\n",
    "train_mse = mean_squared_error(y_train, y_train_pred)\n",
    "train_mae = mean_absolute_error(y_train, y_train_pred)\n",
    "train_r2 = r2_score(y_train, y_train_pred)\n",
    "test_mse = mean_squared_error(y_test, y_test_pred)\n",
    "test_mae = mean_absolute_error(y_test, y_test_pred)\n",
    "test_r2 = r2_score(y_test, y_test_pred)\n",
    "\n",
    "\n",
    "print(\"Stacking Model:\")\n",
    "print(\"Training MSE:\", train_mse)\n",
    "print(\"Training MAE:\", train_mae)\n",
    "print(\"Training R²:\", train_r2)\n",
    "print(\"Testing MSE:\", test_mse)\n",
    "print(\"Testing MAE:\", test_mae)\n",
    "print(\"Testing R²:\", test_r2)"
   ]
  },
  {
   "cell_type": "markdown",
   "id": "ad5f77b6-9050-4228-b388-1427027da542",
   "metadata": {},
   "source": [
    "- The Stacking model performs strongly, achieving high accuracy on the training data while retaining relatively good generalization on the test set. Although there’s a performance gap between training and testing metrics, the model does a better job of balancing fit and generalization."
   ]
  },
  {
   "cell_type": "markdown",
   "id": "7d55b479-463a-4797-a5ba-ebb32a5a65d4",
   "metadata": {},
   "source": [
    "---"
   ]
  },
  {
   "cell_type": "markdown",
   "id": "17c3b6bd-8de0-42fe-b6a7-03a9fa39a7b5",
   "metadata": {},
   "source": [
    "### Bagging XGBoost"
   ]
  },
  {
   "cell_type": "code",
   "execution_count": 194,
   "id": "8d8f5962-7b10-4895-bc81-f94ad888677a",
   "metadata": {},
   "outputs": [
    {
     "name": "stdout",
     "output_type": "stream",
     "text": [
      "Bagging XGBoost Model:\n",
      "Training MSE: 0.12533692507606764\n",
      "Training MAE: 0.23409477770376722\n",
      "Training R²: 0.8967087494343449\n",
      "Testing MSE: 0.6731602148875476\n",
      "Testing MAE: 0.5671465220803918\n",
      "Testing R²: 0.5236514820989242\n"
     ]
    }
   ],
   "source": [
    "# Initialize XGBoost Regressor\n",
    "xgb_regressor = XGBRegressor(n_estimators=100, learning_rate=0.1, max_depth=3)\n",
    "\n",
    "# Set up Bagging with XGBoost as the base estimator\n",
    "bagging_xgb = BaggingRegressor(\n",
    "    estimator=xgb_regressor,\n",
    "    n_estimators=10,          # Number of XGBoost models in the ensemble\n",
    "    max_samples=0.8,          # Fraction of data used for each bootstrapped sample\n",
    "    max_features=1.0,         # Fraction of features used for each model\n",
    "    bootstrap=True,           # Bootstrapping samples\n",
    "    n_jobs=-1,                # Use all processors\n",
    "    random_state=42\n",
    ")\n",
    "\n",
    "# Train the bagging ensemble\n",
    "bagging_xgb.fit(X_train, y_train)\n",
    "\n",
    "# Make predictions\n",
    "\n",
    "y_train_pred = stacking_pipeline.predict(X_train)\n",
    "y_test_pred= stacking_pipeline.predict(X_test)\n",
    "\n",
    "\n",
    "# Evaluate the model on the test set\n",
    "train_mse = mean_squared_error(y_train, y_train_pred)\n",
    "train_mae = mean_absolute_error(y_train, y_train_pred)\n",
    "train_r2 = r2_score(y_train, y_train_pred)\n",
    "test_mse = mean_squared_error(y_test, y_test_pred)\n",
    "test_mae = mean_absolute_error(y_test, y_test_pred)\n",
    "test_r2 = r2_score(y_test, y_test_pred)\n",
    "print(\"Bagging XGBoost Model:\")\n",
    "print(\"Training MSE:\", train_mse)\n",
    "print(\"Training MAE:\", train_mae)\n",
    "print(\"Training R²:\", train_r2)\n",
    "print(\"Testing MSE:\", test_mse)\n",
    "print(\"Testing MAE:\", test_mae)\n",
    "print(\"Testing R²:\", test_r2)\n",
    "\n"
   ]
  },
  {
   "cell_type": "markdown",
   "id": "1f01f7a5-e0b9-49cb-95e8-d02fc5c965e7",
   "metadata": {},
   "source": [
    "- The Bagging XGBoost model performs well, capturing much of the variance in the training set and showing a reasonable level of generalization on the test set. The R² score of 0.52 on testing data suggests that the model is more robust than individual models like standard XGBoost alone ."
   ]
  },
  {
   "cell_type": "markdown",
   "id": "26fdde2c-0cb2-4778-963d-9d06aeb6c62e",
   "metadata": {},
   "source": [
    "---"
   ]
  },
  {
   "cell_type": "code",
   "execution_count": null,
   "id": "68a23994-afe5-4763-b151-54d287f78c20",
   "metadata": {},
   "outputs": [],
   "source": []
  }
 ],
 "metadata": {
  "kernelspec": {
   "display_name": "Python 3 (ipykernel)",
   "language": "python",
   "name": "python3"
  },
  "language_info": {
   "codemirror_mode": {
    "name": "ipython",
    "version": 3
   },
   "file_extension": ".py",
   "mimetype": "text/x-python",
   "name": "python",
   "nbconvert_exporter": "python",
   "pygments_lexer": "ipython3",
   "version": "3.11.9"
  }
 },
 "nbformat": 4,
 "nbformat_minor": 5
}
