{
 "cells": [
  {
   "cell_type": "markdown",
   "id": "e22b2371-5c81-4934-9a3c-1eaadf299efe",
   "metadata": {},
   "source": [
    "# Notebook Title\n",
    "---\n",
    "Description"
   ]
  },
  {
   "cell_type": "markdown",
   "id": "8fcfeeb1-d8bc-4180-921d-3f746240efa8",
   "metadata": {},
   "source": [
    "---\n",
    "## Notebook Section"
   ]
  },
  {
   "cell_type": "markdown",
   "id": "24afbd21-abb3-4914-8ac6-58e5701fd9ab",
   "metadata": {},
   "source": [
    "### Notebook Subsection"
   ]
  },
  {
   "cell_type": "markdown",
   "id": "bfed4070-539d-4f83-9356-eba51b484091",
   "metadata": {},
   "source": [
    "Markdown commentary."
   ]
  },
  {
   "cell_type": "code",
   "execution_count": null,
   "id": "ae6a7272-4668-43eb-bccc-2d31c1552f75",
   "metadata": {},
   "outputs": [],
   "source": []
  },
  {
   "cell_type": "code",
   "execution_count": 33,
   "id": "3640f78a-61f3-41b6-991c-6484954e083c",
   "metadata": {},
   "outputs": [
    {
     "ename": "NameError",
     "evalue": "name 'feature_names' is not defined",
     "output_type": "error",
     "traceback": [
      "\u001b[0;31m---------------------------------------------------------------------------\u001b[0m",
      "\u001b[0;31mNameError\u001b[0m                                 Traceback (most recent call last)",
      "Cell \u001b[0;32mIn[33], line 2\u001b[0m\n\u001b[1;32m      1\u001b[0m \u001b[38;5;66;03m# Fit your model\u001b[39;00m\n\u001b[0;32m----> 2\u001b[0m X_train_df \u001b[38;5;241m=\u001b[39m pd\u001b[38;5;241m.\u001b[39mDataFrame(X_train, columns\u001b[38;5;241m=\u001b[39mfeature_names)\n\u001b[1;32m      5\u001b[0m \u001b[38;5;66;03m# Access the coefficients (assuming SVR model in a regression task)\u001b[39;00m\n\u001b[1;32m      6\u001b[0m coefficients \u001b[38;5;241m=\u001b[39m svm_pipeline\u001b[38;5;241m.\u001b[39mnamed_steps[\u001b[38;5;124m'\u001b[39m\u001b[38;5;124msvr\u001b[39m\u001b[38;5;124m'\u001b[39m]\u001b[38;5;241m.\u001b[39mcoef_[\u001b[38;5;241m0\u001b[39m]  \u001b[38;5;66;03m# For SVR, coef_ is usually in a nested array\u001b[39;00m\n",
      "\u001b[0;31mNameError\u001b[0m: name 'feature_names' is not defined"
     ]
    }
   ],
   "source": [
    "# Calculate the mean and median baselines for `total_crime_count`\n",
    "mean_baseline = y_raw.mean()\n",
    "median_baseline = y_raw.median()\n",
    "\n",
    "# Generate predictions using mean and median baselines\n",
    "y_mean_baseline_pred = [mean_baseline] * len(y_raw)\n",
    "y_median_baseline_pred = [median_baseline] * len(y_raw)\n",
    "\n",
    "# Calculate MSE and R² for mean baseline\n",
    "mse_mean_baseline = mean_squared_error(y_raw, y_mean_baseline_pred)\n",
    "r2_mean_baseline = r2_score(y_raw, y_mean_baseline_pred)\n",
    "\n",
    "# Calculate MSE and R² for median baseline\n",
    "mse_median_baseline = mean_squared_error(y_raw, y_median_baseline_pred)\n",
    "r2_median_baseline = r2_score(y_raw, y_median_baseline_pred)\n",
    "\n",
    "(mse_mean_baseline, r2_mean_baseline), (mse_median_baseline, r2_median_baseline)\n"
   ]
  }
 ],
 "metadata": {
  "kernelspec": {
   "display_name": "Python 3 (ipykernel)",
   "language": "python",
   "name": "python3"
  },
  "language_info": {
   "codemirror_mode": {
    "name": "ipython",
    "version": 3
   },
   "file_extension": ".py",
   "mimetype": "text/x-python",
   "name": "python",
   "nbconvert_exporter": "python",
   "pygments_lexer": "ipython3",
   "version": "3.11.9"
  }
 },
 "nbformat": 4,
 "nbformat_minor": 5
}
