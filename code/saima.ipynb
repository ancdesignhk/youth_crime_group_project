{
 "cells": [
  {
   "cell_type": "markdown",
   "id": "8d06af95-2663-49a7-ae92-3040d4376ef9",
   "metadata": {},
   "source": [
    "## Load Dataset"
   ]
  },
  {
   "cell_type": "code",
   "execution_count": 74,
   "id": "99166d74-d0d9-4717-ba0e-ec60aa5479b1",
   "metadata": {},
   "outputs": [],
   "source": [
    "import pandas as pd\n",
    "import numpy as np\n",
    "import seaborn as sns\n",
    "import matplotlib.pyplot as plt\n",
    "import random\n",
    "# Set seed\n",
    "np.random.seed(42)\n",
    "random.seed(42)\n",
    "from sklearn.model_selection import train_test_split,cross_val_score,GridSearchCV\n",
    "from sklearn.ensemble import GradientBoostingRegressor\n",
    "from sklearn.pipeline import Pipeline\n",
    "from sklearn.preprocessing import StandardScaler\n",
    "from xgboost import XGBRegressor\n",
    "from sklearn.metrics import mean_squared_error, mean_absolute_error, r2_score\n",
    "from sklearn.svm import SVR\n",
    "from sklearn.compose import ColumnTransformer\n",
    "from sklearn.preprocessing import OrdinalEncoder,OneHotEncoder\n",
    "from sklearn.linear_model import Ridge,Lasso\n",
    "from sklearn.ensemble import RandomForestRegressor\n",
    "from sklearn.ensemble import StackingRegressor\n",
    "from sklearn.ensemble import BaggingRegressor\n",
    "from sklearn.multioutput import MultiOutputRegressor\n",
    "from sklearn.linear_model import SGDRegressor\n",
    "from sklearn.ensemble import RandomForestRegressor,ExtraTreesRegressor"
   ]
  },
  {
   "cell_type": "code",
   "execution_count": 75,
   "id": "56d2c3af-b660-4fec-9f4f-2add746561d8",
   "metadata": {},
   "outputs": [
    {
     "data": {
      "text/plain": [
       "(312, 34)"
      ]
     },
     "execution_count": 75,
     "metadata": {},
     "output_type": "execute_result"
    }
   ],
   "source": [
    "data = pd.read_csv('../data/data.csv')\n",
    "#data= pd.read_csv('../data/data_engineered.csv')\n",
    "data.head()\n",
    "data.shape"
   ]
  },
  {
   "cell_type": "markdown",
   "id": "d6b90d82-e8ee-4acc-a511-0de3e6c60711",
   "metadata": {},
   "source": [
    "### Features and Target Variable"
   ]
  },
  {
   "cell_type": "code",
   "execution_count": 77,
   "id": "8e7b80a7-e989-4e49-a952-1c995c7e086e",
   "metadata": {},
   "outputs": [],
   "source": [
    "# Define features (X) and target variable (y)\n",
    "\n",
    "# columns to exclude: population-related and crime-related features\n",
    "crime_related_columns = [\n",
    "    'count:__crimes_against_society', \n",
    "    'count:__fraud_and_other_financial_crimes', \n",
    "    'count:__property_crime', \n",
    "    'count:__violent_crime',\n",
    "    'rate:__crimes_against_society', \n",
    "    'rate:__fraud_and_other_financial_crimes', \n",
    "    'rate:__property_crime', \n",
    "    'rate:__violent_crime',\n",
    "    'total_crime_count',\n",
    "    'total_crime_rate',\n",
    "    'log_total_crime_rate'\n",
    "]\n",
    "\n",
    "population_related_columns = [\n",
    "    'total_pop',\n",
    "    'white_pop',\n",
    "    'black_pop',\n",
    "    'hispanic_pop',\n",
    "    'asian_pop',\n",
    "    'native_pop',\n",
    "    'islander_pop',\n",
    "    'multi_race_pop',\n",
    "    'state'\n",
    "]\n",
    "\n",
    "#features to keep: exclude population-related and crime-related features\n",
    "X = data.drop(columns=crime_related_columns + population_related_columns)\n",
    "\n",
    "y = data['log_total_crime_rate']"
   ]
  },
  {
   "cell_type": "markdown",
   "id": "81196f16-6a5b-45f5-ae5a-9e25949a9d0b",
   "metadata": {},
   "source": [
    "### Train-Test Split"
   ]
  },
  {
   "cell_type": "code",
   "execution_count": 79,
   "id": "22660856-3425-4d7f-a60e-18df3856286c",
   "metadata": {},
   "outputs": [
    {
     "name": "stdout",
     "output_type": "stream",
     "text": [
      "X_train shape: (249, 14)\n",
      "X_test shape: (63, 14)\n",
      "y_train shape: (249,)\n",
      "y_test shape: (63,)\n"
     ]
    }
   ],
   "source": [
    "X_train, X_test, y_train, y_test = train_test_split(X, y, random_state = 42, test_size = 0.2)\n",
    "\n",
    "\n",
    "print(f'X_train shape: {X_train.shape}')\n",
    "print(f'X_test shape: {X_test.shape}')\n",
    "print(f'y_train shape: {y_train.shape}')\n",
    "print(f'y_test shape: {y_test.shape}')"
   ]
  },
  {
   "cell_type": "markdown",
   "id": "c45e645d-2012-47a6-aaec-00270a4530b0",
   "metadata": {},
   "source": [
    "-----"
   ]
  },
  {
   "cell_type": "markdown",
   "id": "9c4c8ebe-3f37-435e-81c9-6cfa971db8c1",
   "metadata": {},
   "source": [
    "## Create Models"
   ]
  },
  {
   "cell_type": "markdown",
   "id": "534b29c2-70d2-4d22-8edf-5fa88ac0c807",
   "metadata": {},
   "source": [
    "### Gradient Boosting"
   ]
  },
  {
   "cell_type": "code",
   "execution_count": 83,
   "id": "9755969e-833f-4876-94f4-f1566c6ca713",
   "metadata": {
    "scrolled": true
   },
   "outputs": [
    {
     "name": "stdout",
     "output_type": "stream",
     "text": [
      "Gradient Boosting Model:\n",
      "Training MSE: 0.05930849309891239\n",
      "Training MAE: 0.18147241939062128\n",
      "Training R²: 0.951123354768491\n",
      "Testing MSE: 0.8149935343370894\n",
      "Testing MAE: 0.6045027062882075\n",
      "Testing R²: 0.42328593759022903\n"
     ]
    }
   ],
   "source": [
    "\n",
    "\n",
    "# Pipeline setup\n",
    "gb_pipeline = Pipeline(steps=[\n",
    "   #('preprocessor', column_transformer),\n",
    "    ('gb', GradientBoostingRegressor(random_state=42))\n",
    "])\n",
    "\n",
    "# Fit the pipeline to the training data\n",
    "gb_pipeline.fit(X_train, y_train)\n",
    "\n",
    "# Predict on training and testing data\n",
    "y_train_pred = gb_pipeline.predict(X_train)\n",
    "y_test_pred = gb_pipeline.predict(X_test)\n",
    "\n",
    "# Calculate training and testing scoresa\n",
    "train_mse = mean_squared_error(y_train, y_train_pred)\n",
    "train_mae = mean_absolute_error(y_train, y_train_pred)\n",
    "train_r2 = r2_score(y_train, y_train_pred)\n",
    "\n",
    "test_mse = mean_squared_error(y_test, y_test_pred)\n",
    "test_mae = mean_absolute_error(y_test, y_test_pred)\n",
    "test_r2 = r2_score(y_test, y_test_pred)\n",
    "\n",
    "print(\"Gradient Boosting Model:\")\n",
    "print(\"Training MSE:\", train_mse)\n",
    "print(\"Training MAE:\", train_mae)\n",
    "print(\"Training R²:\", train_r2)\n",
    "\n",
    "print(\"Testing MSE:\", test_mse)\n",
    "print(\"Testing MAE:\", test_mae)\n",
    "print(\"Testing R²:\", test_r2)"
   ]
  },
  {
   "cell_type": "markdown",
   "id": "e45ba7e6-e5a9-43c3-a3f0-e9677f00c94f",
   "metadata": {},
   "source": [
    "- The model performs extremely well on the training data, with a very low MSE and MAE, and an R² of 0.95. This high R² score indicates that the model captures nearly all of the variance in the training set, suggesting a strong fit.\n",
    "- While the model generalizes better than previous models, it still shows some overfitting, as indicated by the drop in R² to 0.42 on the testing set. This means the model explains 42% of the variance in unseen data."
   ]
  },
  {
   "cell_type": "markdown",
   "id": "7da6cdf4-93fc-4eef-ab92-12aba0489aa5",
   "metadata": {},
   "source": [
    "#### Grid Search Gradient Boosting"
   ]
  },
  {
   "cell_type": "code",
   "execution_count": 86,
   "id": "ecc5bd33-0d64-4fa2-91dd-373f0fcd7761",
   "metadata": {},
   "outputs": [
    {
     "name": "stdout",
     "output_type": "stream",
     "text": [
      "Fitting 5 folds for each of 1440 candidates, totalling 7200 fits\n",
      "Best Parameters: {'gb__learning_rate': 0.05, 'gb__max_depth': 4, 'gb__min_samples_leaf': 2, 'gb__min_samples_split': 15, 'gb__n_estimators': 500, 'gb__subsample': 0.6}\n",
      "Best Cross-Validated MSE: 0.2811824561736441\n"
     ]
    }
   ],
   "source": [
    "# Define the parameter grid for Gradient Boosting\n",
    "param_grid = {\n",
    "    'gb__n_estimators': [200, 300,400,500],\n",
    "    'gb__max_depth': [3, 4],\n",
    "    'gb__learning_rate': [0.01, 0.05, 0.1,0.2,0.3],\n",
    "    'gb__min_samples_split': [2, 5, 10,15],\n",
    "    'gb__min_samples_leaf': [1, 2, 4],\n",
    "    'gb__subsample': [0.6, 0.8, 1.0]\n",
    "}\n",
    "\n",
    "# Setup GridSearchCV with the pipeline and parameter grid\n",
    "grid_search = GridSearchCV(gb_pipeline, param_grid=param_grid, cv=5, scoring='r2', n_jobs=-1, verbose=1)\n",
    "\n",
    "# Fit GridSearchCV on the training data\n",
    "grid_search.fit(X_train, y_train)\n",
    "\n",
    "# Best parameters from grid search\n",
    "best_params = grid_search.best_params_\n",
    "best_score = grid_search.best_score_ \n",
    "\n",
    "print(\"Best Parameters:\", best_params)\n",
    "print(\"Best Cross-Validated MSE:\", best_score)\n"
   ]
  },
  {
   "cell_type": "code",
   "execution_count": 87,
   "id": "26faaa88-a5b8-4328-b619-03a0f9d54a7c",
   "metadata": {},
   "outputs": [
    {
     "name": "stdout",
     "output_type": "stream",
     "text": [
      "Pipeline(steps=[('gb',\n",
      "                 GradientBoostingRegressor(learning_rate=0.05, max_depth=4,\n",
      "                                           min_samples_leaf=2,\n",
      "                                           min_samples_split=15,\n",
      "                                           n_estimators=500, random_state=42,\n",
      "                                           subsample=0.6))])\n",
      "Best Parameters: {'gb__learning_rate': 0.05, 'gb__max_depth': 4, 'gb__min_samples_leaf': 2, 'gb__min_samples_split': 15, 'gb__n_estimators': 500, 'gb__subsample': 0.6}\n",
      "Grid Search Gradient Boosting Model:\n",
      "Best Cross-Validated R²: 0.2811824561736441\n",
      "Training MSE: 0.0026985479439003666\n",
      "Training MAE: 0.040489987866439675\n",
      "Training R²: 0.997776103158206\n",
      "Testing MSE: 0.8442135388400297\n",
      "Testing MAE: 0.6349928029164839\n",
      "Testing R²: 0.4026089790739513\n"
     ]
    }
   ],
   "source": [
    "# Predict on training and testing data\n",
    "best_model = grid_search.best_estimator_\n",
    "print(best_model)\n",
    "y_train_pred = best_model.predict(X_train)\n",
    "y_test_pred = best_model.predict(X_test)\n",
    "\n",
    "\n",
    "# Calculate training and testing scores\n",
    "train_mse = mean_squared_error(y_train, y_train_pred)\n",
    "train_mae = mean_absolute_error(y_train, y_train_pred)\n",
    "train_r2 = r2_score(y_train, y_train_pred)\n",
    "\n",
    "test_mse = mean_squared_error(y_test, y_test_pred)\n",
    "test_mae = mean_absolute_error(y_test, y_test_pred)\n",
    "test_r2 = r2_score(y_test, y_test_pred)\n",
    "#print(\"Training Scores:\")\n",
    "#print(f\"MSE: {train_mse}, MAE: {train_mae}, R2: {train_r2}\")\n",
    "\n",
    "#print(\"\\nTesting Scores:\")\n",
    "#print(f\"MSE: {test_mse}, MAE: {test_mae}, R2: {test_r2}\")\n",
    "\n",
    "\n",
    "#print(\"\\nCross-Validation Scores (averaged across 5 folds):\")\n",
    "#print(f\" R2: {np.mean(cv_r2)}\")\n",
    "\n",
    "print(\"Best Parameters:\", best_params)\n",
    "print(\"Grid Search Gradient Boosting Model:\")\n",
    "print(\"Best Cross-Validated R²:\", best_score)\n",
    "print(\"Training MSE:\", train_mse)\n",
    "print(\"Training MAE:\", train_mae)\n",
    "print(\"Training R²:\", train_r2)\n",
    "print(\"Testing MSE:\", test_mse)\n",
    "print(\"Testing MAE:\", test_mae)\n",
    "print(\"Testing R²:\", test_r2)\n"
   ]
  },
  {
   "cell_type": "markdown",
   "id": "3f301f55-1404-45cb-aa68-959c44357fed",
   "metadata": {},
   "source": [
    " The Grid Search-tuned Gradient Boosting model demonstrates high accuracy on the training data, but a performance drop on testing data indicates overfitting. The model's parameters allow for a complex structure that captures training patterns very well but struggles to generalize fully."
   ]
  },
  {
   "cell_type": "code",
   "execution_count": 89,
   "id": "bcd68d4a-21d7-4f32-b5dd-76baabe7fee8",
   "metadata": {},
   "outputs": [
    {
     "data": {
      "image/png": "[encoded data removed]",
      "text/plain": [
       "<Figure size 1000x600 with 1 Axes>"
      ]
     },
     "metadata": {},
     "output_type": "display_data"
    }
   ],
   "source": [
    "\n",
    "feature_importances = best_model.named_steps['gb'].feature_importances_\n",
    "\n",
    "# Combine feature names and their corresponding importances\n",
    "feature_importance_df = pd.DataFrame({\n",
    "    'feature': X_train.columns,\n",
    "    'importance': feature_importances\n",
    "}).sort_values(by='importance', ascending=False)\n",
    "\n",
    "# Plot the feature importances in a graph\n",
    "plt.figure(figsize=(10, 6))\n",
    "\n",
    "# Select the top 15 features for visualization\n",
    "top_features = feature_importance_df.head(15)\n",
    "plt.barh(top_features['feature'], top_features['importance'], color='skyblue')\n",
    "plt.xlabel('Importance')\n",
    "plt.title('Top 15 Feature Importances from Best Gradient Boosting Model (After GridSearchCV)')\n",
    "plt.gca().invert_yaxis()  # Invert y-axis for better readability\n",
    "\n",
    "plt.tight_layout()\n"
   ]
  },
  {
   "cell_type": "markdown",
   "id": "2ecd51e5-66a8-44c7-83db-69a7bfe74b9f",
   "metadata": {},
   "source": [
    "------"
   ]
  },
  {
   "cell_type": "markdown",
   "id": "b5c81eac-a87d-42fd-aa68-cb734a783b7d",
   "metadata": {},
   "source": [
    "###  XG Boosting"
   ]
  },
  {
   "cell_type": "code",
   "execution_count": 92,
   "id": "1f002e76-5b8e-4441-8160-e3b0197d79ae",
   "metadata": {
    "scrolled": true
   },
   "outputs": [
    {
     "name": "stdout",
     "output_type": "stream",
     "text": [
      "XG Boosting Model:\n",
      "Training MSE: 0.020287777270374736\n",
      "Training MAE: 0.09377750878110235\n",
      "Training R²: 0.9832806662188124\n",
      "Testing MSE: 0.9514530191439043\n",
      "Testing MAE: 0.6641730037952681\n",
      "Testing R²: 0.3267230809274516\n"
     ]
    }
   ],
   "source": [
    "# Pipeline setup\n",
    "xg_pipeline = Pipeline(steps=[\n",
    "    #('preprocessor', column_transformer),\n",
    "    ('scaler', StandardScaler()),\n",
    "    ('xgb', XGBRegressor(random_state=42, alpha=1.5))\n",
    "])\n",
    "\n",
    "\n",
    "# Training the base model\n",
    "xg_pipeline.fit(X_train, y_train)\n",
    "\n",
    "# Making predictions on training and testing sets\n",
    "y_train_pred = xg_pipeline.predict(X_train)\n",
    "y_test_pred = xg_pipeline.predict(X_test)\n",
    "\n",
    "# Evaluating the model on training, validation, and testing sets\n",
    "mse_train = mean_squared_error(y_train, y_train_pred)\n",
    "mae_train = mean_absolute_error(y_train, y_train_pred)\n",
    "r2_train= r2_score(y_train, y_train_pred)\n",
    "\n",
    "\n",
    "mse_test = mean_squared_error(y_test, y_test_pred)\n",
    "mae_test= mean_absolute_error(y_test, y_test_pred)\n",
    "r2_test = r2_score(y_test, y_test_pred)\n",
    "\n",
    "\n",
    "print(\"XG Boosting Model:\")\n",
    "print(\"Training MSE:\", mse_train)\n",
    "print(\"Training MAE:\", mae_train)\n",
    "print(\"Training R²:\", r2_train)\n",
    "print(\"Testing MSE:\", mse_test)\n",
    "print(\"Testing MAE:\", mae_test)\n",
    "print(\"Testing R²:\", r2_test)\n",
    "\n"
   ]
  },
  {
   "cell_type": "markdown",
   "id": "aa95cbbb-7866-4c25-abcb-7cc16136df88",
   "metadata": {},
   "source": [
    "- The XGBoost model achieves a near-perfect fit on the training data but struggles with overfitting, as evidenced by the performance gap on the testing set. The model’s high complexity may be capturing noise in the training data, reducing its ability to generalize.\n",
    "\n"
   ]
  },
  {
   "cell_type": "markdown",
   "id": "f61c3840-59f0-445d-94e3-e9fa17c0fc82",
   "metadata": {},
   "source": [
    "#### GridSearch XG Boosting"
   ]
  },
  {
   "cell_type": "code",
   "execution_count": 95,
   "id": "11496f39-1587-496d-ac6d-5445eb715c03",
   "metadata": {},
   "outputs": [
    {
     "name": "stdout",
     "output_type": "stream",
     "text": [
      "Grid Search XG Boosting Model:\n",
      "Best Parameters: {'xgb__alpha': 0, 'xgb__colsample_bytree': 0.7, 'xgb__lambda': 10, 'xgb__learning_rate': 0.1, 'xgb__max_depth': 5, 'xgb__n_estimators': 200, 'xgb__subsample': 0.9}\n",
      "Best Cross-Validated R²: 0.2948288101554848\n",
      "Training MSE: 0.003113710722573502\n",
      "Training MAE: 0.03070463669728556\n",
      "Training R²: 0.9974339638997916\n",
      "Testing MSE: 0.6394750575498833\n",
      "Testing MAE: 0.5487186254119408\n",
      "Testing R²: 0.547488117744038\n"
     ]
    }
   ],
   "source": [
    "\n",
    "\n",
    "# Define the parameter grid\n",
    "# Define parameter grid for hyperparameter tuning\n",
    "param_grid = {\n",
    "    'xgb__n_estimators': [100, 200],\n",
    "    'xgb__learning_rate': [0.01, 0.05, 0.1],\n",
    "    'xgb__max_depth': [3, 5],\n",
    "    'xgb__subsample': [0.8, 0.9, 1.0],\n",
    "    'xgb__colsample_bytree': [0.7, 0.8, 1.0],\n",
    "    'xgb__lambda': [0, 1, 10],       # L2 regularization\n",
    "    'xgb__alpha': [0, 0.5, 1]        # L1 regularization\n",
    "}\n",
    "\n",
    "# Set up GridSearchCV\n",
    "grid_search = GridSearchCV(\n",
    "    xg_pipeline,\n",
    "    param_grid=param_grid,\n",
    "    cv=5,                             # 5-fold cross-validation\n",
    "                    \n",
    "    n_jobs=-1,                        # Use all available cores\n",
    "   \n",
    ")\n",
    "\n",
    "# Fit GridSearchCV to the training data\n",
    "# Fit with early stopping\n",
    "grid_search.fit(\n",
    "    X_train, y_train,\n",
    " \n",
    ")\n",
    "\n",
    "\n",
    "# Retrieve best parameters and score\n",
    "best_params = grid_search.best_params_\n",
    "best_score = grid_search.best_score_\n",
    "best_model = grid_search.best_estimator_\n",
    "\n",
    "y_train_pred = grid_search.best_estimator_.predict(X_train)\n",
    "y_test_pred = grid_search.best_estimator_.predict(X_test)\n",
    "# Evaluate the best model on the test set\n",
    "train_mse = mean_squared_error(y_train, y_train_pred)\n",
    "train_mae = mean_absolute_error(y_train, y_train_pred)\n",
    "train_r2 = r2_score(y_train, y_train_pred)\n",
    "test_mse = mean_squared_error(y_test, y_test_pred)\n",
    "test_mae = mean_absolute_error(y_test, y_test_pred)\n",
    "test_r2 = r2_score(y_test, y_test_pred)\n",
    "\n",
    "print(\"Grid Search XG Boosting Model:\")\n",
    "print(\"Best Parameters:\", best_params)\n",
    "\n",
    "print(\"Best Cross-Validated R²:\", best_score)\n",
    "\n",
    "print(\"Training MSE:\", train_mse)\n",
    "print(\"Training MAE:\", train_mae)\n",
    "print(\"Training R²:\", train_r2)\n",
    "print(\"Testing MSE:\", test_mse)\n",
    "print(\"Testing MAE:\", test_mae)\n",
    "print(\"Testing R²:\", test_r2)"
   ]
  },
  {
   "cell_type": "markdown",
   "id": "7c232b47-d782-4280-bfc3-4ea17148661a",
   "metadata": {},
   "source": [
    "- The Grid Search-tuned XGBoost model performs better on testing data compared to earlier versions, achieving a balance between fit on training data and generalization on the test set. The high training performance still points to some overfitting, but the testing R² of 0.55 indicates a stronger model fit than previous attempts."
   ]
  },
  {
   "cell_type": "code",
   "execution_count": 97,
   "id": "824d1a8b-5b01-40c5-bbdd-ea4aa9d6a328",
   "metadata": {},
   "outputs": [
    {
     "data": {
      "image/png": "[encoded data removed]",
      "text/plain": [
       "<Figure size 1000x600 with 1 Axes>"
      ]
     },
     "metadata": {},
     "output_type": "display_data"
    }
   ],
   "source": [
    " #Get feature importances from the best model (Gradient Boosting)\n",
    "feature_importances = best_model.named_steps['xgb'].feature_importances_\n",
    "\n",
    "# Combine feature names and their corresponding importances\n",
    "feature_importance_df = pd.DataFrame({\n",
    "    'feature': X.columns,\n",
    "    'importance': feature_importances\n",
    "}).sort_values(by='importance', ascending=False)\n",
    "\n",
    "# Plot the feature importances in a graph\n",
    "plt.figure(figsize=(10, 6))\n",
    "feature_importance_df.head(15)\n",
    "# Select the top 15 features for visualization\n",
    "top_features = feature_importance_df.head(15)\n",
    "plt.barh(top_features['feature'], top_features['importance'], color='skyblue')\n",
    "plt.xlabel('Importance')\n",
    "plt.title('Top 15 Feature Importances from Best XG Boosting Model (After GridSearchCV)')\n",
    "plt.gca().invert_yaxis()  # Invert y-axis for better readability\n",
    "\n",
    "plt.tight_layout()\n",
    "plt.show()"
   ]
  },
  {
   "cell_type": "code",
   "execution_count": 98,
   "id": "92fe0b1c-e558-4dd5-8f09-9a2e03146813",
   "metadata": {},
   "outputs": [
    {
     "data": {
      "image/png": "[encoded data removed]",
      "text/plain": [
       "<Figure size 1000x600 with 1 Axes>"
      ]
     },
     "metadata": {},
     "output_type": "display_data"
    }
   ],
   "source": [
    "\n",
    "# Calculate residuals\n",
    "residuals = y_test - y_test_pred\n",
    "\n",
    "# Plot residuals\n",
    "plt.figure(figsize=(10, 6))\n",
    "sns.scatterplot(x=y_test_pred, y=residuals)\n",
    "plt.axhline(0, color='red', linestyle='--')\n",
    "plt.xlabel('Predicted Values')\n",
    "plt.ylabel('Residuals')\n",
    "plt.title('Residual Plot');\n",
    "\n"
   ]
  },
  {
   "cell_type": "markdown",
   "id": "ea066822-ff84-4f77-b3b9-fbe6037bb246",
   "metadata": {},
   "source": [
    "----"
   ]
  },
  {
   "cell_type": "markdown",
   "id": "62073657-ffd2-4765-b735-3fcbfcd19911",
   "metadata": {},
   "source": [
    "### SVM"
   ]
  },
  {
   "cell_type": "code",
   "execution_count": 101,
   "id": "611a0888-87b4-495e-bfbc-013e61c70f5c",
   "metadata": {},
   "outputs": [
    {
     "name": "stdout",
     "output_type": "stream",
     "text": [
      "SVM Model:\n",
      "Training MSE: 1.13168919688562\n",
      "Training MAE: 0.6174990284728299\n",
      "Training R²: 0.06736508553234166\n",
      "Testing MSE: 1.5416087790067015\n",
      "Testing MAE: 0.8035342663611563\n",
      "Testing R²: 0.547488117744038\n"
     ]
    }
   ],
   "source": [
    "\n",
    "\n",
    "# Define the SVM pipeline with scaling\n",
    "svm_pipeline = Pipeline([\n",
    "    #('preprocessor', column_transformer),\n",
    "    ('scaler', StandardScaler()),       # Scale features for SVR\n",
    "    ('svr', SVR(kernel='linear',C=1.0, epsilon=0.1)   ) # Basic SVR model with default parameters\n",
    "])\n",
    "\n",
    "\n",
    "# Fit the pipeline on the training data\n",
    "svm_pipeline.fit(X_train, y_train)\n",
    "\n",
    "# Make predictions on training and testing sets\n",
    "\n",
    "y_train_pred = svm_pipeline.predict(X_train)\n",
    "y_test_pred = svm_pipeline.predict(X_test)\n",
    "\n",
    "# Evaluate the model performance\n",
    "train_mse = mean_squared_error(y_train, y_train_pred)\n",
    "train_mae = mean_absolute_error(y_train, y_train_pred)\n",
    "train_r2 = r2_score(y_train, y_train_pred)\n",
    "\n",
    "test_mse = mean_squared_error(y_test, y_test_pred)\n",
    "test_mae = mean_absolute_error(y_test, y_test_pred)\n",
    "test_r2_log = r2_score(y_test, y_test_pred)\n",
    "\n",
    "\n",
    "print(\"SVM Model:\")\n",
    "print(\"Training MSE:\", train_mse)\n",
    "print(\"Training MAE:\", train_mae)\n",
    "print(\"Training R²:\", train_r2)\n",
    "print(\"Testing MSE:\", test_mse)\n",
    "print(\"Testing MAE:\", test_mae)\n",
    "print(\"Testing R²:\", test_r2)\n"
   ]
  },
  {
   "cell_type": "markdown",
   "id": "43ec0241-c552-464f-ba7b-d90fed9223d1",
   "metadata": {},
   "source": [
    "- The SVM model appears to be underfitting, as it has a low R² on the training data but still performs moderately on the test set. This pattern suggests the model may lack complexity, as it fails to capture enough detail in the training data, leading to limited predictive power."
   ]
  },
  {
   "cell_type": "code",
   "execution_count": 103,
   "id": "11a076e3-a0f2-4deb-9689-5bb4c93fbfd0",
   "metadata": {},
   "outputs": [
    {
     "name": "stdout",
     "output_type": "stream",
     "text": [
      "                                Coefficient\n",
      "youth_not_in_school                0.152544\n",
      "crude_rate_suicide                 0.133674\n",
      "year                               0.023166\n",
      "hs_grad_rate                       0.014262\n",
      "bachelors_grad_rate                0.002076\n",
      "crude_rate_od                     -0.014383\n",
      "labor_force_participation_rate    -0.020499\n",
      "youth_in_foster_care              -0.056717\n",
      "unemployment_rate                 -0.073551\n",
      "zhvi                              -0.091296\n",
      "median_income                     -0.093492\n",
      "unemployed_15_weeks               -0.094247\n",
      "poverty_rate                      -0.117051\n",
      "youth_living_in_poverty           -0.201070\n"
     ]
    }
   ],
   "source": [
    "# Fit your model\n",
    "X_train_df = pd.DataFrame(X_train, columns=X.columns)\n",
    "\n",
    "\n",
    "\n",
    "# Access the coefficients (assuming SVR model in a regression task)\n",
    "coefficients = svm_pipeline.named_steps['svr'].coef_[0]  # For SVR, coef_ is usually in a nested array\n",
    "\n",
    "# If using LinearSVC for classification, the approach is similar:\n",
    "# coefficients = svm_pipeline.named_steps['linear_svc'].coef_[0]\n",
    "\n",
    "# Associate each coefficient with its corresponding feature name\n",
    "features = X_train_df.columns  # Ensure this matches the columns input to the model after any preprocessing\n",
    "feature_importance = pd.DataFrame(coefficients, index=features, columns=['Coefficient'])\n",
    "\n",
    "# Display the feature importances\n",
    "print(feature_importance.sort_values(by='Coefficient', ascending=False))\n"
   ]
  },
  {
   "cell_type": "markdown",
   "id": "6322cf64-8801-4320-a085-a3dfe9bc92a1",
   "metadata": {},
   "source": [
    "#### GridSearch SVM"
   ]
  },
  {
   "cell_type": "code",
   "execution_count": 105,
   "id": "28a5f524-21fe-41ef-82ff-e0a0d6ce49ef",
   "metadata": {},
   "outputs": [
    {
     "name": "stdout",
     "output_type": "stream",
     "text": [
      "Fitting 5 folds for each of 18 candidates, totalling 90 fits\n",
      "Grid Search SVM Model:\n",
      "Best Parameters: {'svr__C': 10, 'svr__epsilon': 0.01, 'svr__kernel': 'rbf'}\n",
      "Best Cross-Validated R²: 0.37867537830788806\n",
      "Training MSE: 0.3094663527441867\n",
      "Training MAE: 0.1541475465474648\n",
      "Training R²: 0.7449660859037399\n",
      "Testing MSE: 1.1192332816023314\n",
      "Testing MAE: 0.6433542891964723\n",
      "Testing R²: 0.20799669516135844\n"
     ]
    }
   ],
   "source": [
    "\n",
    "\n",
    "\n",
    "# Define the parameter grid for GridSearchCV\n",
    "param_grid = {\n",
    "    'svr__C': [0.1, 1, 10],              # Regularization strength\n",
    "    'svr__epsilon': [0.01, 0.1, 0.5],    # Insensitivity margin\n",
    "    'svr__kernel': ['linear', 'rbf']      # Kernels to test\n",
    "}\n",
    "\n",
    "# Set up GridSearchCV with cross-validation\n",
    "grid_search = GridSearchCV(svm_pipeline, param_grid, cv=5, scoring='r2', verbose=1, n_jobs=-1)\n",
    "\n",
    "# Fit GridSearchCV to the training data\n",
    "grid_search.fit(X_train, y_train)\n",
    "\n",
    "# Retrieve the best parameters and score\n",
    "best_params = grid_search.best_params_\n",
    "best_score = grid_search.best_score_\n",
    "best_model = grid_search.best_estimator_\n",
    "# Make predictions with the best estimator on the test set\n",
    "y_train_pred = grid_search.best_estimator_.predict(X_train)\n",
    "y_test_pred= grid_search.best_estimator_.predict(X_test)\n",
    "\n",
    "# Evaluate the model on the test set\n",
    "train_mse = mean_squared_error(y_train, y_train_pred)\n",
    "train_mae = mean_absolute_error(y_train, y_train_pred)\n",
    "train_r2 = r2_score(y_train, y_train_pred)\n",
    "test_mse = mean_squared_error(y_test, y_test_pred)\n",
    "test_mae = mean_absolute_error(y_test, y_test_pred)\n",
    "test_r2 = r2_score(y_test, y_test_pred)\n",
    "\n",
    "print(\"Grid Search SVM Model:\")\n",
    "print(\"Best Parameters:\", best_params)\n",
    "print(\"Best Cross-Validated R²:\", best_score)\n",
    "\n",
    "print(\"Training MSE:\", train_mse)\n",
    "print(\"Training MAE:\", train_mae)\n",
    "print(\"Training R²:\", train_r2)\n",
    "print(\"Testing MSE:\", test_mse)\n",
    "print(\"Testing MAE:\", test_mae)\n",
    "print(\"Testing R²:\", test_r2)"
   ]
  },
  {
   "cell_type": "markdown",
   "id": "5cc057bc-3e43-4a75-a980-15b119d1e1a2",
   "metadata": {},
   "source": [
    "- The Grid Search-tuned SVM model shows improved fit on the training data, but the testing performance indicates some overfitting, with an R² of 0.21 on unseen data. This suggests that while the optimized model captures the training patterns better than before, it still struggles to generalize effectively."
   ]
  },
  {
   "cell_type": "markdown",
   "id": "98cbc5b2-e177-479f-b86c-6bef7e600039",
   "metadata": {},
   "source": [
    "----"
   ]
  },
  {
   "cell_type": "markdown",
   "id": "bd1d92e7-00ed-4042-be03-4d7cef26190a",
   "metadata": {},
   "source": [
    "### Stacking"
   ]
  },
  {
   "cell_type": "code",
   "execution_count": 109,
   "id": "3d295d02-1537-4697-a308-7d31e0aa3b04",
   "metadata": {},
   "outputs": [
    {
     "name": "stdout",
     "output_type": "stream",
     "text": [
      "Stacking Model:\n",
      "Training MSE: 0.12533692507606764\n",
      "Training MAE: 0.23409477770376722\n",
      "Training R²: 0.8967087494343449\n",
      "Testing MSE: 0.6731602148875476\n",
      "Testing MAE: 0.5671465220803918\n",
      "Testing R²: 0.5236514820989242\n"
     ]
    }
   ],
   "source": [
    "\n",
    "\n",
    "# Define base models and meta model\n",
    "base_models = [\n",
    "    ('gradient_boosting', GradientBoostingRegressor(learning_rate=0.05, max_depth=4, n_estimators=500, random_state=42,min_samples_leaf= 1,min_samples_split= 5)),\n",
    "    ('random_forest', RandomForestRegressor(ccp_alpha=0.1,n_estimators=50, max_depth=7,random_state=42,min_samples_leaf= 4,min_samples_split= 8)),\n",
    "   ('lasso', Lasso(alpha=0.1, max_iter=10000))\n",
    "]\n",
    "\n",
    "\n",
    "meta_model = Ridge(alpha=1.0)\n",
    "\n",
    "\n",
    "# Define the stacking regressor\n",
    "stacked_ensemble = StackingRegressor(estimators=base_models, final_estimator=meta_model, cv=5)\n",
    "\n",
    "# Create pipeline with stacking ensemble\n",
    "stacking_pipeline = Pipeline(steps=[\n",
    "    #('preprocessor', column_transformer),\n",
    "    ('scaler', StandardScaler()),\n",
    "    ('stacked_model', stacked_ensemble)\n",
    "])\n",
    "\n",
    "# Fit GridSearchCV on the training data to find the best parameters\n",
    "stacking_pipeline.fit(X_train, y_train)\n",
    "\n",
    "\n",
    "# Evaluate the stacked model on the test data\n",
    "y_train_pred = stacking_pipeline.predict(X_train)\n",
    "y_test_pred= stacking_pipeline.predict(X_test)\n",
    "\n",
    "ensemble_train_score = stacking_pipeline.score(X_train, y_train)\n",
    "ensemble_test_score = stacking_pipeline.score(X_test, y_test)\n",
    "\n",
    "# Evaluate the model on the test set\n",
    "train_mse = mean_squared_error(y_train, y_train_pred)\n",
    "train_mae = mean_absolute_error(y_train, y_train_pred)\n",
    "train_r2 = r2_score(y_train, y_train_pred)\n",
    "test_mse = mean_squared_error(y_test, y_test_pred)\n",
    "test_mae = mean_absolute_error(y_test, y_test_pred)\n",
    "test_r2 = r2_score(y_test, y_test_pred)\n",
    "\n",
    "\n",
    "print(\"Stacking Model:\")\n",
    "print(\"Training MSE:\", train_mse)\n",
    "print(\"Training MAE:\", train_mae)\n",
    "print(\"Training R²:\", train_r2)\n",
    "print(\"Testing MSE:\", test_mse)\n",
    "print(\"Testing MAE:\", test_mae)\n",
    "print(\"Testing R²:\", test_r2)\n",
    "\n",
    "\n",
    "\n"
   ]
  },
  {
   "cell_type": "markdown",
   "id": "e820487f-e5f5-430c-8491-9795e6e6bfe8",
   "metadata": {},
   "source": [
    "- The Stacking model performs strongly, achieving high accuracy on the training data while retaining relatively good generalization on the test set. Although there’s a performance gap between training and testing metrics, the model does a better job of balancing fit and generalization."
   ]
  },
  {
   "cell_type": "markdown",
   "id": "fbd9cebb-771a-4953-ac53-25ede3b42c5d",
   "metadata": {},
   "source": [
    "----"
   ]
  },
  {
   "cell_type": "markdown",
   "id": "56f594f3-999e-4db7-afff-0287d356ba30",
   "metadata": {},
   "source": [
    "### Bagging XGBoost"
   ]
  },
  {
   "cell_type": "code",
   "execution_count": 113,
   "id": "f1011ba8-7df0-4302-9c6d-0fd926387d36",
   "metadata": {},
   "outputs": [
    {
     "name": "stdout",
     "output_type": "stream",
     "text": [
      "Bagging XGBoost Model:\n",
      "Training MSE: 0.12533692507606764\n",
      "Training MAE: 0.23409477770376722\n",
      "Training R²: 0.8967087494343449\n",
      "Testing MSE: 0.6731602148875476\n",
      "Testing MAE: 0.5671465220803918\n",
      "Testing R²: 0.5236514820989242\n"
     ]
    }
   ],
   "source": [
    "\n",
    "\n",
    "# Initialize XGBoost Regressor\n",
    "xgb_regressor = XGBRegressor(n_estimators=100, learning_rate=0.1, max_depth=3)\n",
    "\n",
    "# Set up Bagging with XGBoost as the base estimator\n",
    "bagging_xgb = BaggingRegressor(\n",
    "    estimator=xgb_regressor,\n",
    "    n_estimators=10,          # Number of XGBoost models in the ensemble\n",
    "    max_samples=0.8,          # Fraction of data used for each bootstrapped sample\n",
    "    max_features=1.0,         # Fraction of features used for each model\n",
    "    bootstrap=True,           # Bootstrapping samples\n",
    "    n_jobs=-1,                # Use all processors\n",
    "    random_state=42\n",
    ")\n",
    "\n",
    "# Train the bagging ensemble\n",
    "bagging_xgb.fit(X_train, y_train)\n",
    "\n",
    "# Make predictions\n",
    "\n",
    "y_train_pred = stacking_pipeline.predict(X_train)\n",
    "y_test_pred= stacking_pipeline.predict(X_test)\n",
    "\n",
    "\n",
    "# Evaluate the model on the test set\n",
    "train_mse = mean_squared_error(y_train, y_train_pred)\n",
    "train_mae = mean_absolute_error(y_train, y_train_pred)\n",
    "train_r2 = r2_score(y_train, y_train_pred)\n",
    "test_mse = mean_squared_error(y_test, y_test_pred)\n",
    "test_mae = mean_absolute_error(y_test, y_test_pred)\n",
    "test_r2 = r2_score(y_test, y_test_pred)\n",
    "print(\"Bagging XGBoost Model:\")\n",
    "print(\"Training MSE:\", train_mse)\n",
    "print(\"Training MAE:\", train_mae)\n",
    "print(\"Training R²:\", train_r2)\n",
    "print(\"Testing MSE:\", test_mse)\n",
    "print(\"Testing MAE:\", test_mae)\n",
    "print(\"Testing R²:\", test_r2)\n",
    "\n"
   ]
  },
  {
   "cell_type": "markdown",
   "id": "fb7f2c4d-de89-4013-8db7-9af025727c6c",
   "metadata": {},
   "source": [
    "- The Bagging XGBoost model performs well, capturing much of the variance in the training set and showing a reasonable level of generalization on the test set. The R² score of 0.52 on testing data suggests that the model is more robust than individual models like standard XGBoost alone ."
   ]
  },
  {
   "cell_type": "markdown",
   "id": "14bdfdfc-45ed-45ed-acec-613f05a966d0",
   "metadata": {},
   "source": [
    "----"
   ]
  },
  {
   "cell_type": "markdown",
   "id": "df45144e-c8b3-4524-a24f-cac4affdee63",
   "metadata": {},
   "source": [
    "### Multi Target Regressor "
   ]
  },
  {
   "cell_type": "code",
   "execution_count": 117,
   "id": "90068a58-51bc-44ff-a6e9-cfe09386665a",
   "metadata": {},
   "outputs": [
    {
     "name": "stdout",
     "output_type": "stream",
     "text": [
      "R^2 Score for each target: [0.44373771 0.4036155  0.4422186  0.38453608]\n",
      "MSE Score for each target: [0.71363797 0.60994657 0.61152186 0.63212683]\n",
      "MAE Score for each target: [0.8308995  0.64324254 0.77927843 0.8627124 ]\n"
     ]
    }
   ],
   "source": [
    "\n",
    "# Define features and target\n",
    "\n",
    "# columns to exclude: population-related and crime-related features\n",
    "crime_related_columns = [\n",
    "    'count:__crimes_against_society', \n",
    "    'count:__fraud_and_other_financial_crimes', \n",
    "    'count:__property_crime', \n",
    "    'count:__violent_crime',\n",
    "    'rate:__crimes_against_society', \n",
    "    'rate:__fraud_and_other_financial_crimes', \n",
    "    'rate:__property_crime', \n",
    "    'rate:__violent_crime',\n",
    "    'total_crime_count',\n",
    "    'total_crime_rate',\n",
    "    'log_total_crime_rate'\n",
    "]\n",
    "\n",
    "population_related_columns = [\n",
    "    'total_pop',\n",
    "    'white_pop',\n",
    "    'black_pop',\n",
    "    'hispanic_pop',\n",
    "    'asian_pop',\n",
    "    'native_pop',\n",
    "    'islander_pop',\n",
    "    'multi_race_pop',\n",
    "    'state'\n",
    "]\n",
    "\n",
    "#features to keep: exclude population-related and crime-related features\n",
    "#X = data.drop(columns=crime_related_columns + population_related_columns)\n",
    "X = data.drop(columns=crime_related_columns + population_related_columns)\n",
    "\n",
    "target_features = ['rate:__crimes_against_society', \n",
    "    'rate:__fraud_and_other_financial_crimes', \n",
    "    'rate:__property_crime', \n",
    "    'rate:__violent_crime']\n",
    "\n",
    "X = data.drop(columns=crime_related_columns+population_related_columns )\n",
    "y =np.log1p(data[target_features]) \n",
    "\n",
    "# Split data into training and testing sets\n",
    "X_train, X_test, y_train, y_test = train_test_split(X, y, test_size=0.2, random_state=42)\n",
    "\n",
    "model = RandomForestRegressor(random_state=42)\n",
    "model.fit(X_train, y_train)\n",
    "\n",
    "# Predic]ting multiple outputs\n",
    "y_train_pred = model.predict(X_train)\n",
    "y_test_pred = model.predict(X_test)\n",
    "# Evaluate the model\n",
    "r_squared_each_output = r2_score(y_test, y_test_pred, multioutput='raw_values')\n",
    "mse_each_output = mean_absolute_error(y_test, y_test_pred,multioutput='raw_values')\n",
    "mae_each_output  = mean_squared_error(y_test, y_test_pred,multioutput='raw_values')\n",
    "\n",
    "\n",
    "print(\"R^2 Score for each target:\", r_squared_each_output)\n",
    "print(\"MSE Score for each target:\", mse_each_output)\n",
    "print(\"MAE Score for each target:\", mae_each_output)"
   ]
  },
  {
   "cell_type": "code",
   "execution_count": null,
   "id": "9e66bb4d-7277-44a9-b6b1-2182f730c3ff",
   "metadata": {},
   "outputs": [],
   "source": []
  },
  {
   "cell_type": "code",
   "execution_count": null,
   "id": "0659fbdc-e218-4b04-b406-48a50df570ac",
   "metadata": {},
   "outputs": [],
   "source": []
  },
  {
   "cell_type": "code",
   "execution_count": null,
   "id": "6830d0db-2b2f-46c4-b868-b415aee66104",
   "metadata": {},
   "outputs": [],
   "source": []
  },
  {
   "cell_type": "code",
   "execution_count": null,
   "id": "49f3263f-0998-47d7-826b-671dd42aef05",
   "metadata": {},
   "outputs": [],
   "source": []
  }
 ],
 "metadata": {
  "kernelspec": {
   "display_name": "Python 3 (ipykernel)",
   "language": "python",
   "name": "python3"
  },
  "language_info": {
   "codemirror_mode": {
    "name": "ipython",
    "version": 3
   },
   "file_extension": ".py",
   "mimetype": "text/x-python",
   "name": "python",
   "nbconvert_exporter": "python",
   "pygments_lexer": "ipython3",
   "version": "3.11.9"
  }
 },
 "nbformat": 4,
 "nbformat_minor": 5
}
