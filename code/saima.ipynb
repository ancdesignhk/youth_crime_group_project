{
 "cells": [
  {
   "cell_type": "code",
   "execution_count": 1,
   "id": "99166d74-d0d9-4717-ba0e-ec60aa5479b1",
   "metadata": {},
   "outputs": [],
   "source": [
    "import pandas as pd\n",
    "import numpy as np\n",
    "import seaborn as sns\n",
    "import matplotlib.pyplot as plt\n",
    "from sklearn.model_selection import train_test_split,cross_val_score,GridSearchCV\n",
    "from sklearn.ensemble import GradientBoostingRegressor\n",
    "from sklearn.pipeline import Pipeline\n",
    "from sklearn.preprocessing import StandardScaler\n",
    "from xgboost import XGBRegressor\n",
    "from sklearn.metrics import mean_squared_error, mean_absolute_error, r2_score\n",
    "from sklearn.svm import SVR\n",
    "from sklearn.compose import ColumnTransformer\n",
    "from sklearn.preprocessing import OrdinalEncoder,OneHotEncoder\n",
    "from sklearn.linear_model import Ridge,Lasso\n",
    "from sklearn.ensemble import RandomForestRegressor\n",
    "from sklearn.ensemble import StackingRegressor\n"
   ]
  },
  {
   "cell_type": "code",
   "execution_count": 2,
   "id": "56d2c3af-b660-4fec-9f4f-2add746561d8",
   "metadata": {},
   "outputs": [
    {
     "data": {
      "text/plain": [
       "(312, 41)"
      ]
     },
     "execution_count": 2,
     "metadata": {},
     "output_type": "execute_result"
    }
   ],
   "source": [
    "#data = pd.read_csv('../data/data.csv')\n",
    "data= pd.read_csv('../data/data_engineered.csv')\n",
    "data.head()\n",
    "data.shape"
   ]
  },
  {
   "cell_type": "code",
   "execution_count": null,
   "id": "223ffd75-1a9b-4774-8aef-cd9ff1963780",
   "metadata": {},
   "outputs": [],
   "source": []
  },
  {
   "cell_type": "code",
   "execution_count": 14,
   "id": "8e7b80a7-e989-4e49-a952-1c995c7e086e",
   "metadata": {},
   "outputs": [
    {
     "name": "stdout",
     "output_type": "stream",
     "text": [
      "['year', 'median_income', 'poverty_rate', 'unemployment_rate', 'unemployed_15_weeks', 'labor_force_participation_rate', 'hs_grad_rate', 'bachelors_grad_rate', 'zhvi', 'crude_rate_suicide', 'crude_rate_od', 'youth_not_in_school', 'youth_in_foster_care', 'youth_living_in_poverty', 'youth_school_poverty_interaction', 'poverty_income_interaction', 'unemployment_youth_interaction', 'poverty_rate_squared', 'median_income_squared', 'poverty_to_income_ratio', 'youth_to_total_pop_ratio']\n"
     ]
    }
   ],
   "source": [
    "# Define features (X) and target variable (y)\n",
    "\n",
    "# columns to exclude: population-related and crime-related features\n",
    "crime_related_columns = [\n",
    "    'count:__crimes_against_society', \n",
    "    'count:__fraud_and_other_financial_crimes', \n",
    "    'count:__property_crime', \n",
    "    'count:__violent_crime',\n",
    "    'rate:__crimes_against_society', \n",
    "    'rate:__fraud_and_other_financial_crimes', \n",
    "    'rate:__property_crime', \n",
    "    'rate:__violent_crime',\n",
    "    'total_crime_count',\n",
    "    'total_crime_rate',\n",
    "    'log_total_crime_rate'\n",
    "]\n",
    "\n",
    "population_related_columns = [\n",
    "    'total_pop',\n",
    "    'white_pop',\n",
    "    'black_pop',\n",
    "    'hispanic_pop',\n",
    "    'asian_pop',\n",
    "    'native_pop',\n",
    "    'islander_pop',\n",
    "    'multi_race_pop',\n",
    "    'state'\n",
    "]\n",
    "\n",
    "#features to keep: exclude population-related and crime-related features\n",
    "#X = data.drop(columns=crime_related_columns + population_related_columns)\n",
    "X = data.drop(columns=crime_related_columns + population_related_columns)\n",
    "# Display the list of features used for modeling\n",
    "filtered_features = X.columns.tolist()\n",
    "print(filtered_features)\n",
    "\n",
    "y = data['log_total_crime_rate']"
   ]
  },
  {
   "cell_type": "code",
   "execution_count": null,
   "id": "b2311e9c-b58f-462b-8ba5-1e39a2c0d6a2",
   "metadata": {},
   "outputs": [],
   "source": [
    "## Train test split"
   ]
  },
  {
   "cell_type": "code",
   "execution_count": 17,
   "id": "22660856-3425-4d7f-a60e-18df3856286c",
   "metadata": {},
   "outputs": [
    {
     "name": "stdout",
     "output_type": "stream",
     "text": [
      "X_train shape: (249, 21)\n",
      "X_test shape: (63, 21)\n",
      "y_train shape: (249,)\n",
      "y_test shape: (63,)\n"
     ]
    }
   ],
   "source": [
    "X_train, X_test, y_train, y_test = train_test_split(X, y, random_state = 42, test_size = 0.2)\n",
    "\n",
    "\n",
    "print(f'X_train shape: {X_train.shape}')\n",
    "print(f'X_test shape: {X_test.shape}')\n",
    "print(f'y_train shape: {y_train.shape}')\n",
    "print(f'y_test shape: {y_test.shape}')"
   ]
  },
  {
   "cell_type": "code",
   "execution_count": null,
   "id": "50d05afd-39a1-4d75-9771-dd3b4854693e",
   "metadata": {},
   "outputs": [],
   "source": []
  },
  {
   "cell_type": "code",
   "execution_count": null,
   "id": "1e22a6ca-81be-4bbd-9011-38e84a15af17",
   "metadata": {},
   "outputs": [],
   "source": []
  },
  {
   "cell_type": "markdown",
   "id": "534b29c2-70d2-4d22-8edf-5fa88ac0c807",
   "metadata": {},
   "source": [
    "### Gradient Boost"
   ]
  },
  {
   "cell_type": "code",
   "execution_count": 19,
   "id": "9755969e-833f-4876-94f4-f1566c6ca713",
   "metadata": {
    "scrolled": true
   },
   "outputs": [
    {
     "name": "stdout",
     "output_type": "stream",
     "text": [
      "(249, 21)\n",
      "Training MSE: 0.05342694555473656\n",
      "Training MAE: 0.17434637883254206\n",
      "Training R²: 0.9559703892775199\n",
      "Testing MSE: 0.7628857612436972\n",
      "Testing MAE: 0.5760191132934017\n",
      "Testing R²: 0.46015897306560893\n"
     ]
    }
   ],
   "source": [
    "\n",
    "\n",
    "# Pipeline setup\n",
    "gb_pipeline = Pipeline(steps=[\n",
    "   #('preprocessor', column_transformer),\n",
    "    ('gb', GradientBoostingRegressor(random_state=42))\n",
    "])\n",
    "\n",
    "# Fit the pipeline to the training data\n",
    "gb_pipeline.fit(X_train, y_train)\n",
    "print(X_train.shape)\n",
    "# Predict on training and testing data\n",
    "y_train_pred = gb_pipeline.predict(X_train)\n",
    "y_test_pred = gb_pipeline.predict(X_test)\n",
    "\n",
    "# Calculate training and testing scoresa\n",
    "train_mse = mean_squared_error(y_train, y_train_pred)\n",
    "train_mae = mean_absolute_error(y_train, y_train_pred)\n",
    "train_r2 = r2_score(y_train, y_train_pred)\n",
    "\n",
    "test_mse = mean_squared_error(y_test, y_test_pred)\n",
    "test_mae = mean_absolute_error(y_test, y_test_pred)\n",
    "test_r2 = r2_score(y_test, y_test_pred)\n",
    "\n",
    "\n",
    "print(\"Training MSE:\", train_mse)\n",
    "print(\"Training MAE:\", train_mae)\n",
    "print(\"Training R²:\", train_r2)\n",
    "\n",
    "print(\"Testing MSE:\", test_mse)\n",
    "print(\"Testing MAE:\", test_mae)\n",
    "print(\"Testing R²:\", test_r2)"
   ]
  },
  {
   "cell_type": "code",
   "execution_count": null,
   "id": "8e72e77a-3abf-4eaf-bdf5-e03542aa7fed",
   "metadata": {},
   "outputs": [],
   "source": [
    "### Hypertune Gradient Boost"
   ]
  },
  {
   "cell_type": "code",
   "execution_count": 21,
   "id": "ecc5bd33-0d64-4fa2-91dd-373f0fcd7761",
   "metadata": {},
   "outputs": [
    {
     "name": "stdout",
     "output_type": "stream",
     "text": [
      "Fitting 5 folds for each of 1440 candidates, totalling 7200 fits\n"
     ]
    },
    {
     "name": "stderr",
     "output_type": "stream",
     "text": [
      "/opt/anaconda3/lib/python3.11/site-packages/numpy/ma/core.py:2820: RuntimeWarning: invalid value encountered in cast\n",
      "  _data = np.array(data, dtype=dtype, copy=copy,\n"
     ]
    },
    {
     "name": "stdout",
     "output_type": "stream",
     "text": [
      "Best Parameters: {'gb__learning_rate': 0.05, 'gb__max_depth': 4, 'gb__min_samples_leaf': 1, 'gb__min_samples_split': 15, 'gb__n_estimators': 500, 'gb__subsample': 0.6}\n",
      "Best Cross-Validated MSE: 0.241951012024677\n"
     ]
    }
   ],
   "source": [
    "#\n",
    "\n",
    "# Define the parameter grid for Gradient Boosting\n",
    "param_grid = {\n",
    "    'gb__n_estimators': [200, 300,400,500],\n",
    "    'gb__max_depth': [3, 4],\n",
    "    'gb__learning_rate': [0.01, 0.05, 0.1,0.2,0.3],\n",
    "    'gb__min_samples_split': [2, 5, 10,15],\n",
    "    'gb__min_samples_leaf': [1, 2, 4],\n",
    "    'gb__subsample': [0.6, 0.8, 1.0]\n",
    "}\n",
    "\n",
    "# Setup GridSearchCV with the pipeline and parameter grid\n",
    "grid_search = GridSearchCV(gb_pipeline, param_grid=param_grid, cv=5, scoring='r2', n_jobs=-1, verbose=1)\n",
    "\n",
    "# Fit GridSearchCV on the training data\n",
    "grid_search.fit(X_train, y_train)\n",
    "\n",
    "# Best parameters from grid search\n",
    "best_params = grid_search.best_params_\n",
    "best_score = grid_search.best_score_ \n",
    "\n",
    "print(\"Best Parameters:\", best_params)\n",
    "print(\"Best Cross-Validated MSE:\", best_score)\n"
   ]
  },
  {
   "cell_type": "code",
   "execution_count": 34,
   "id": "26faaa88-a5b8-4328-b619-03a0f9d54a7c",
   "metadata": {},
   "outputs": [
    {
     "name": "stdout",
     "output_type": "stream",
     "text": [
      "Pipeline(steps=[('gb',\n",
      "                 GradientBoostingRegressor(learning_rate=0.05, max_depth=4,\n",
      "                                           min_samples_split=15,\n",
      "                                           n_estimators=500, random_state=42,\n",
      "                                           subsample=0.6))])\n",
      "Best Parameters: {'gb__learning_rate': 0.05, 'gb__max_depth': 4, 'gb__min_samples_leaf': 1, 'gb__min_samples_split': 15, 'gb__n_estimators': 500, 'gb__subsample': 0.6}\n",
      "Best Cross-Validated R²: 0.241951012024677\n",
      "Training MSE: 0.0016082758174038962\n",
      "Training MAE: 0.03310221261884295\n",
      "Training R²: 0.9986746059045781\n",
      "Testing MSE: 0.810493450023562\n",
      "Testing MAE: 0.6209370214958719\n",
      "Testing R²: 0.42647033328945605\n"
     ]
    }
   ],
   "source": [
    "# Predict on training and testing data\n",
    "best_model = grid_search.best_estimator_\n",
    "print(best_model)\n",
    "y_train_pred = best_model.predict(X_train)\n",
    "y_test_pred = best_model.predict(X_test)\n",
    "\n",
    "\n",
    "# Calculate training and testing scores\n",
    "train_mse = mean_squared_error(y_train, y_train_pred)\n",
    "train_mae = mean_absolute_error(y_train, y_train_pred)\n",
    "train_r2 = r2_score(y_train, y_train_pred)\n",
    "\n",
    "test_mse = mean_squared_error(y_test, y_test_pred)\n",
    "test_mae = mean_absolute_error(y_test, y_test_pred)\n",
    "test_r2 = r2_score(y_test, y_test_pred)\n",
    "#print(\"Training Scores:\")\n",
    "#print(f\"MSE: {train_mse}, MAE: {train_mae}, R2: {train_r2}\")\n",
    "\n",
    "#print(\"\\nTesting Scores:\")\n",
    "#print(f\"MSE: {test_mse}, MAE: {test_mae}, R2: {test_r2}\")\n",
    "\n",
    "\n",
    "#print(\"\\nCross-Validation Scores (averaged across 5 folds):\")\n",
    "#print(f\" R2: {np.mean(cv_r2)}\")\n",
    "print(\"Best Parameters:\", best_params)\n",
    "print(\"Best Cross-Validated R²:\", best_score)\n",
    "print(\"Training MSE:\", train_mse)\n",
    "print(\"Training MAE:\", train_mae)\n",
    "print(\"Training R²:\", train_r2)\n",
    "print(\"Testing MSE:\", test_mse)\n",
    "print(\"Testing MAE:\", test_mae)\n",
    "print(\"Testing R²:\", test_r2)\n"
   ]
  },
  {
   "cell_type": "code",
   "execution_count": 36,
   "id": "bcd68d4a-21d7-4f32-b5dd-76baabe7fee8",
   "metadata": {},
   "outputs": [
    {
     "data": {
      "image/png": "[encoded data removed]",
      "text/plain": [
       "<Figure size 1000x600 with 1 Axes>"
      ]
     },
     "metadata": {},
     "output_type": "display_data"
    }
   ],
   "source": [
    "\n",
    "feature_importances = best_model.named_steps['gb'].feature_importances_\n",
    "\n",
    "# Combine feature names and their corresponding importances\n",
    "feature_importance_df = pd.DataFrame({\n",
    "    'feature': X_train.columns,\n",
    "    'importance': feature_importances\n",
    "}).sort_values(by='importance', ascending=False)\n",
    "\n",
    "# Plot the feature importances in a graph\n",
    "plt.figure(figsize=(10, 6))\n",
    "\n",
    "# Select the top 15 features for visualization\n",
    "top_features = feature_importance_df.head(15)\n",
    "plt.barh(top_features['feature'], top_features['importance'], color='skyblue')\n",
    "plt.xlabel('Importance')\n",
    "plt.title('Top 15 Feature Importances from Best Gradient Boosting Model (After GridSearchCV)')\n",
    "plt.gca().invert_yaxis()  # Invert y-axis for better readability\n",
    "\n",
    "plt.tight_layout()\n"
   ]
  },
  {
   "cell_type": "code",
   "execution_count": null,
   "id": "ff74d4d4-bf44-42b4-b069-21311c615215",
   "metadata": {},
   "outputs": [],
   "source": []
  },
  {
   "cell_type": "markdown",
   "id": "b5c81eac-a87d-42fd-aa68-cb734a783b7d",
   "metadata": {},
   "source": [
    "###  XG Boosting"
   ]
  },
  {
   "cell_type": "code",
   "execution_count": 38,
   "id": "1f002e76-5b8e-4441-8160-e3b0197d79ae",
   "metadata": {
    "scrolled": true
   },
   "outputs": [
    {
     "name": "stdout",
     "output_type": "stream",
     "text": [
      "Training MSE: 0.016934874243996957\n",
      "Training MAE: 0.08193913123490523\n",
      "Training R²: 0.9860438227779009\n",
      "Testing MSE: 0.7310156293856678\n",
      "Testing MAE: 0.5972730163203257\n",
      "Testing R²: 0.48271124181253755\n"
     ]
    }
   ],
   "source": [
    "# Pipeline setup\n",
    "xg_pipeline = Pipeline(steps=[\n",
    "    #('preprocessor', column_transformer),\n",
    "    ('scaler', StandardScaler()),\n",
    "    ('xgb', XGBRegressor(random_state=42, alpha=1.5))\n",
    "])\n",
    "\n",
    "\n",
    "# Training the base model\n",
    "xg_pipeline.fit(X_train, y_train)\n",
    "\n",
    "# Making predictions on training and testing sets\n",
    "y_train_pred = xg_pipeline.predict(X_train)\n",
    "y_test_pred = xg_pipeline.predict(X_test)\n",
    "\n",
    "# Evaluating the model on training, validation, and testing sets\n",
    "mse_train = mean_squared_error(y_train, y_train_pred)\n",
    "mae_train = mean_absolute_error(y_train, y_train_pred)\n",
    "r2_train= r2_score(y_train, y_train_pred)\n",
    "\n",
    "\n",
    "mse_test = mean_squared_error(y_test, y_test_pred)\n",
    "mae_test= mean_absolute_error(y_test, y_test_pred)\n",
    "r2_test = r2_score(y_test, y_test_pred)\n",
    "\n",
    "\n",
    "\n",
    "print(\"Training MSE:\", mse_train)\n",
    "print(\"Training MAE:\", mae_train)\n",
    "print(\"Training R²:\", r2_train)\n",
    "print(\"Testing MSE:\", mse_test)\n",
    "print(\"Testing MAE:\", mae_test)\n",
    "print(\"Testing R²:\", r2_test)\n",
    "\n"
   ]
  },
  {
   "cell_type": "markdown",
   "id": "f61c3840-59f0-445d-94e3-e9fa17c0fc82",
   "metadata": {},
   "source": [
    "###  HyperTune XG Boosting"
   ]
  },
  {
   "cell_type": "code",
   "execution_count": 40,
   "id": "11496f39-1587-496d-ac6d-5445eb715c03",
   "metadata": {},
   "outputs": [
    {
     "name": "stderr",
     "output_type": "stream",
     "text": [
      "/opt/anaconda3/lib/python3.11/site-packages/numpy/ma/core.py:2820: RuntimeWarning: invalid value encountered in cast\n",
      "  _data = np.array(data, dtype=dtype, copy=copy,\n"
     ]
    },
    {
     "name": "stdout",
     "output_type": "stream",
     "text": [
      "Best Parameters: {'xgb__alpha': 0, 'xgb__colsample_bytree': 0.7, 'xgb__lambda': 1, 'xgb__learning_rate': 0.1, 'xgb__max_depth': 5, 'xgb__n_estimators': 200, 'xgb__subsample': 0.9}\n",
      "Best Cross-Validated R²: 0.2843593019606949\n",
      "Training MSE: 6.882846928991822e-05\n",
      "Training MAE: 0.006044357467456948\n",
      "Training R²: 0.9999432778595521\n",
      "Testing MSE: 0.8384643716082705\n",
      "Testing MAE: 0.626504416034902\n",
      "Testing R²: 0.40667726360629175\n"
     ]
    }
   ],
   "source": [
    "\n",
    "\n",
    "# Define the parameter grid\n",
    "# Define parameter grid for hyperparameter tuning\n",
    "param_grid = {\n",
    "    'xgb__n_estimators': [100, 200],\n",
    "    'xgb__learning_rate': [0.01, 0.05, 0.1],\n",
    "    'xgb__max_depth': [3, 5],\n",
    "    'xgb__subsample': [0.8, 0.9, 1.0],\n",
    "    'xgb__colsample_bytree': [0.7, 0.8, 1.0],\n",
    "    'xgb__lambda': [0, 1, 10],       # L2 regularization\n",
    "    'xgb__alpha': [0, 0.5, 1]        # L1 regularization\n",
    "}\n",
    "\n",
    "# Set up GridSearchCV\n",
    "grid_search = GridSearchCV(\n",
    "    xg_pipeline,\n",
    "    param_grid=param_grid,\n",
    "    cv=5,                             # 5-fold cross-validation\n",
    "                    \n",
    "    n_jobs=-1,                        # Use all available cores\n",
    "   \n",
    ")\n",
    "\n",
    "# Fit GridSearchCV to the training data\n",
    "# Fit with early stopping\n",
    "grid_search.fit(\n",
    "    X_train, y_train,\n",
    " \n",
    ")\n",
    "\n",
    "\n",
    "# Retrieve best parameters and score\n",
    "best_params = grid_search.best_params_\n",
    "best_score = grid_search.best_score_\n",
    "best_model = grid_search.best_estimator_\n",
    "\n",
    "y_train_pred = grid_search.best_estimator_.predict(X_train)\n",
    "y_test_pred = grid_search.best_estimator_.predict(X_test)\n",
    "# Evaluate the best model on the test set\n",
    "train_mse = mean_squared_error(y_train, y_train_pred)\n",
    "train_mae = mean_absolute_error(y_train, y_train_pred)\n",
    "train_r2 = r2_score(y_train, y_train_pred)\n",
    "test_mse = mean_squared_error(y_test, y_test_pred)\n",
    "test_mae = mean_absolute_error(y_test, y_test_pred)\n",
    "test_r2 = r2_score(y_test, y_test_pred)\n",
    "\n",
    "\n",
    "print(\"Best Parameters:\", best_params)\n",
    "print(\"Best Cross-Validated R²:\", best_score)\n",
    "print(\"Training MSE:\", train_mse)\n",
    "print(\"Training MAE:\", train_mae)\n",
    "print(\"Training R²:\", train_r2)\n",
    "print(\"Testing MSE:\", test_mse)\n",
    "print(\"Testing MAE:\", test_mae)\n",
    "print(\"Testing R²:\", test_r2)"
   ]
  },
  {
   "cell_type": "code",
   "execution_count": 41,
   "id": "824d1a8b-5b01-40c5-bbdd-ea4aa9d6a328",
   "metadata": {},
   "outputs": [
    {
     "data": {
      "image/png": "[encoded data removed]",
      "text/plain": [
       "<Figure size 1000x600 with 1 Axes>"
      ]
     },
     "metadata": {},
     "output_type": "display_data"
    }
   ],
   "source": [
    " #Get feature importances from the best model (Gradient Boosting)\n",
    "feature_importances = best_model.named_steps['xgb'].feature_importances_\n",
    "\n",
    "# Combine feature names and their corresponding importances\n",
    "feature_importance_df = pd.DataFrame({\n",
    "    'feature': X.columns,\n",
    "    'importance': feature_importances\n",
    "}).sort_values(by='importance', ascending=False)\n",
    "\n",
    "# Plot the feature importances in a graph\n",
    "plt.figure(figsize=(10, 6))\n",
    "feature_importance_df.head(15)\n",
    "# Select the top 15 features for visualization\n",
    "top_features = feature_importance_df.head(15)\n",
    "plt.barh(top_features['feature'], top_features['importance'], color='skyblue')\n",
    "plt.xlabel('Importance')\n",
    "plt.title('Top 15 Feature Importances from Best Gradient Boosting Model (After GridSearchCV)')\n",
    "plt.gca().invert_yaxis()  # Invert y-axis for better readability\n",
    "\n",
    "plt.tight_layout()\n",
    "plt.show()"
   ]
  },
  {
   "cell_type": "code",
   "execution_count": null,
   "id": "06da2e93-a59b-44fe-aa69-ff27e772358c",
   "metadata": {},
   "outputs": [],
   "source": []
  },
  {
   "cell_type": "markdown",
   "id": "62073657-ffd2-4765-b735-3fcbfcd19911",
   "metadata": {},
   "source": [
    "### SVM"
   ]
  },
  {
   "cell_type": "code",
   "execution_count": 42,
   "id": "611a0888-87b4-495e-bfbc-013e61c70f5c",
   "metadata": {},
   "outputs": [
    {
     "name": "stdout",
     "output_type": "stream",
     "text": [
      "Training MSE: 1.0460998043062424\n",
      "Training MAE: 0.583667286190142\n",
      "Training R²: 0.1379000487071067\n",
      "Testing MSE: 1.953817441901354\n",
      "Testing MAE: 0.9132650585204491\n",
      "Testing R²: 0.40667726360629175\n"
     ]
    }
   ],
   "source": [
    "\n",
    "\n",
    "# Define the SVM pipeline with scaling\n",
    "svm_pipeline = Pipeline([\n",
    "    #('preprocessor', column_transformer),\n",
    "    ('scaler', StandardScaler()),       # Scale features for SVR\n",
    "    ('svr', SVR(kernel='linear',C=1.0, epsilon=0.1)   ) # Basic SVR model with default parameters\n",
    "])\n",
    "\n",
    "\n",
    "# Fit the pipeline on the training data\n",
    "svm_pipeline.fit(X_train, y_train)\n",
    "\n",
    "# Make predictions on training and testing sets\n",
    "\n",
    "y_train_pred = svm_pipeline.predict(X_train)\n",
    "y_test_pred = svm_pipeline.predict(X_test)\n",
    "\n",
    "# Evaluate the model performance\n",
    "train_mse = mean_squared_error(y_train, y_train_pred)\n",
    "train_mae = mean_absolute_error(y_train, y_train_pred)\n",
    "train_r2 = r2_score(y_train, y_train_pred)\n",
    "\n",
    "test_mse = mean_squared_error(y_test, y_test_pred)\n",
    "test_mae = mean_absolute_error(y_test, y_test_pred)\n",
    "test_r2_log = r2_score(y_test, y_test_pred)\n",
    "\n",
    "\n",
    "\n",
    "print(\"Training MSE:\", train_mse)\n",
    "print(\"Training MAE:\", train_mae)\n",
    "print(\"Training R²:\", train_r2)\n",
    "print(\"Testing MSE:\", test_mse)\n",
    "print(\"Testing MAE:\", test_mae)\n",
    "print(\"Testing R²:\", test_r2)\n"
   ]
  },
  {
   "cell_type": "code",
   "execution_count": 43,
   "id": "11a076e3-a0f2-4deb-9689-5bb4c93fbfd0",
   "metadata": {},
   "outputs": [
    {
     "name": "stdout",
     "output_type": "stream",
     "text": [
      "                                  Coefficient\n",
      "youth_not_in_school                  0.603555\n",
      "poverty_rate                         0.481412\n",
      "median_income_squared                0.300776\n",
      "crude_rate_suicide                   0.149700\n",
      "unemployment_rate                    0.080662\n",
      "youth_in_foster_care                 0.050167\n",
      "hs_grad_rate                         0.032240\n",
      "year                                 0.023128\n",
      "bachelors_grad_rate                  0.014883\n",
      "youth_to_total_pop_ratio             0.007696\n",
      "crude_rate_od                       -0.003702\n",
      "youth_living_in_poverty             -0.035441\n",
      "labor_force_participation_rate      -0.057014\n",
      "unemployed_15_weeks                 -0.062602\n",
      "zhvi                                -0.102358\n",
      "youth_school_poverty_interaction    -0.104915\n",
      "poverty_income_interaction          -0.128985\n",
      "poverty_rate_squared                -0.275059\n",
      "poverty_to_income_ratio             -0.338484\n",
      "median_income                       -0.456399\n",
      "unemployment_youth_interaction      -0.727804\n"
     ]
    }
   ],
   "source": [
    "# Fit your model\n",
    "X_train_df = pd.DataFrame(X_train, columns=X.columns)\n",
    "\n",
    "\n",
    "\n",
    "# Access the coefficients (assuming SVR model in a regression task)\n",
    "coefficients = svm_pipeline.named_steps['svr'].coef_[0]  # For SVR, coef_ is usually in a nested array\n",
    "\n",
    "# If using LinearSVC for classification, the approach is similar:\n",
    "# coefficients = svm_pipeline.named_steps['linear_svc'].coef_[0]\n",
    "\n",
    "# Associate each coefficient with its corresponding feature name\n",
    "features = X_train_df.columns  # Ensure this matches the columns input to the model after any preprocessing\n",
    "feature_importance = pd.DataFrame(coefficients, index=features, columns=['Coefficient'])\n",
    "\n",
    "# Display the feature importances\n",
    "print(feature_importance.sort_values(by='Coefficient', ascending=False))\n"
   ]
  },
  {
   "cell_type": "code",
   "execution_count": null,
   "id": "cf257d7d-cdcc-49fa-bcbe-817578009fcc",
   "metadata": {},
   "outputs": [],
   "source": []
  },
  {
   "cell_type": "markdown",
   "id": "6322cf64-8801-4320-a085-a3dfe9bc92a1",
   "metadata": {},
   "source": [
    "### Hypertune SVM"
   ]
  },
  {
   "cell_type": "code",
   "execution_count": null,
   "id": "d0c338ca-87d0-44a6-a835-08aa6b077a26",
   "metadata": {},
   "outputs": [],
   "source": []
  },
  {
   "cell_type": "code",
   "execution_count": 44,
   "id": "28a5f524-21fe-41ef-82ff-e0a0d6ce49ef",
   "metadata": {},
   "outputs": [
    {
     "name": "stdout",
     "output_type": "stream",
     "text": [
      "Fitting 5 folds for each of 18 candidates, totalling 90 fits\n",
      "Best Parameters: {'svr__C': 10, 'svr__epsilon': 0.01, 'svr__kernel': 'rbf'}\n",
      "Best Cross-Validated R²: 0.3605187940403211\n",
      "Training MSE: 0.2993007576193192\n",
      "Training MAE: 0.16446458243808798\n",
      "Training R²: 0.7533436413013567\n",
      "Testing MSE: 1.1067689401916845\n",
      "Testing MAE: 0.6507547419849462\n",
      "Testing R²: 0.2168168399445234\n"
     ]
    }
   ],
   "source": [
    "\n",
    "\n",
    "\n",
    "# Define the parameter grid for GridSearchCV\n",
    "param_grid = {\n",
    "    'svr__C': [0.1, 1, 10],              # Regularization strength\n",
    "    'svr__epsilon': [0.01, 0.1, 0.5],    # Insensitivity margin\n",
    "    'svr__kernel': ['linear', 'rbf']      # Kernels to test\n",
    "}\n",
    "\n",
    "# Set up GridSearchCV with cross-validation\n",
    "grid_search = GridSearchCV(svm_pipeline, param_grid, cv=5, scoring='r2', verbose=1, n_jobs=-1)\n",
    "\n",
    "# Fit GridSearchCV to the training data\n",
    "grid_search.fit(X_train, y_train)\n",
    "\n",
    "# Retrieve the best parameters and score\n",
    "best_params = grid_search.best_params_\n",
    "best_score = grid_search.best_score_\n",
    "best_model = grid_search.best_estimator_\n",
    "# Make predictions with the best estimator on the test set\n",
    "y_train_pred = grid_search.best_estimator_.predict(X_train)\n",
    "y_test_pred= grid_search.best_estimator_.predict(X_test)\n",
    "\n",
    "# Evaluate the model on the test set\n",
    "train_mse = mean_squared_error(y_train, y_train_pred)\n",
    "train_mae = mean_absolute_error(y_train, y_train_pred)\n",
    "train_r2 = r2_score(y_train, y_train_pred)\n",
    "test_mse = mean_squared_error(y_test, y_test_pred)\n",
    "test_mae = mean_absolute_error(y_test, y_test_pred)\n",
    "test_r2 = r2_score(y_test, y_test_pred)\n",
    "\n",
    "print(\"Best Parameters:\", best_params)\n",
    "print(\"Best Cross-Validated R²:\", best_score)\n",
    "\n",
    "print(\"Training MSE:\", train_mse)\n",
    "print(\"Training MAE:\", train_mae)\n",
    "print(\"Training R²:\", train_r2)\n",
    "print(\"Testing MSE:\", test_mse)\n",
    "print(\"Testing MAE:\", test_mae)\n",
    "print(\"Testing R²:\", test_r2)"
   ]
  },
  {
   "cell_type": "code",
   "execution_count": null,
   "id": "f7d3a2a9-8f40-4ca3-bdf2-c192b690b4a8",
   "metadata": {},
   "outputs": [],
   "source": []
  },
  {
   "cell_type": "markdown",
   "id": "bd1d92e7-00ed-4042-be03-4d7cef26190a",
   "metadata": {},
   "source": [
    "### Stacking"
   ]
  },
  {
   "cell_type": "code",
   "execution_count": 46,
   "id": "3d295d02-1537-4697-a308-7d31e0aa3b04",
   "metadata": {},
   "outputs": [
    {
     "name": "stdout",
     "output_type": "stream",
     "text": [
      "Training MSE: 0.24455128648148214\n",
      "Training MAE: 0.3293890870443391\n",
      "Training R²: 0.7984631568647336\n",
      "Testing MSE: 0.826766186071282\n",
      "Testing MAE: 0.6536348370462185\n",
      "Testing R²: 0.41495525333212113\n"
     ]
    }
   ],
   "source": [
    "\n",
    "\n",
    "# Define base models and meta model\n",
    "base_models = [\n",
    "    ('gradient_boosting', GradientBoostingRegressor(learning_rate=0.05, max_depth=4, n_estimators=500, random_state=42,min_samples_leaf= 1,min_samples_split= 5)),\n",
    "    ('random_forest', RandomForestRegressor(ccp_alpha=0.1,n_estimators=50, max_depth=7,random_state=42,min_samples_leaf= 4,min_samples_split= 8)),\n",
    "   ('lasso', Lasso(alpha=0.1, max_iter=10000))\n",
    "]\n",
    "\n",
    "\n",
    "meta_model = Ridge(alpha=1.0)\n",
    "\n",
    "\n",
    "# Define the stacking regressor\n",
    "stacked_ensemble = StackingRegressor(estimators=base_models, final_estimator=meta_model, cv=5)\n",
    "\n",
    "# Create pipeline with stacking ensemble\n",
    "stacking_pipeline = Pipeline(steps=[\n",
    "    #('preprocessor', column_transformer),\n",
    "    ('scaler', StandardScaler()),\n",
    "    ('stacked_model', stacked_ensemble)\n",
    "])\n",
    "\n",
    "# Fit GridSearchCV on the training data to find the best parameters\n",
    "stacking_pipeline.fit(X_train, y_train)\n",
    "\n",
    "\n",
    "# Evaluate the stacked model on the test data\n",
    "y_train_pred = stacking_pipeline.predict(X_train)\n",
    "y_test_pred= stacking_pipeline.predict(X_test)\n",
    "\n",
    "ensemble_train_score = stacking_pipeline.score(X_train, y_train)\n",
    "ensemble_test_score = stacking_pipeline.score(X_test, y_test)\n",
    "\n",
    "# Evaluate the model on the test set\n",
    "train_mse = mean_squared_error(y_train, y_train_pred)\n",
    "train_mae = mean_absolute_error(y_train, y_train_pred)\n",
    "train_r2 = r2_score(y_train, y_train_pred)\n",
    "test_mse = mean_squared_error(y_test, y_test_pred)\n",
    "test_mae = mean_absolute_error(y_test, y_test_pred)\n",
    "test_r2 = r2_score(y_test, y_test_pred)\n",
    "\n",
    "\n",
    "print(\"Training MSE:\", train_mse)\n",
    "print(\"Training MAE:\", train_mae)\n",
    "print(\"Training R²:\", train_r2)\n",
    "print(\"Testing MSE:\", test_mse)\n",
    "print(\"Testing MAE:\", test_mae)\n",
    "print(\"Testing R²:\", test_r2)"
   ]
  },
  {
   "cell_type": "code",
   "execution_count": 53,
   "id": "f1011ba8-7df0-4302-9c6d-0fd926387d36",
   "metadata": {},
   "outputs": [
    {
     "name": "stdout",
     "output_type": "stream",
     "text": [
      "Bagging XGBoost MSE: 0.28356401190525204\n"
     ]
    }
   ],
   "source": [
    "from sklearn.ensemble import BaggingRegressor\n",
    "\n",
    "# Initialize XGBoost Regressor\n",
    "xgb_regressor = XGBRegressor(n_estimators=100, learning_rate=0.1, max_depth=3)\n",
    "\n",
    "# Set up Bagging with XGBoost as the base estimator\n",
    "bagging_xgb = BaggingRegressor(\n",
    "    estimator=xgb_regressor,\n",
    "    n_estimators=10,          # Number of XGBoost models in the ensemble\n",
    "    max_samples=0.8,          # Fraction of data used for each bootstrapped sample\n",
    "    max_features=1.0,         # Fraction of features used for each model\n",
    "    bootstrap=True,           # Bootstrapping samples\n",
    "    n_jobs=-1,                # Use all processors\n",
    "    random_state=42\n",
    ")\n",
    "\n",
    "# Train the bagging ensemble\n",
    "bagging_xgb.fit(X_train, y_train)\n",
    "\n",
    "# Make predictions\n",
    "y_pred = bagging_xgb.predict(X_test)\n",
    "\n",
    "# Calculate RMSE for evaluation\n",
    "mse = r2_score(y_test, y_pred)\n",
    "print(f'Bagging XGBoost MSE: {mse}')\n"
   ]
  },
  {
   "cell_type": "markdown",
   "id": "df45144e-c8b3-4524-a24f-cac4affdee63",
   "metadata": {},
   "source": [
    "### Multi Target Regressor "
   ]
  },
  {
   "cell_type": "code",
   "execution_count": 59,
   "id": "90068a58-51bc-44ff-a6e9-cfe09386665a",
   "metadata": {},
   "outputs": [
    {
     "name": "stdout",
     "output_type": "stream",
     "text": [
      "['year', 'median_income', 'poverty_rate', 'unemployment_rate', 'unemployed_15_weeks', 'labor_force_participation_rate', 'hs_grad_rate', 'bachelors_grad_rate', 'zhvi', 'crude_rate_suicide', 'crude_rate_od', 'youth_not_in_school', 'youth_in_foster_care', 'youth_living_in_poverty', 'youth_school_poverty_interaction', 'poverty_income_interaction', 'unemployment_youth_interaction', 'poverty_rate_squared', 'median_income_squared', 'poverty_to_income_ratio', 'youth_to_total_pop_ratio']\n",
      "R^2 Score for each target: [0.39933367 0.34326616 0.37723664 0.31650861]\n"
     ]
    }
   ],
   "source": [
    "from sklearn.model_selection import train_test_split\n",
    "from sklearn.multioutput import MultiOutputRegressor\n",
    "from sklearn.linear_model import SGDRegressor\n",
    "from sklearn.metrics import mean_squared_error, r2_score\n",
    "\n",
    "from sklearn.ensemble import RandomForestRegressor\n",
    "# Define features and target\n",
    "\n",
    "# columns to exclude: population-related and crime-related features\n",
    "crime_related_columns = [\n",
    "    'count:__crimes_against_society', \n",
    "    'count:__fraud_and_other_financial_crimes', \n",
    "    'count:__property_crime', \n",
    "    'count:__violent_crime',\n",
    "    'rate:__crimes_against_society', \n",
    "    'rate:__fraud_and_other_financial_crimes', \n",
    "    'rate:__property_crime', \n",
    "    'rate:__violent_crime',\n",
    "    'total_crime_count',\n",
    "    'total_crime_rate',\n",
    "    'log_total_crime_rate'\n",
    "]\n",
    "\n",
    "population_related_columns = [\n",
    "    'total_pop',\n",
    "    'white_pop',\n",
    "    'black_pop',\n",
    "    'hispanic_pop',\n",
    "    'asian_pop',\n",
    "    'native_pop',\n",
    "    'islander_pop',\n",
    "    'multi_race_pop',\n",
    "    'state'\n",
    "]\n",
    "\n",
    "#features to keep: exclude population-related and crime-related features\n",
    "#X = data.drop(columns=crime_related_columns + population_related_columns)\n",
    "X = data.drop(columns=crime_related_columns + population_related_columns)\n",
    "# Display the list of features used for modeling\n",
    "filtered_features = X.columns.tolist()\n",
    "print(filtered_features)\n",
    "\n",
    "y = data['log_total_crime_rate']\n",
    "target_features = ['rate:__crimes_against_society', \n",
    "    'rate:__fraud_and_other_financial_crimes', \n",
    "    'rate:__property_crime', \n",
    "    'rate:__violent_crime']\n",
    "\n",
    "X = data.drop(columns=crime_related_columns+population_related_columns )\n",
    "y =np.log1p(data[target_features]) \n",
    "\n",
    "# Split data into training and testing sets\n",
    "X_train, X_test, y_train, y_test = train_test_split(X, y, test_size=0.2, random_state=42)\n",
    "\n",
    "model = RandomForestRegressor(random_state=42)\n",
    "model.fit(X_train, y_train)\n",
    "\n",
    "# Predicting multiple outputs\n",
    "y_pred = model.predict(X_test)\n",
    "# Evaluate the model\n",
    "r_squared_each_output = r2_score(y_test, y_pred, multioutput='raw_values')\n",
    "\n",
    "\n",
    "\n",
    "print(\"R^2 Score for each target:\", r_squared_each_output)\n"
   ]
  },
  {
   "cell_type": "code",
   "execution_count": null,
   "id": "9e66bb4d-7277-44a9-b6b1-2182f730c3ff",
   "metadata": {},
   "outputs": [],
   "source": []
  },
  {
   "cell_type": "code",
   "execution_count": null,
   "id": "0659fbdc-e218-4b04-b406-48a50df570ac",
   "metadata": {},
   "outputs": [],
   "source": []
  },
  {
   "cell_type": "code",
   "execution_count": null,
   "id": "6830d0db-2b2f-46c4-b868-b415aee66104",
   "metadata": {},
   "outputs": [],
   "source": []
  },
  {
   "cell_type": "code",
   "execution_count": null,
   "id": "49f3263f-0998-47d7-826b-671dd42aef05",
   "metadata": {},
   "outputs": [],
   "source": []
  }
 ],
 "metadata": {
  "kernelspec": {
   "display_name": "Python 3 (ipykernel)",
   "language": "python",
   "name": "python3"
  },
  "language_info": {
   "codemirror_mode": {
    "name": "ipython",
    "version": 3
   },
   "file_extension": ".py",
   "mimetype": "text/x-python",
   "name": "python",
   "nbconvert_exporter": "python",
   "pygments_lexer": "ipython3",
   "version": "3.11.9"
  }
 },
 "nbformat": 4,
 "nbformat_minor": 5
}
