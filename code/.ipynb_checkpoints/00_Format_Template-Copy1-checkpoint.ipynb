{
 "cells": [
  {
   "cell_type": "markdown",
   "id": "e22b2371-5c81-4934-9a3c-1eaadf299efe",
   "metadata": {},
   "source": [
    "# Notebook Title\n",
    "---\n",
    "Description"
   ]
  },
  {
   "cell_type": "markdown",
   "id": "8fcfeeb1-d8bc-4180-921d-3f746240efa8",
   "metadata": {},
   "source": [
    "---\n",
    "## Subsection"
   ]
  },
  {
   "cell_type": "markdown",
   "id": "24afbd21-abb3-4914-8ac6-58e5701fd9ab",
   "metadata": {},
   "source": [
    "### S"
   ]
  }
 ],
 "metadata": {
  "kernelspec": {
   "display_name": "Python 3 (ipykernel)",
   "language": "python",
   "name": "python3"
  },
  "language_info": {
   "codemirror_mode": {
    "name": "ipython",
    "version": 3
   },
   "file_extension": ".py",
   "mimetype": "text/x-python",
   "name": "python",
   "nbconvert_exporter": "python",
   "pygments_lexer": "ipython3",
   "version": "3.12.4"
  }
 },
 "nbformat": 4,
 "nbformat_minor": 5
}
