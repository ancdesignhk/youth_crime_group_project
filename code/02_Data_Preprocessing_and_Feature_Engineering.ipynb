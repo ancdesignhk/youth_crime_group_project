{
 "cells": [
  {
   "cell_type": "markdown",
   "id": "e22b2371-5c81-4934-9a3c-1eaadf299efe",
   "metadata": {},
   "source": [
    "# Notebook Title\n",
    "---\n",
    "Description"
   ]
  },
  {
   "cell_type": "markdown",
   "id": "8fcfeeb1-d8bc-4180-921d-3f746240efa8",
   "metadata": {},
   "source": [
    "---\n",
    "## Notebook Section"
   ]
  },
  {
   "cell_type": "markdown",
   "id": "24afbd21-abb3-4914-8ac6-58e5701fd9ab",
   "metadata": {},
   "source": [
    "### Notebook Subsection"
   ]
  },
  {
   "cell_type": "markdown",
   "id": "bfed4070-539d-4f83-9356-eba51b484091",
   "metadata": {},
   "source": [
    "Markdown commentary."
   ]
  },
  {
   "cell_type": "code",
   "execution_count": 29,
   "id": "e6835183-d86d-4a3e-95f7-3b305c8adadd",
   "metadata": {},
   "outputs": [],
   "source": [
    "# imports \n",
    "import pandas as pd\n",
    "import numpy as np"
   ]
  },
  {
   "cell_type": "code",
   "execution_count": 30,
   "id": "c85255d2-4e0e-40f6-9686-af551ae995de",
   "metadata": {},
   "outputs": [
    {
     "data": {
      "text/html": [
       "<div>\n",
       "<style scoped>\n",
       "    .dataframe tbody tr th:only-of-type {\n",
       "        vertical-align: middle;\n",
       "    }\n",
       "\n",
       "    .dataframe tbody tr th {\n",
       "        vertical-align: top;\n",
       "    }\n",
       "\n",
       "    .dataframe thead th {\n",
       "        text-align: right;\n",
       "    }\n",
       "</style>\n",
       "<table border=\"1\" class=\"dataframe\">\n",
       "  <thead>\n",
       "    <tr style=\"text-align: right;\">\n",
       "      <th></th>\n",
       "      <th>state</th>\n",
       "      <th>year</th>\n",
       "      <th>total_pop</th>\n",
       "      <th>white_pop</th>\n",
       "      <th>black_pop</th>\n",
       "      <th>hispanic_pop</th>\n",
       "      <th>asian_pop</th>\n",
       "      <th>native_pop</th>\n",
       "      <th>islander_pop</th>\n",
       "      <th>multi_race_pop</th>\n",
       "      <th>...</th>\n",
       "      <th>crude_rate_od</th>\n",
       "      <th>crimes_against_society</th>\n",
       "      <th>fraud_and_other_financial_crimes</th>\n",
       "      <th>property_crime</th>\n",
       "      <th>violent_crime</th>\n",
       "      <th>youth_not_in_school</th>\n",
       "      <th>youth_in_foster_care</th>\n",
       "      <th>youth_living_in_poverty</th>\n",
       "      <th>total_crime_count</th>\n",
       "      <th>log_total_crime_count</th>\n",
       "    </tr>\n",
       "  </thead>\n",
       "  <tbody>\n",
       "    <tr>\n",
       "      <th>0</th>\n",
       "      <td>AL</td>\n",
       "      <td>2022</td>\n",
       "      <td>4916000</td>\n",
       "      <td>0.645</td>\n",
       "      <td>0.252</td>\n",
       "      <td>0.0480</td>\n",
       "      <td>0.0140</td>\n",
       "      <td>0.002</td>\n",
       "      <td>0.0</td>\n",
       "      <td>0.039</td>\n",
       "      <td>...</td>\n",
       "      <td>12.5</td>\n",
       "      <td>4804.0</td>\n",
       "      <td>913.5</td>\n",
       "      <td>6430.5</td>\n",
       "      <td>7584.5</td>\n",
       "      <td>73000.0</td>\n",
       "      <td>819.25</td>\n",
       "      <td>240000.000000</td>\n",
       "      <td>19732.5</td>\n",
       "      <td>9.890073</td>\n",
       "    </tr>\n",
       "    <tr>\n",
       "      <th>1</th>\n",
       "      <td>AL</td>\n",
       "      <td>2021</td>\n",
       "      <td>4900800</td>\n",
       "      <td>0.644</td>\n",
       "      <td>0.255</td>\n",
       "      <td>0.0470</td>\n",
       "      <td>0.0130</td>\n",
       "      <td>0.004</td>\n",
       "      <td>0.0</td>\n",
       "      <td>0.037</td>\n",
       "      <td>...</td>\n",
       "      <td>14.6</td>\n",
       "      <td>3236.5</td>\n",
       "      <td>618.0</td>\n",
       "      <td>5552.0</td>\n",
       "      <td>5527.5</td>\n",
       "      <td>86000.0</td>\n",
       "      <td>819.25</td>\n",
       "      <td>245000.000000</td>\n",
       "      <td>14934.0</td>\n",
       "      <td>9.611463</td>\n",
       "    </tr>\n",
       "    <tr>\n",
       "      <th>2</th>\n",
       "      <td>AL</td>\n",
       "      <td>2020</td>\n",
       "      <td>4833950</td>\n",
       "      <td>0.649</td>\n",
       "      <td>0.260</td>\n",
       "      <td>0.0455</td>\n",
       "      <td>0.0135</td>\n",
       "      <td>0.004</td>\n",
       "      <td>0.0</td>\n",
       "      <td>0.028</td>\n",
       "      <td>...</td>\n",
       "      <td>12.8</td>\n",
       "      <td>327.0</td>\n",
       "      <td>45.0</td>\n",
       "      <td>325.0</td>\n",
       "      <td>419.5</td>\n",
       "      <td>82000.0</td>\n",
       "      <td>819.25</td>\n",
       "      <td>249833.333333</td>\n",
       "      <td>1116.5</td>\n",
       "      <td>7.018849</td>\n",
       "    </tr>\n",
       "    <tr>\n",
       "      <th>3</th>\n",
       "      <td>AL</td>\n",
       "      <td>2019</td>\n",
       "      <td>4767100</td>\n",
       "      <td>0.654</td>\n",
       "      <td>0.265</td>\n",
       "      <td>0.0440</td>\n",
       "      <td>0.0140</td>\n",
       "      <td>0.004</td>\n",
       "      <td>0.0</td>\n",
       "      <td>0.019</td>\n",
       "      <td>...</td>\n",
       "      <td>8.3</td>\n",
       "      <td>94.0</td>\n",
       "      <td>30.5</td>\n",
       "      <td>171.0</td>\n",
       "      <td>108.5</td>\n",
       "      <td>74000.0</td>\n",
       "      <td>800.00</td>\n",
       "      <td>228000.000000</td>\n",
       "      <td>404.0</td>\n",
       "      <td>6.003887</td>\n",
       "    </tr>\n",
       "    <tr>\n",
       "      <th>4</th>\n",
       "      <td>AL</td>\n",
       "      <td>2018</td>\n",
       "      <td>4752600</td>\n",
       "      <td>0.656</td>\n",
       "      <td>0.265</td>\n",
       "      <td>0.0430</td>\n",
       "      <td>0.0130</td>\n",
       "      <td>0.010</td>\n",
       "      <td>0.0</td>\n",
       "      <td>0.019</td>\n",
       "      <td>...</td>\n",
       "      <td>6.7</td>\n",
       "      <td>33.0</td>\n",
       "      <td>15.5</td>\n",
       "      <td>37.0</td>\n",
       "      <td>52.5</td>\n",
       "      <td>86000.0</td>\n",
       "      <td>829.00</td>\n",
       "      <td>255000.000000</td>\n",
       "      <td>138.0</td>\n",
       "      <td>4.934474</td>\n",
       "    </tr>\n",
       "  </tbody>\n",
       "</table>\n",
       "<p>5 rows × 29 columns</p>\n",
       "</div>"
      ],
      "text/plain": [
       "  state  year  total_pop  white_pop  black_pop  hispanic_pop  asian_pop  \\\n",
       "0    AL  2022    4916000      0.645      0.252        0.0480     0.0140   \n",
       "1    AL  2021    4900800      0.644      0.255        0.0470     0.0130   \n",
       "2    AL  2020    4833950      0.649      0.260        0.0455     0.0135   \n",
       "3    AL  2019    4767100      0.654      0.265        0.0440     0.0140   \n",
       "4    AL  2018    4752600      0.656      0.265        0.0430     0.0130   \n",
       "\n",
       "   native_pop  islander_pop  multi_race_pop  ...  crude_rate_od  \\\n",
       "0       0.002           0.0           0.039  ...           12.5   \n",
       "1       0.004           0.0           0.037  ...           14.6   \n",
       "2       0.004           0.0           0.028  ...           12.8   \n",
       "3       0.004           0.0           0.019  ...            8.3   \n",
       "4       0.010           0.0           0.019  ...            6.7   \n",
       "\n",
       "   crimes_against_society  fraud_and_other_financial_crimes  property_crime  \\\n",
       "0                  4804.0                             913.5          6430.5   \n",
       "1                  3236.5                             618.0          5552.0   \n",
       "2                   327.0                              45.0           325.0   \n",
       "3                    94.0                              30.5           171.0   \n",
       "4                    33.0                              15.5            37.0   \n",
       "\n",
       "   violent_crime  youth_not_in_school  youth_in_foster_care  \\\n",
       "0         7584.5              73000.0                819.25   \n",
       "1         5527.5              86000.0                819.25   \n",
       "2          419.5              82000.0                819.25   \n",
       "3          108.5              74000.0                800.00   \n",
       "4           52.5              86000.0                829.00   \n",
       "\n",
       "   youth_living_in_poverty  total_crime_count  log_total_crime_count  \n",
       "0            240000.000000            19732.5               9.890073  \n",
       "1            245000.000000            14934.0               9.611463  \n",
       "2            249833.333333             1116.5               7.018849  \n",
       "3            228000.000000              404.0               6.003887  \n",
       "4            255000.000000              138.0               4.934474  \n",
       "\n",
       "[5 rows x 29 columns]"
      ]
     },
     "execution_count": 30,
     "metadata": {},
     "output_type": "execute_result"
    }
   ],
   "source": [
    "data = pd.read_csv('../data/data_final.csv')\n",
    "data.head()"
   ]
  },
  {
   "cell_type": "code",
   "execution_count": 31,
   "id": "acc3a2c2-a139-4ea5-afb5-eb4225cfaadb",
   "metadata": {},
   "outputs": [
    {
     "data": {
      "text/plain": [
       "state                               0\n",
       "year                                0\n",
       "total_pop                           0\n",
       "white_pop                           0\n",
       "black_pop                           0\n",
       "hispanic_pop                        0\n",
       "asian_pop                           0\n",
       "native_pop                          0\n",
       "islander_pop                        0\n",
       "multi_race_pop                      0\n",
       "median_income                       0\n",
       "poverty_rate                        0\n",
       "unemployment_rate                   0\n",
       "unemployed_15_weeks                 0\n",
       "labor_force_participation_rate      0\n",
       "hs_grad_rate                        0\n",
       "bachelors_grad_rate                 0\n",
       "zhvi                                0\n",
       "crude_rate_suicide                  0\n",
       "crude_rate_od                       0\n",
       "crimes_against_society              0\n",
       "fraud_and_other_financial_crimes    0\n",
       "property_crime                      0\n",
       "violent_crime                       0\n",
       "youth_not_in_school                 0\n",
       "youth_in_foster_care                0\n",
       "youth_living_in_poverty             0\n",
       "total_crime_count                   0\n",
       "log_total_crime_count               0\n",
       "dtype: int64"
      ]
     },
     "execution_count": 31,
     "metadata": {},
     "output_type": "execute_result"
    }
   ],
   "source": [
    "data.isna().sum()"
   ]
  },
  {
   "cell_type": "code",
   "execution_count": null,
   "id": "23714939-e47b-4ed0-b400-619c8df65c6b",
   "metadata": {},
   "outputs": [],
   "source": []
  },
  {
   "cell_type": "code",
   "execution_count": null,
   "id": "2c34a01e-de2a-43b6-b0b3-57338605bd88",
   "metadata": {},
   "outputs": [],
   "source": []
  },
  {
   "cell_type": "code",
   "execution_count": null,
   "id": "e66435af-f39c-4a70-b8b8-c6a84eeca9b5",
   "metadata": {},
   "outputs": [],
   "source": []
  },
  {
   "cell_type": "code",
   "execution_count": null,
   "id": "37db37a7-ff99-42ed-8729-2e49b4003206",
   "metadata": {},
   "outputs": [],
   "source": []
  },
  {
   "cell_type": "code",
   "execution_count": null,
   "id": "1f452bed-19ea-40c0-b508-93162437615e",
   "metadata": {},
   "outputs": [],
   "source": []
  },
  {
   "cell_type": "code",
   "execution_count": 34,
   "id": "51b8eb4e-d35b-4af1-9122-aff3619739e3",
   "metadata": {},
   "outputs": [],
   "source": []
  },
  {
   "cell_type": "code",
   "execution_count": 35,
   "id": "a98ed3d5-dd5b-4726-bf81-55239d1ebd11",
   "metadata": {},
   "outputs": [
    {
     "data": {
      "text/html": [
       "<div>\n",
       "<style scoped>\n",
       "    .dataframe tbody tr th:only-of-type {\n",
       "        vertical-align: middle;\n",
       "    }\n",
       "\n",
       "    .dataframe tbody tr th {\n",
       "        vertical-align: top;\n",
       "    }\n",
       "\n",
       "    .dataframe thead th {\n",
       "        text-align: right;\n",
       "    }\n",
       "</style>\n",
       "<table border=\"1\" class=\"dataframe\">\n",
       "  <thead>\n",
       "    <tr style=\"text-align: right;\">\n",
       "      <th></th>\n",
       "      <th>youth_school_poverty_interaction</th>\n",
       "    </tr>\n",
       "  </thead>\n",
       "  <tbody>\n",
       "    <tr>\n",
       "      <th>0</th>\n",
       "      <td>1.752000e+10</td>\n",
       "    </tr>\n",
       "    <tr>\n",
       "      <th>1</th>\n",
       "      <td>2.107000e+10</td>\n",
       "    </tr>\n",
       "    <tr>\n",
       "      <th>2</th>\n",
       "      <td>2.048633e+10</td>\n",
       "    </tr>\n",
       "    <tr>\n",
       "      <th>3</th>\n",
       "      <td>1.687200e+10</td>\n",
       "    </tr>\n",
       "    <tr>\n",
       "      <th>4</th>\n",
       "      <td>2.193000e+10</td>\n",
       "    </tr>\n",
       "  </tbody>\n",
       "</table>\n",
       "</div>"
      ],
      "text/plain": [
       "   youth_school_poverty_interaction\n",
       "0                      1.752000e+10\n",
       "1                      2.107000e+10\n",
       "2                      2.048633e+10\n",
       "3                      1.687200e+10\n",
       "4                      2.193000e+10"
      ]
     },
     "execution_count": 35,
     "metadata": {},
     "output_type": "execute_result"
    }
   ],
   "source": [
    "# Create interaction terms\n",
    "data['youth_school_poverty_interaction'] = data['youth_not_in_school'] * data['youth_living_in_poverty']\n",
    "\n",
    "# Display the first few rows of the dataset with new interaction terms to verify\n",
    "data[['youth_school_poverty_interaction']].head()\n"
   ]
  },
  {
   "cell_type": "code",
   "execution_count": 36,
   "id": "d908e388-f1e7-408e-bbaa-a79c614b29bf",
   "metadata": {},
   "outputs": [],
   "source": [
    "final_data = data.to_csv('../data/data.csv',index=False)\n"
   ]
  },
  {
   "cell_type": "code",
   "execution_count": 37,
   "id": "f7ba5f31-4d18-4575-a38f-93e16639902a",
   "metadata": {},
   "outputs": [
    {
     "name": "stdout",
     "output_type": "stream",
     "text": [
      "Stored 'final_data' (NoneType)\n"
     ]
    }
   ],
   "source": [
    "%store final_data "
   ]
  },
  {
   "cell_type": "code",
   "execution_count": null,
   "id": "6fc494d7-2fa0-4885-b31a-16b1ecb28eae",
   "metadata": {},
   "outputs": [],
   "source": []
  }
 ],
 "metadata": {
  "kernelspec": {
   "display_name": "Python 3 (ipykernel)",
   "language": "python",
   "name": "python3"
  },
  "language_info": {
   "codemirror_mode": {
    "name": "ipython",
    "version": 3
   },
   "file_extension": ".py",
   "mimetype": "text/x-python",
   "name": "python",
   "nbconvert_exporter": "python",
   "pygments_lexer": "ipython3",
   "version": "3.11.9"
  }
 },
 "nbformat": 4,
 "nbformat_minor": 5
}
