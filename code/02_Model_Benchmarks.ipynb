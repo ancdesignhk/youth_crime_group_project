{
 "cells": [
  {
   "cell_type": "markdown",
   "id": "fd245852-5818-46c2-8e78-652cba2276dc",
   "metadata": {},
   "source": [
    "# Model Benchmarks\n",
    "---\n",
    "This notebook establishes a baseline by implementing and benchmarking basic models, providing a foundation for further model development and tuning."
   ]
  },
  {
   "cell_type": "code",
   "execution_count": 1,
   "id": "c21f6136-4c04-49f5-8d84-a5b15d572b0e",
   "metadata": {},
   "outputs": [],
   "source": [
    "# import libraries\n",
    "import pandas as pd\n",
    "from sklearn.model_selection import train_test_split, GridSearchCV\n",
    "from sklearn.linear_model import LinearRegression, Ridge\n",
    "from sklearn.metrics import mean_squared_error, r2_score,mean_absolute_error\n",
    "from sklearn.preprocessing import StandardScaler, OrdinalEncoder, OneHotEncoder\n",
    "from sklearn.compose import ColumnTransformer\n",
    "from sklearn.pipeline import Pipeline\n",
    "from itertools import combinations\n",
    "\n",
    "import numpy as np\n",
    "import random\n",
    "# Set seed\n",
    "np.random.seed(42)\n",
    "random.seed(42)"
   ]
  },
  {
   "cell_type": "markdown",
   "id": "0dde2a8b-5c0b-49cb-bc97-aef965406fd2",
   "metadata": {},
   "source": [
    "## Load Data"
   ]
  },
  {
   "cell_type": "code",
   "execution_count": 2,
   "id": "efd88898-d7ad-4c1c-8249-73a8a695bd8c",
   "metadata": {},
   "outputs": [
    {
     "data": {
      "text/html": [
       "<div>\n",
       "<style scoped>\n",
       "    .dataframe tbody tr th:only-of-type {\n",
       "        vertical-align: middle;\n",
       "    }\n",
       "\n",
       "    .dataframe tbody tr th {\n",
       "        vertical-align: top;\n",
       "    }\n",
       "\n",
       "    .dataframe thead th {\n",
       "        text-align: right;\n",
       "    }\n",
       "</style>\n",
       "<table border=\"1\" class=\"dataframe\">\n",
       "  <thead>\n",
       "    <tr style=\"text-align: right;\">\n",
       "      <th></th>\n",
       "      <th>state</th>\n",
       "      <th>year</th>\n",
       "      <th>total_pop</th>\n",
       "      <th>white_pop</th>\n",
       "      <th>black_pop</th>\n",
       "      <th>hispanic_pop</th>\n",
       "      <th>asian_pop</th>\n",
       "      <th>native_pop</th>\n",
       "      <th>islander_pop</th>\n",
       "      <th>multi_race_pop</th>\n",
       "      <th>...</th>\n",
       "      <th>rate:__crimes_against_society</th>\n",
       "      <th>rate:__fraud_and_other_financial_crimes</th>\n",
       "      <th>rate:__property_crime</th>\n",
       "      <th>rate:__violent_crime</th>\n",
       "      <th>youth_not_in_school</th>\n",
       "      <th>youth_in_foster_care</th>\n",
       "      <th>youth_living_in_poverty</th>\n",
       "      <th>total_crime_count</th>\n",
       "      <th>total_crime_rate</th>\n",
       "      <th>log_total_crime_rate</th>\n",
       "    </tr>\n",
       "  </thead>\n",
       "  <tbody>\n",
       "    <tr>\n",
       "      <th>0</th>\n",
       "      <td>AL</td>\n",
       "      <td>2022</td>\n",
       "      <td>4916000</td>\n",
       "      <td>0.645</td>\n",
       "      <td>0.252</td>\n",
       "      <td>0.0480</td>\n",
       "      <td>0.0140</td>\n",
       "      <td>0.002</td>\n",
       "      <td>0.0</td>\n",
       "      <td>0.039</td>\n",
       "      <td>...</td>\n",
       "      <td>189.36</td>\n",
       "      <td>36.01</td>\n",
       "      <td>253.48</td>\n",
       "      <td>298.96</td>\n",
       "      <td>73000.0</td>\n",
       "      <td>819.25</td>\n",
       "      <td>240000.000000</td>\n",
       "      <td>39465.0</td>\n",
       "      <td>777.81</td>\n",
       "      <td>6.657767</td>\n",
       "    </tr>\n",
       "    <tr>\n",
       "      <th>1</th>\n",
       "      <td>AL</td>\n",
       "      <td>2021</td>\n",
       "      <td>4900800</td>\n",
       "      <td>0.644</td>\n",
       "      <td>0.255</td>\n",
       "      <td>0.0470</td>\n",
       "      <td>0.0130</td>\n",
       "      <td>0.004</td>\n",
       "      <td>0.0</td>\n",
       "      <td>0.037</td>\n",
       "      <td>...</td>\n",
       "      <td>128.17</td>\n",
       "      <td>24.48</td>\n",
       "      <td>219.86</td>\n",
       "      <td>218.90</td>\n",
       "      <td>86000.0</td>\n",
       "      <td>819.25</td>\n",
       "      <td>245000.000000</td>\n",
       "      <td>29868.0</td>\n",
       "      <td>591.41</td>\n",
       "      <td>6.384199</td>\n",
       "    </tr>\n",
       "    <tr>\n",
       "      <th>2</th>\n",
       "      <td>AL</td>\n",
       "      <td>2020</td>\n",
       "      <td>4833950</td>\n",
       "      <td>0.649</td>\n",
       "      <td>0.260</td>\n",
       "      <td>0.0455</td>\n",
       "      <td>0.0135</td>\n",
       "      <td>0.004</td>\n",
       "      <td>0.0</td>\n",
       "      <td>0.028</td>\n",
       "      <td>...</td>\n",
       "      <td>13.00</td>\n",
       "      <td>1.79</td>\n",
       "      <td>12.91</td>\n",
       "      <td>16.67</td>\n",
       "      <td>82000.0</td>\n",
       "      <td>819.25</td>\n",
       "      <td>249833.333333</td>\n",
       "      <td>2233.0</td>\n",
       "      <td>44.37</td>\n",
       "      <td>3.814851</td>\n",
       "    </tr>\n",
       "    <tr>\n",
       "      <th>3</th>\n",
       "      <td>AL</td>\n",
       "      <td>2019</td>\n",
       "      <td>4767100</td>\n",
       "      <td>0.654</td>\n",
       "      <td>0.265</td>\n",
       "      <td>0.0440</td>\n",
       "      <td>0.0140</td>\n",
       "      <td>0.004</td>\n",
       "      <td>0.0</td>\n",
       "      <td>0.019</td>\n",
       "      <td>...</td>\n",
       "      <td>3.74</td>\n",
       "      <td>1.21</td>\n",
       "      <td>6.80</td>\n",
       "      <td>4.32</td>\n",
       "      <td>74000.0</td>\n",
       "      <td>800.00</td>\n",
       "      <td>228000.000000</td>\n",
       "      <td>808.0</td>\n",
       "      <td>16.07</td>\n",
       "      <td>2.837323</td>\n",
       "    </tr>\n",
       "    <tr>\n",
       "      <th>4</th>\n",
       "      <td>AL</td>\n",
       "      <td>2018</td>\n",
       "      <td>4752600</td>\n",
       "      <td>0.656</td>\n",
       "      <td>0.265</td>\n",
       "      <td>0.0430</td>\n",
       "      <td>0.0130</td>\n",
       "      <td>0.010</td>\n",
       "      <td>0.0</td>\n",
       "      <td>0.019</td>\n",
       "      <td>...</td>\n",
       "      <td>1.31</td>\n",
       "      <td>0.62</td>\n",
       "      <td>1.47</td>\n",
       "      <td>2.09</td>\n",
       "      <td>86000.0</td>\n",
       "      <td>829.00</td>\n",
       "      <td>255000.000000</td>\n",
       "      <td>276.0</td>\n",
       "      <td>5.49</td>\n",
       "      <td>1.870263</td>\n",
       "    </tr>\n",
       "  </tbody>\n",
       "</table>\n",
       "<p>5 rows × 34 columns</p>\n",
       "</div>"
      ],
      "text/plain": [
       "  state  year  total_pop  white_pop  black_pop  hispanic_pop  asian_pop  \\\n",
       "0    AL  2022    4916000      0.645      0.252        0.0480     0.0140   \n",
       "1    AL  2021    4900800      0.644      0.255        0.0470     0.0130   \n",
       "2    AL  2020    4833950      0.649      0.260        0.0455     0.0135   \n",
       "3    AL  2019    4767100      0.654      0.265        0.0440     0.0140   \n",
       "4    AL  2018    4752600      0.656      0.265        0.0430     0.0130   \n",
       "\n",
       "   native_pop  islander_pop  multi_race_pop  ...  \\\n",
       "0       0.002           0.0           0.039  ...   \n",
       "1       0.004           0.0           0.037  ...   \n",
       "2       0.004           0.0           0.028  ...   \n",
       "3       0.004           0.0           0.019  ...   \n",
       "4       0.010           0.0           0.019  ...   \n",
       "\n",
       "   rate:__crimes_against_society  rate:__fraud_and_other_financial_crimes  \\\n",
       "0                         189.36                                    36.01   \n",
       "1                         128.17                                    24.48   \n",
       "2                          13.00                                     1.79   \n",
       "3                           3.74                                     1.21   \n",
       "4                           1.31                                     0.62   \n",
       "\n",
       "   rate:__property_crime  rate:__violent_crime  youth_not_in_school  \\\n",
       "0                 253.48                298.96              73000.0   \n",
       "1                 219.86                218.90              86000.0   \n",
       "2                  12.91                 16.67              82000.0   \n",
       "3                   6.80                  4.32              74000.0   \n",
       "4                   1.47                  2.09              86000.0   \n",
       "\n",
       "   youth_in_foster_care  youth_living_in_poverty  total_crime_count  \\\n",
       "0                819.25            240000.000000            39465.0   \n",
       "1                819.25            245000.000000            29868.0   \n",
       "2                819.25            249833.333333             2233.0   \n",
       "3                800.00            228000.000000              808.0   \n",
       "4                829.00            255000.000000              276.0   \n",
       "\n",
       "   total_crime_rate  log_total_crime_rate  \n",
       "0            777.81              6.657767  \n",
       "1            591.41              6.384199  \n",
       "2             44.37              3.814851  \n",
       "3             16.07              2.837323  \n",
       "4              5.49              1.870263  \n",
       "\n",
       "[5 rows x 34 columns]"
      ]
     },
     "execution_count": 2,
     "metadata": {},
     "output_type": "execute_result"
    }
   ],
   "source": [
    "df = pd.read_csv('../data/data.csv')\n",
    "#df=pd.read_csv('../data/data_engineered.csv')\n",
    "df.head()"
   ]
  },
  {
   "cell_type": "code",
   "execution_count": 3,
   "id": "3a5f37c1-d688-4ca5-bb5b-b043ef7ffa2f",
   "metadata": {},
   "outputs": [
    {
     "data": {
      "text/plain": [
       "(312, 34)"
      ]
     },
     "execution_count": 3,
     "metadata": {},
     "output_type": "execute_result"
    }
   ],
   "source": [
    "df.shape"
   ]
  },
  {
   "cell_type": "markdown",
   "id": "6e09a15b-1e08-4710-868a-8ec9ea941fdd",
   "metadata": {},
   "source": [
    "### Features and Target Variable"
   ]
  },
  {
   "cell_type": "code",
   "execution_count": 4,
   "id": "64a08e10-b17e-4ea7-b510-8e1c698b192a",
   "metadata": {
    "scrolled": true
   },
   "outputs": [
    {
     "name": "stdout",
     "output_type": "stream",
     "text": [
      "['year', 'median_income', 'poverty_rate', 'unemployment_rate', 'unemployed_15_weeks', 'labor_force_participation_rate', 'hs_grad_rate', 'bachelors_grad_rate', 'zhvi', 'crude_rate_suicide', 'crude_rate_od', 'youth_not_in_school', 'youth_in_foster_care', 'youth_living_in_poverty']\n"
     ]
    }
   ],
   "source": [
    "# Define features (X) and target variable (y)\n",
    "\n",
    "# columns to exclude: population-related and crime-related features\n",
    "crime_related_columns = [\n",
    "    'count:__crimes_against_society', \n",
    "    'count:__fraud_and_other_financial_crimes', \n",
    "    'count:__property_crime', \n",
    "    'count:__violent_crime',\n",
    "    'rate:__crimes_against_society', \n",
    "    'rate:__fraud_and_other_financial_crimes', \n",
    "    'rate:__property_crime', \n",
    "    'rate:__violent_crime',\n",
    "    'total_crime_count',\n",
    "    'total_crime_rate',\n",
    "    'log_total_crime_rate'\n",
    "]\n",
    "\n",
    "population_related_columns = [\n",
    "    'total_pop',\n",
    "    'white_pop',\n",
    "    'black_pop',\n",
    "    'hispanic_pop',\n",
    "    'asian_pop',\n",
    "    'native_pop',\n",
    "    'islander_pop',\n",
    "    'multi_race_pop','state'\n",
    "]\n",
    "\n",
    "\n",
    "\n",
    "#features to keep: exclude population-related and crime-related features\n",
    "X = df.drop(columns=crime_related_columns + population_related_columns)\n",
    "\n",
    "# Display the list of features used for modeling\n",
    "filtered_features = X.columns.tolist()\n",
    "print(filtered_features)\n",
    "\n",
    "\n",
    "y = df['log_total_crime_rate']\n",
    "\n"
   ]
  },
  {
   "cell_type": "markdown",
   "id": "62b5e280-7038-4f21-a7fc-6aba9e7c1439",
   "metadata": {},
   "source": [
    "### Train-Test Split"
   ]
  },
  {
   "cell_type": "code",
   "execution_count": 5,
   "id": "4713cb52-4ee3-4646-9bb9-540efcbf2138",
   "metadata": {},
   "outputs": [],
   "source": [
    "# Split the data\n",
    "X_train, X_test, y_train, y_test = train_test_split(X, y, test_size=0.2, random_state=42)"
   ]
  },
  {
   "cell_type": "markdown",
   "id": "cb5f9738-7e79-47f3-b7d0-c336d453e5df",
   "metadata": {},
   "source": [
    "## Create Models"
   ]
  },
  {
   "cell_type": "markdown",
   "id": "48f5a254-969f-4506-8250-a1908a0f9ebc",
   "metadata": {},
   "source": [
    "### Baseline Model:"
   ]
  },
  {
   "cell_type": "code",
   "execution_count": 16,
   "id": "3caa8f2f-9452-4a26-a7da-877463c5965b",
   "metadata": {},
   "outputs": [
    {
     "name": "stdout",
     "output_type": "stream",
     "text": [
      "Baseline Model: 5.996803128350241\n",
      "MSE Baseline Score: 1.2580082053817105\n",
      "MAE Baseline Score  0.7864282445041606\n",
      "R² Baseline Score : 0.0\n"
     ]
    }
   ],
   "source": [
    "# Calculate the mean and median baselines for `total_crime_count`\n",
    "mean_baseline = y.mean()\n",
    "\n",
    "\n",
    "# Generate predictions using mean and median baselines\n",
    "y_mean_baseline_pred = [mean_baseline] * len(y)\n",
    "\n",
    "\n",
    "# Calculate MSE and R² for mean baseline\n",
    "mse_mean_baseline = mean_squared_error(y, y_mean_baseline_pred)\n",
    "mae_mean_baseline = mean_absolute_error(y, y_mean_baseline_pred)\n",
    "r2_mean_baseline = r2_score(y, y_mean_baseline_pred)\n",
    "\n",
    "print(\"Baseline Model:\", mean_baseline)\n",
    "print(\"MSE Baseline Score:\", mse_mean_baseline)\n",
    "print(\"MAE Baseline Score \", mae_mean_baseline)\n",
    "print(\"R² Baseline Score :\", r2_mean_baseline)\n"
   ]
  },
  {
   "cell_type": "markdown",
   "id": "7ddab816-eaf2-4a2a-9577-b9cc060fea36",
   "metadata": {},
   "source": [
    "--------------------------------------"
   ]
  },
  {
   "cell_type": "markdown",
   "id": "11923389-ca15-4885-bf12-594eb9202e9b",
   "metadata": {},
   "source": [
    "### Ridge Regression Model"
   ]
  },
  {
   "cell_type": "code",
   "execution_count": 7,
   "id": "b45eddc8-6059-4e21-b2ac-a40c66652d6a",
   "metadata": {
    "scrolled": true
   },
   "outputs": [
    {
     "name": "stdout",
     "output_type": "stream",
     "text": [
      "Ridge Regression Model:\n",
      "MSE Score (Training): 0.979583555688467\n",
      "MAE Score (Training): 0.6761169476110025\n",
      "R² Score (Training): 0.19271666797949016\n",
      "MSE Score (Testing): 1.2881751590827175\n",
      "MAE Score (Testing): 0.849438624241648\n",
      "R² Score (Testing): 0.08844831548973642\n"
     ]
    }
   ],
   "source": [
    "# Create Ridge Regression model\n",
    "model = Pipeline([\n",
    "   # ('preprocessor', preprocessor),\n",
    "    ('sc',StandardScaler()),\n",
    "    ('ridge', Ridge(alpha=1.0))\n",
    "])\n",
    "# Train the model\n",
    "model.fit(X_train, y_train)\n",
    "# Train the model\n",
    "model.fit(X_train, y_train)\n",
    "# Make predictions\n",
    "y_train_pred = model.predict(X_train)\n",
    "y_test_pred = model.predict(X_test)\n",
    "# Evaluate Model\n",
    "mse_train =mean_squared_error(y_train, y_train_pred)\n",
    "mae_train=mean_absolute_error(y_train, y_train_pred)\n",
    "r2_train = r2_score(y_train, y_train_pred)\n",
    "mse_test = mean_squared_error(y_test, y_test_pred)\n",
    "mae_test = mean_absolute_error(y_test, y_test_pred)\n",
    "r2_test = r2_score(y_test, y_test_pred)\n",
    "# Output scores\n",
    "print(\"Ridge Regression Model:\")\n",
    "print(\"MSE Score (Training):\", mse_train)\n",
    "print(\"MAE Score (Training):\", mae_train)\n",
    "print(\"R² Score (Training):\", r2_train)\n",
    "print(\"MSE Score (Testing):\", mse_test)\n",
    "print(\"MAE Score (Testing):\", mae_test)\n",
    "print(\"R² Score (Testing):\", r2_test)"
   ]
  },
  {
   "cell_type": "markdown",
   "id": "9a59c104-1f3c-46a1-8a8f-d22253a61a35",
   "metadata": {},
   "source": [
    "- The testing MSE is slightly higher than the training MSE, indicating that the model generalizes reasonably well, with only a modest increase in error on new data.\n",
    "- The testing MAE is slightly higher, which means the model’s predictions for unseen data have slightly more error compared to training data, though the difference is not large.\n",
    "- The R² score on both training and testing data is low, suggesting that the model only captures a small portion of the variance in the data. The positive R² score on the test set (0.08) indicates that the model performs slightly better than a mean baseline, but the low values mean it struggles to explain the patterns in the data."
   ]
  },
  {
   "cell_type": "markdown",
   "id": "b7298964-ed15-4f91-b633-4e458679e59e",
   "metadata": {},
   "source": [
    "---------"
   ]
  },
  {
   "cell_type": "markdown",
   "id": "b4d3d4f5-68c4-4f7c-bb07-1df96f40bb0d",
   "metadata": {},
   "source": [
    "### Linear Regression Model"
   ]
  },
  {
   "cell_type": "code",
   "execution_count": 8,
   "id": "7bfbd1a2-1a39-4d55-bdd9-aaadd2b54a47",
   "metadata": {},
   "outputs": [
    {
     "name": "stdout",
     "output_type": "stream",
     "text": [
      "Linear  Regression Model:\n",
      "MSE Score (Training): 0.9795457991580537\n",
      "MAE Score (Training): 0.6760030586939583\n",
      "R² Score (Training): 0.19274778346473953\n",
      "MSE Score (Testing): 1.2830250483571015\n",
      "MAE Score (Testing): 0.8473487971196395\n",
      "R² Score (Testing): 0.0920926895286619\n"
     ]
    }
   ],
   "source": [
    "model = Pipeline([\n",
    "    #('preprocessor', preprocessor),\n",
    "    ('linear', LinearRegression())\n",
    "])\n",
    "model.fit(X_train, y_train)\n",
    "# Make predictions\n",
    "y_train_pred = model.predict(X_train)\n",
    "y_test_pred = model.predict(X_test)\n",
    "# Evaluate Model\n",
    "mse_train =mean_squared_error(y_train, y_train_pred)\n",
    "mae_train=mean_absolute_error(y_train, y_train_pred)\n",
    "r2_train = r2_score(y_train, y_train_pred)\n",
    "mse_test = mean_squared_error(y_test, y_test_pred)\n",
    "mae_test = mean_absolute_error(y_test, y_test_pred)\n",
    "r2_test = r2_score(y_test, y_test_pred)\n",
    "# Output the R² scores\n",
    "print(\"Linear  Regression Model:\")\n",
    "print(\"MSE Score (Training):\", mse_train)\n",
    "print(\"MAE Score (Training):\", mae_train)\n",
    "print(\"R² Score (Training):\", r2_train)\n",
    "print(\"MSE Score (Testing):\", mse_test)\n",
    "print(\"MAE Score (Testing):\", mae_test)\n",
    "print(\"R² Score (Testing):\", r2_test)"
   ]
  },
  {
   "cell_type": "markdown",
   "id": "2ea4be7b-5b1c-403f-b94b-4a81d63b789b",
   "metadata": {},
   "source": [
    "- The MSE is slightly higher on the test set than on the training set, indicating that while the model performs reasonably on the training data, it has some difficulty generalizing to new data.\n",
    "- The MAE shows a similar pattern, with a moderate increase on the test set, indicating that predictions for unseen data are somewhat less accurate but still relatively close to the training performance.\n",
    "- Both R² scores are low, meaning the model only explains 19% of the variance on training data and 9% on testing data. While the positive R² score on the test set indicates the model does marginally better than a mean prediction, the low values suggest that the model is not capturing much of the underlying pattern in the data.\n"
   ]
  },
  {
   "cell_type": "markdown",
   "id": "9fd7d1c7-ad0f-494a-bbfb-4622f83ee5e8",
   "metadata": {},
   "source": [
    "### Test 2"
   ]
  },
  {
   "cell_type": "code",
   "execution_count": 10,
   "id": "679b092e-31c7-4497-baee-99fa5106aa60",
   "metadata": {},
   "outputs": [],
   "source": [
    "# Define all features\n",
    "features = [\n",
    "    'white_pop', 'black_pop', 'hispanic_pop', 'asian_pop',\n",
    "    'poverty_rate', 'unemployment_rate', 'labor_force_participation_rate',\n",
    "    'hs_grad_rate', 'bachelors_grad_rate', 'zhvi', 'crude_rate_suicide',\n",
    "    'crude_rate_od', 'youth_not_in_school', 'youth_in_foster_care',\n",
    "    'youth_living_in_poverty' \n",
    "]\n",
    "target = 'log_total_crime_rate'\n",
    "\n",
    "X = df[features]\n",
    "y = df[target]"
   ]
  },
  {
   "cell_type": "code",
   "execution_count": 11,
   "id": "aa3e734f-25a6-4a88-bd0f-bd6ff390a7b7",
   "metadata": {},
   "outputs": [],
   "source": [
    "# Standardize the features\n",
    "scaler = StandardScaler()\n",
    "X_scaled = scaler.fit_transform(X)"
   ]
  },
  {
   "cell_type": "code",
   "execution_count": 12,
   "id": "828d8563-0c75-46e2-adf5-ae07d3e13cb6",
   "metadata": {},
   "outputs": [],
   "source": [
    "# Split the dataset into training and testing sets\n",
    "X_train, X_test, y_train, y_test = train_test_split(X_scaled, y, test_size=0.2, random_state=42)"
   ]
  },
  {
   "cell_type": "code",
   "execution_count": 13,
   "id": "03dbbef9-1f72-45dc-9f70-61d62cfa537c",
   "metadata": {},
   "outputs": [],
   "source": [
    "# Function to evaluate a Ridge Regression model given a set of features\n",
    "def evaluate_features(feature_subset):\n",
    "    X_subset = df[list(feature_subset)]\n",
    "    X_subset_scaled = scaler.fit_transform(X_subset)\n",
    "    X_train_subset, X_test_subset, y_train_subset, y_test_subset = train_test_split(X_subset_scaled, y, test_size=0.2, random_state=42)\n",
    "    \n",
    "    ridge_model = Ridge(alpha=1.0)\n",
    "    ridge_model.fit(X_train_subset, y_train_subset)\n",
    "\n",
    "    y_train_pred = ridge_model.predict(X_train_subset)\n",
    "    y_test_pred = ridge_model.predict(X_test_subset)\n",
    "\n",
    "    r2_train = r2_score(y_train_subset, y_train_pred)\n",
    "    r2_test = r2_score(y_test_subset, y_test_pred)\n",
    "\n",
    "    return r2_train, r2_test"
   ]
  },
  {
   "cell_type": "code",
   "execution_count": 14,
   "id": "8b20f3d6-15aa-418c-91dd-0411c91b32b3",
   "metadata": {},
   "outputs": [
    {
     "name": "stdout",
     "output_type": "stream",
     "text": [
      "Best Feature Set: ('black_pop', 'asian_pop', 'bachelors_grad_rate', 'zhvi', 'youth_in_foster_care')\n",
      "Best R² Score (Testing): 0.2194374100188795\n"
     ]
    }
   ],
   "source": [
    "# Iterate over different combinations of features to find the best set\n",
    "best_r2_score = -float('inf')\n",
    "best_feature_set = None\n",
    "\n",
    "# Iterate through feature subsets (testing all possible subsets would be computationally expensive, so we use subsets of 3-5 features)\n",
    "for i in range(3, 6):\n",
    "    for feature_combination in combinations(features, i):\n",
    "        r2_train, r2_test = evaluate_features(feature_combination)\n",
    "        if r2_test > best_r2_score:\n",
    "            best_r2_score = r2_test\n",
    "            best_feature_set = feature_combination\n",
    "\n",
    "# Output the best feature set and its R² score\n",
    "print(\"Best Feature Set:\", best_feature_set)\n",
    "print(\"Best R² Score (Testing):\", best_r2_score)"
   ]
  }
 ],
 "metadata": {
  "kernelspec": {
   "display_name": "Python 3 (ipykernel)",
   "language": "python",
   "name": "python3"
  },
  "language_info": {
   "codemirror_mode": {
    "name": "ipython",
    "version": 3
   },
   "file_extension": ".py",
   "mimetype": "text/x-python",
   "name": "python",
   "nbconvert_exporter": "python",
   "pygments_lexer": "ipython3",
   "version": "3.12.4"
  }
 },
 "nbformat": 4,
 "nbformat_minor": 5
}
