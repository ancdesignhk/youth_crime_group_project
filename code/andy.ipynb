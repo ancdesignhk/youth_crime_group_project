{
 "cells": [
  {
   "cell_type": "code",
   "execution_count": 351,
   "id": "c21f6136-4c04-49f5-8d84-a5b15d572b0e",
   "metadata": {},
   "outputs": [],
   "source": [
    "# import libraries\n",
    "import pandas as pd\n",
    "from sklearn.model_selection import train_test_split, GridSearchCV\n",
    "from sklearn.linear_model import LinearRegression, Ridge\n",
    "from sklearn.metrics import mean_squared_error, r2_score,mean_absolute_error\n",
    "from sklearn.preprocessing import StandardScaler, OrdinalEncoder, OneHotEncoder\n",
    "from sklearn.compose import ColumnTransformer\n",
    "from sklearn.pipeline import Pipeline\n",
    "from itertools import combinations"
   ]
  },
  {
   "cell_type": "markdown",
   "id": "0dde2a8b-5c0b-49cb-bc97-aef965406fd2",
   "metadata": {},
   "source": [
    "### Load Data"
   ]
  },
  {
   "cell_type": "code",
   "execution_count": 353,
   "id": "efd88898-d7ad-4c1c-8249-73a8a695bd8c",
   "metadata": {},
   "outputs": [
    {
     "data": {
      "text/html": [
       "<div>\n",
       "<style scoped>\n",
       "    .dataframe tbody tr th:only-of-type {\n",
       "        vertical-align: middle;\n",
       "    }\n",
       "\n",
       "    .dataframe tbody tr th {\n",
       "        vertical-align: top;\n",
       "    }\n",
       "\n",
       "    .dataframe thead th {\n",
       "        text-align: right;\n",
       "    }\n",
       "</style>\n",
       "<table border=\"1\" class=\"dataframe\">\n",
       "  <thead>\n",
       "    <tr style=\"text-align: right;\">\n",
       "      <th></th>\n",
       "      <th>state</th>\n",
       "      <th>year</th>\n",
       "      <th>total_pop</th>\n",
       "      <th>white_pop</th>\n",
       "      <th>black_pop</th>\n",
       "      <th>hispanic_pop</th>\n",
       "      <th>asian_pop</th>\n",
       "      <th>native_pop</th>\n",
       "      <th>islander_pop</th>\n",
       "      <th>multi_race_pop</th>\n",
       "      <th>...</th>\n",
       "      <th>crude_rate_od</th>\n",
       "      <th>crimes_against_society</th>\n",
       "      <th>fraud_and_other_financial_crimes</th>\n",
       "      <th>property_crime</th>\n",
       "      <th>violent_crime</th>\n",
       "      <th>youth_not_in_school</th>\n",
       "      <th>youth_in_foster_care</th>\n",
       "      <th>youth_living_in_poverty</th>\n",
       "      <th>total_crime_count</th>\n",
       "      <th>log_total_crime_count</th>\n",
       "    </tr>\n",
       "  </thead>\n",
       "  <tbody>\n",
       "    <tr>\n",
       "      <th>0</th>\n",
       "      <td>AL</td>\n",
       "      <td>2022</td>\n",
       "      <td>4916000</td>\n",
       "      <td>0.645</td>\n",
       "      <td>0.252</td>\n",
       "      <td>0.0480</td>\n",
       "      <td>0.0140</td>\n",
       "      <td>0.002</td>\n",
       "      <td>0.0</td>\n",
       "      <td>0.039</td>\n",
       "      <td>...</td>\n",
       "      <td>12.5</td>\n",
       "      <td>4804.0</td>\n",
       "      <td>913.5</td>\n",
       "      <td>6430.5</td>\n",
       "      <td>7584.5</td>\n",
       "      <td>73000.0</td>\n",
       "      <td>819.25</td>\n",
       "      <td>240000.000000</td>\n",
       "      <td>19732.5</td>\n",
       "      <td>9.890073</td>\n",
       "    </tr>\n",
       "    <tr>\n",
       "      <th>1</th>\n",
       "      <td>AL</td>\n",
       "      <td>2021</td>\n",
       "      <td>4900800</td>\n",
       "      <td>0.644</td>\n",
       "      <td>0.255</td>\n",
       "      <td>0.0470</td>\n",
       "      <td>0.0130</td>\n",
       "      <td>0.004</td>\n",
       "      <td>0.0</td>\n",
       "      <td>0.037</td>\n",
       "      <td>...</td>\n",
       "      <td>14.6</td>\n",
       "      <td>3236.5</td>\n",
       "      <td>618.0</td>\n",
       "      <td>5552.0</td>\n",
       "      <td>5527.5</td>\n",
       "      <td>86000.0</td>\n",
       "      <td>819.25</td>\n",
       "      <td>245000.000000</td>\n",
       "      <td>14934.0</td>\n",
       "      <td>9.611463</td>\n",
       "    </tr>\n",
       "    <tr>\n",
       "      <th>2</th>\n",
       "      <td>AL</td>\n",
       "      <td>2020</td>\n",
       "      <td>4833950</td>\n",
       "      <td>0.649</td>\n",
       "      <td>0.260</td>\n",
       "      <td>0.0455</td>\n",
       "      <td>0.0135</td>\n",
       "      <td>0.004</td>\n",
       "      <td>0.0</td>\n",
       "      <td>0.028</td>\n",
       "      <td>...</td>\n",
       "      <td>12.8</td>\n",
       "      <td>327.0</td>\n",
       "      <td>45.0</td>\n",
       "      <td>325.0</td>\n",
       "      <td>419.5</td>\n",
       "      <td>82000.0</td>\n",
       "      <td>819.25</td>\n",
       "      <td>249833.333333</td>\n",
       "      <td>1116.5</td>\n",
       "      <td>7.018849</td>\n",
       "    </tr>\n",
       "    <tr>\n",
       "      <th>3</th>\n",
       "      <td>AL</td>\n",
       "      <td>2019</td>\n",
       "      <td>4767100</td>\n",
       "      <td>0.654</td>\n",
       "      <td>0.265</td>\n",
       "      <td>0.0440</td>\n",
       "      <td>0.0140</td>\n",
       "      <td>0.004</td>\n",
       "      <td>0.0</td>\n",
       "      <td>0.019</td>\n",
       "      <td>...</td>\n",
       "      <td>8.3</td>\n",
       "      <td>94.0</td>\n",
       "      <td>30.5</td>\n",
       "      <td>171.0</td>\n",
       "      <td>108.5</td>\n",
       "      <td>74000.0</td>\n",
       "      <td>800.00</td>\n",
       "      <td>228000.000000</td>\n",
       "      <td>404.0</td>\n",
       "      <td>6.003887</td>\n",
       "    </tr>\n",
       "    <tr>\n",
       "      <th>4</th>\n",
       "      <td>AL</td>\n",
       "      <td>2018</td>\n",
       "      <td>4752600</td>\n",
       "      <td>0.656</td>\n",
       "      <td>0.265</td>\n",
       "      <td>0.0430</td>\n",
       "      <td>0.0130</td>\n",
       "      <td>0.010</td>\n",
       "      <td>0.0</td>\n",
       "      <td>0.019</td>\n",
       "      <td>...</td>\n",
       "      <td>6.7</td>\n",
       "      <td>33.0</td>\n",
       "      <td>15.5</td>\n",
       "      <td>37.0</td>\n",
       "      <td>52.5</td>\n",
       "      <td>86000.0</td>\n",
       "      <td>829.00</td>\n",
       "      <td>255000.000000</td>\n",
       "      <td>138.0</td>\n",
       "      <td>4.934474</td>\n",
       "    </tr>\n",
       "  </tbody>\n",
       "</table>\n",
       "<p>5 rows × 29 columns</p>\n",
       "</div>"
      ],
      "text/plain": [
       "  state  year  total_pop  white_pop  black_pop  hispanic_pop  asian_pop  \\\n",
       "0    AL  2022    4916000      0.645      0.252        0.0480     0.0140   \n",
       "1    AL  2021    4900800      0.644      0.255        0.0470     0.0130   \n",
       "2    AL  2020    4833950      0.649      0.260        0.0455     0.0135   \n",
       "3    AL  2019    4767100      0.654      0.265        0.0440     0.0140   \n",
       "4    AL  2018    4752600      0.656      0.265        0.0430     0.0130   \n",
       "\n",
       "   native_pop  islander_pop  multi_race_pop  ...  crude_rate_od  \\\n",
       "0       0.002           0.0           0.039  ...           12.5   \n",
       "1       0.004           0.0           0.037  ...           14.6   \n",
       "2       0.004           0.0           0.028  ...           12.8   \n",
       "3       0.004           0.0           0.019  ...            8.3   \n",
       "4       0.010           0.0           0.019  ...            6.7   \n",
       "\n",
       "   crimes_against_society  fraud_and_other_financial_crimes  property_crime  \\\n",
       "0                  4804.0                             913.5          6430.5   \n",
       "1                  3236.5                             618.0          5552.0   \n",
       "2                   327.0                              45.0           325.0   \n",
       "3                    94.0                              30.5           171.0   \n",
       "4                    33.0                              15.5            37.0   \n",
       "\n",
       "   violent_crime  youth_not_in_school  youth_in_foster_care  \\\n",
       "0         7584.5              73000.0                819.25   \n",
       "1         5527.5              86000.0                819.25   \n",
       "2          419.5              82000.0                819.25   \n",
       "3          108.5              74000.0                800.00   \n",
       "4           52.5              86000.0                829.00   \n",
       "\n",
       "   youth_living_in_poverty  total_crime_count  log_total_crime_count  \n",
       "0            240000.000000            19732.5               9.890073  \n",
       "1            245000.000000            14934.0               9.611463  \n",
       "2            249833.333333             1116.5               7.018849  \n",
       "3            228000.000000              404.0               6.003887  \n",
       "4            255000.000000              138.0               4.934474  \n",
       "\n",
       "[5 rows x 29 columns]"
      ]
     },
     "execution_count": 353,
     "metadata": {},
     "output_type": "execute_result"
    }
   ],
   "source": [
    "df = pd.read_csv('../data/data.csv')\n",
    "#df=pd.read_csv('../data/data_engineered.csv')\n",
    "df.head()"
   ]
  },
  {
   "cell_type": "code",
   "execution_count": 354,
   "id": "3a5f37c1-d688-4ca5-bb5b-b043ef7ffa2f",
   "metadata": {},
   "outputs": [
    {
     "data": {
      "text/plain": [
       "(312, 29)"
      ]
     },
     "execution_count": 354,
     "metadata": {},
     "output_type": "execute_result"
    }
   ],
   "source": [
    "df.shape"
   ]
  },
  {
   "cell_type": "code",
   "execution_count": 355,
   "id": "efee7cc2-9360-4457-b4d1-7a211705e158",
   "metadata": {},
   "outputs": [
    {
     "data": {
      "text/plain": [
       "state                               0\n",
       "year                                0\n",
       "total_pop                           0\n",
       "white_pop                           0\n",
       "black_pop                           0\n",
       "hispanic_pop                        0\n",
       "asian_pop                           0\n",
       "native_pop                          0\n",
       "islander_pop                        0\n",
       "multi_race_pop                      0\n",
       "median_income                       0\n",
       "poverty_rate                        0\n",
       "unemployment_rate                   0\n",
       "unemployed_15_weeks                 0\n",
       "labor_force_participation_rate      0\n",
       "hs_grad_rate                        0\n",
       "bachelors_grad_rate                 0\n",
       "zhvi                                0\n",
       "crude_rate_suicide                  0\n",
       "crude_rate_od                       0\n",
       "crimes_against_society              0\n",
       "fraud_and_other_financial_crimes    0\n",
       "property_crime                      0\n",
       "violent_crime                       0\n",
       "youth_not_in_school                 0\n",
       "youth_in_foster_care                0\n",
       "youth_living_in_poverty             0\n",
       "total_crime_count                   0\n",
       "log_total_crime_count               0\n",
       "dtype: int64"
      ]
     },
     "execution_count": 355,
     "metadata": {},
     "output_type": "execute_result"
    }
   ],
   "source": [
    "df.isna().sum()"
   ]
  },
  {
   "cell_type": "code",
   "execution_count": 356,
   "id": "ffe728a1-419a-4511-9830-e0198833ca86",
   "metadata": {},
   "outputs": [
    {
     "data": {
      "text/plain": [
       "Index(['state', 'year', 'total_pop', 'white_pop', 'black_pop', 'hispanic_pop',\n",
       "       'asian_pop', 'native_pop', 'islander_pop', 'multi_race_pop',\n",
       "       'median_income', 'poverty_rate', 'unemployment_rate',\n",
       "       'unemployed_15_weeks', 'labor_force_participation_rate', 'hs_grad_rate',\n",
       "       'bachelors_grad_rate', 'zhvi', 'crude_rate_suicide', 'crude_rate_od',\n",
       "       'crimes_against_society', 'fraud_and_other_financial_crimes',\n",
       "       'property_crime', 'violent_crime', 'youth_not_in_school',\n",
       "       'youth_in_foster_care', 'youth_living_in_poverty', 'total_crime_count',\n",
       "       'log_total_crime_count'],\n",
       "      dtype='object')"
      ]
     },
     "execution_count": 356,
     "metadata": {},
     "output_type": "execute_result"
    }
   ],
   "source": [
    "df.columns"
   ]
  },
  {
   "cell_type": "markdown",
   "id": "6e09a15b-1e08-4710-868a-8ec9ea941fdd",
   "metadata": {},
   "source": [
    "### Features and Target Variable"
   ]
  },
  {
   "cell_type": "code",
   "execution_count": 358,
   "id": "64a08e10-b17e-4ea7-b510-8e1c698b192a",
   "metadata": {
    "scrolled": true
   },
   "outputs": [
    {
     "name": "stdout",
     "output_type": "stream",
     "text": [
      "['year', 'median_income', 'poverty_rate', 'unemployment_rate', 'unemployed_15_weeks', 'labor_force_participation_rate', 'hs_grad_rate', 'bachelors_grad_rate', 'zhvi', 'crude_rate_suicide', 'crude_rate_od', 'youth_not_in_school', 'youth_in_foster_care', 'youth_living_in_poverty']\n"
     ]
    }
   ],
   "source": [
    "# Define features (X) and target variable (y)\n",
    "\n",
    "# columns to exclude: population-related and crime-related features\n",
    "crime_related_columns = [\n",
    "    'crimes_against_society',\n",
    "    'fraud_and_other_financial_crimes',\n",
    "    'property_crime',\n",
    "    'violent_crime',\n",
    "    'total_crime_count',\n",
    "    'log_total_crime_count'\n",
    "]\n",
    "\n",
    "population_related_columns = [\n",
    "    'total_pop',\n",
    "    'white_pop',\n",
    "    'black_pop',\n",
    "    'hispanic_pop',\n",
    "    'asian_pop',\n",
    "    'native_pop',\n",
    "    'islander_pop',\n",
    "    'multi_race_pop','state'\n",
    "]\n",
    "\n",
    "\n",
    "\n",
    "#features to keep: exclude population-related and crime-related features\n",
    "X = df.drop(columns=crime_related_columns + population_related_columns)\n",
    "\n",
    "# Display the list of features used for modeling\n",
    "filtered_features = X.columns.tolist()\n",
    "print(filtered_features)\n",
    "\n",
    "\n",
    "y = df['log_total_crime_count']\n",
    "\n"
   ]
  },
  {
   "cell_type": "markdown",
   "id": "62b5e280-7038-4f21-a7fc-6aba9e7c1439",
   "metadata": {},
   "source": [
    "### Train-Test Split"
   ]
  },
  {
   "cell_type": "code",
   "execution_count": 360,
   "id": "4713cb52-4ee3-4646-9bb9-540efcbf2138",
   "metadata": {},
   "outputs": [],
   "source": [
    "# Split the data\n",
    "X_train, X_test, y_train, y_test = train_test_split(X, y, test_size=0.2, random_state=42)"
   ]
  },
  {
   "cell_type": "code",
   "execution_count": 361,
   "id": "dda9392a-a584-4c52-a6f5-3e9065d73650",
   "metadata": {},
   "outputs": [
    {
     "data": {
      "text/plain": [
       "\"# Preprocessing: Encode year, one-hot encode state, and standardize numeric features\\npreprocessor = ColumnTransformer(\\n    transformers=[\\n        ('onehot', OneHotEncoder(drop='first',sparse_output=False,handle_unknown='ignore'), ['state']),\\n        ('ordinal', OrdinalEncoder(), ['year']),\\n        ('num', StandardScaler(),[ 'median_income', 'poverty_rate', 'unemployment_rate', 'unemployed_15_weeks', 'labor_force_participation_rate', 'hs_grad_rate', 'bachelors_grad_rate', 'zhvi', 'crude_rate_suicide', 'crude_rate_od', 'youth_not_in_school', 'youth_in_foster_care', 'youth_living_in_poverty'])\\n    ]\\n)\""
      ]
     },
     "execution_count": 361,
     "metadata": {},
     "output_type": "execute_result"
    }
   ],
   "source": [
    "'''# Preprocessing: Encode year, one-hot encode state, and standardize numeric features\n",
    "preprocessor = ColumnTransformer(\n",
    "    transformers=[\n",
    "        ('onehot', OneHotEncoder(drop='first',sparse_output=False,handle_unknown='ignore'), ['state']),\n",
    "        ('ordinal', OrdinalEncoder(), ['year']),\n",
    "        ('num', StandardScaler(),[ 'median_income', 'poverty_rate', 'unemployment_rate', 'unemployed_15_weeks', 'labor_force_participation_rate', 'hs_grad_rate', 'bachelors_grad_rate', 'zhvi', 'crude_rate_suicide', 'crude_rate_od', 'youth_not_in_school', 'youth_in_foster_care', 'youth_living_in_poverty'])\n",
    "    ]\n",
    ")'''"
   ]
  },
  {
   "cell_type": "markdown",
   "id": "11923389-ca15-4885-bf12-594eb9202e9b",
   "metadata": {},
   "source": [
    "### Ridge Regression Model"
   ]
  },
  {
   "cell_type": "code",
   "execution_count": 363,
   "id": "b45eddc8-6059-4e21-b2ac-a40c66652d6a",
   "metadata": {},
   "outputs": [
    {
     "name": "stdout",
     "output_type": "stream",
     "text": [
      "Ridge Regression Model\n",
      "MSE Score (Training): 1.270253158685878\n",
      "MAE Score (Training): 0.8137468648552882\n",
      "R² Score (Training): 0.23454800029107703\n",
      "MSE Score (Testing): 1.5835016251666405\n",
      "MAE Score (Testing): 0.9912532536134046\n",
      "R² Score (Testing): -0.06317552900645307\n"
     ]
    }
   ],
   "source": [
    "# Create Ridge Regression model\n",
    "model = Pipeline([\n",
    "   # ('preprocessor', preprocessor),\n",
    "    ('sc',StandardScaler()),\n",
    "    ('ridge', Ridge(alpha=1.0))\n",
    "])\n",
    "# Train the model\n",
    "model.fit(X_train, y_train)\n",
    "# Train the model\n",
    "model.fit(X_train, y_train)\n",
    "# Make predictions\n",
    "y_train_pred = model.predict(X_train)\n",
    "y_test_pred = model.predict(X_test)\n",
    "# Evaluate Model\n",
    "mse_train =mean_squared_error(y_train, y_train_pred)\n",
    "mae_train=mean_absolute_error(y_train, y_train_pred)\n",
    "r2_train = r2_score(y_train, y_train_pred)\n",
    "mse_test = mean_squared_error(y_test, y_test_pred)\n",
    "mae_test = mean_absolute_error(y_test, y_test_pred)\n",
    "r2_test = r2_score(y_test, y_test_pred)\n",
    "# Output scores\n",
    "print(\"Ridge Regression Model\")\n",
    "print(\"MSE Score (Training):\", mse_train)\n",
    "print(\"MAE Score (Training):\", mae_train)\n",
    "print(\"R² Score (Training):\", r2_train)\n",
    "print(\"MSE Score (Testing):\", mse_test)\n",
    "print(\"MAE Score (Testing):\", mae_test)\n",
    "print(\"R² Score (Testing):\", r2_test)"
   ]
  },
  {
   "cell_type": "markdown",
   "id": "9a59c104-1f3c-46a1-8a8f-d22253a61a35",
   "metadata": {},
   "source": []
  },
  {
   "cell_type": "markdown",
   "id": "b4d3d4f5-68c4-4f7c-bb07-1df96f40bb0d",
   "metadata": {},
   "source": [
    "### Linear Regression Model"
   ]
  },
  {
   "cell_type": "code",
   "execution_count": 366,
   "id": "7bfbd1a2-1a39-4d55-bdd9-aaadd2b54a47",
   "metadata": {},
   "outputs": [
    {
     "name": "stdout",
     "output_type": "stream",
     "text": [
      "Linear  Regression Model\n",
      "MSE Score (Training): 1.2693830250635674\n",
      "MAE Score (Training): 0.8112171641984762\n",
      "R² Score (Training): 0.23507234106256603\n",
      "MSE Score (Testing): 1.5837030496142386\n",
      "MAE Score (Testing): 0.9853098734839842\n",
      "R² Score (Testing): -0.0633107669754116\n"
     ]
    }
   ],
   "source": [
    "model = Pipeline([\n",
    "    #('preprocessor', preprocessor),\n",
    "    ('linear', LinearRegression())\n",
    "])\n",
    "model.fit(X_train, y_train)\n",
    "# Make predictions\n",
    "y_train_pred = model.predict(X_train)\n",
    "y_test_pred = model.predict(X_test)\n",
    "# Evaluate Model\n",
    "mse_train =mean_squared_error(y_train, y_train_pred)\n",
    "mae_train=mean_absolute_error(y_train, y_train_pred)\n",
    "r2_train = r2_score(y_train, y_train_pred)\n",
    "mse_test = mean_squared_error(y_test, y_test_pred)\n",
    "mae_test = mean_absolute_error(y_test, y_test_pred)\n",
    "r2_test = r2_score(y_test, y_test_pred)\n",
    "# Output the R² scores\n",
    "print(\"Linear  Regression Model\")\n",
    "print(\"MSE Score (Training):\", mse_train)\n",
    "print(\"MAE Score (Training):\", mae_train)\n",
    "print(\"R² Score (Training):\", r2_train)\n",
    "print(\"MSE Score (Testing):\", mse_test)\n",
    "print(\"MAE Score (Testing):\", mae_test)\n",
    "print(\"R² Score (Testing):\", r2_test)"
   ]
  },
  {
   "cell_type": "markdown",
   "id": "2ea4be7b-5b1c-403f-b94b-4a81d63b789b",
   "metadata": {},
   "source": []
  },
  {
   "cell_type": "markdown",
   "id": "9fd7d1c7-ad0f-494a-bbfb-4622f83ee5e8",
   "metadata": {},
   "source": [
    "### Test 2"
   ]
  },
  {
   "cell_type": "code",
   "execution_count": 369,
   "id": "679b092e-31c7-4497-baee-99fa5106aa60",
   "metadata": {},
   "outputs": [],
   "source": [
    "# Define all features\n",
    "features = [\n",
    "    'white_pop', 'black_pop', 'hispanic_pop', 'asian_pop',\n",
    "    'poverty_rate', 'unemployment_rate', 'labor_force_participation_rate',\n",
    "    'hs_grad_rate', 'bachelors_grad_rate', 'zhvi', 'crude_rate_suicide',\n",
    "    'crude_rate_od', 'youth_not_in_school', 'youth_in_foster_care',\n",
    "    'youth_living_in_poverty' \n",
    "]\n",
    "target = 'log_total_crime_count'\n",
    "\n",
    "X = df[features]\n",
    "y = df[target]"
   ]
  },
  {
   "cell_type": "code",
   "execution_count": 370,
   "id": "aa3e734f-25a6-4a88-bd0f-bd6ff390a7b7",
   "metadata": {},
   "outputs": [],
   "source": [
    "# Standardize the features\n",
    "scaler = StandardScaler()\n",
    "X_scaled = scaler.fit_transform(X)\n"
   ]
  },
  {
   "cell_type": "code",
   "execution_count": 371,
   "id": "828d8563-0c75-46e2-adf5-ae07d3e13cb6",
   "metadata": {},
   "outputs": [],
   "source": [
    "# Split the dataset into training and testing sets\n",
    "X_train, X_test, y_train, y_test = train_test_split(X_scaled, y, test_size=0.2, random_state=42)"
   ]
  },
  {
   "cell_type": "code",
   "execution_count": 372,
   "id": "03dbbef9-1f72-45dc-9f70-61d62cfa537c",
   "metadata": {},
   "outputs": [],
   "source": [
    "# Function to evaluate a Ridge Regression model given a set of features\n",
    "def evaluate_features(feature_subset):\n",
    "    X_subset = df[list(feature_subset)]\n",
    "    X_subset_scaled = scaler.fit_transform(X_subset)\n",
    "    X_train_subset, X_test_subset, y_train_subset, y_test_subset = train_test_split(X_subset_scaled, y, test_size=0.2, random_state=42)\n",
    "    \n",
    "    ridge_model = Ridge(alpha=1.0)\n",
    "    ridge_model.fit(X_train_subset, y_train_subset)\n",
    "\n",
    "    y_train_pred = ridge_model.predict(X_train_subset)\n",
    "    y_test_pred = ridge_model.predict(X_test_subset)\n",
    "\n",
    "    r2_train = r2_score(y_train_subset, y_train_pred)\n",
    "    r2_test = r2_score(y_test_subset, y_test_pred)\n",
    "\n",
    "    return r2_train, r2_test"
   ]
  },
  {
   "cell_type": "code",
   "execution_count": 373,
   "id": "8b20f3d6-15aa-418c-91dd-0411c91b32b3",
   "metadata": {},
   "outputs": [
    {
     "ename": "NameError",
     "evalue": "name 'all_features' is not defined",
     "output_type": "error",
     "traceback": [
      "\u001b[0;31m---------------------------------------------------------------------------\u001b[0m",
      "\u001b[0;31mNameError\u001b[0m                                 Traceback (most recent call last)",
      "Cell \u001b[0;32mIn[373], line 7\u001b[0m\n\u001b[1;32m      5\u001b[0m \u001b[38;5;66;03m# Iterate through feature subsets (testing all possible subsets would be computationally expensive, so we use subsets of 3-5 features)\u001b[39;00m\n\u001b[1;32m      6\u001b[0m \u001b[38;5;28;01mfor\u001b[39;00m i \u001b[38;5;129;01min\u001b[39;00m \u001b[38;5;28mrange\u001b[39m(\u001b[38;5;241m3\u001b[39m, \u001b[38;5;241m6\u001b[39m):\n\u001b[0;32m----> 7\u001b[0m     \u001b[38;5;28;01mfor\u001b[39;00m feature_combination \u001b[38;5;129;01min\u001b[39;00m combinations(all_features, i):\n\u001b[1;32m      8\u001b[0m         r2_train, r2_test \u001b[38;5;241m=\u001b[39m evaluate_features(feature_combination)\n\u001b[1;32m      9\u001b[0m         \u001b[38;5;28;01mif\u001b[39;00m r2_test \u001b[38;5;241m>\u001b[39m best_r2_score:\n",
      "\u001b[0;31mNameError\u001b[0m: name 'all_features' is not defined"
     ]
    }
   ],
   "source": [
    "# Iterate over different combinations of features to find the best set\n",
    "best_r2_score = -float('inf')\n",
    "best_feature_set = None\n",
    "\n",
    "# Iterate through feature subsets (testing all possible subsets would be computationally expensive, so we use subsets of 3-5 features)\n",
    "for i in range(3, 6):\n",
    "    for feature_combination in combinations(all_features, i):\n",
    "        r2_train, r2_test = evaluate_features(feature_combination)\n",
    "        if r2_test > best_r2_score:\n",
    "            best_r2_score = r2_test\n",
    "            best_feature_set = feature_combination\n",
    "\n",
    "# Output the best feature set and its R² score\n",
    "print(\"Best Feature Set:\", best_feature_set)\n",
    "print(\"Best R² Score (Testing):\", best_r2_score)"
   ]
  },
  {
   "cell_type": "code",
   "execution_count": null,
   "id": "0dabba51-6c20-4ff0-a3f5-b6470b72632d",
   "metadata": {},
   "outputs": [],
   "source": []
  }
 ],
 "metadata": {
  "kernelspec": {
   "display_name": "Python 3 (ipykernel)",
   "language": "python",
   "name": "python3"
  },
  "language_info": {
   "codemirror_mode": {
    "name": "ipython",
    "version": 3
   },
   "file_extension": ".py",
   "mimetype": "text/x-python",
   "name": "python",
   "nbconvert_exporter": "python",
   "pygments_lexer": "ipython3",
   "version": "3.11.9"
  }
 },
 "nbformat": 4,
 "nbformat_minor": 5
}
