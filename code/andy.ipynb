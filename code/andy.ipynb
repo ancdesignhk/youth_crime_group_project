{
 "cells": [
  {
   "cell_type": "code",
   "execution_count": 57,
   "id": "c21f6136-4c04-49f5-8d84-a5b15d572b0e",
   "metadata": {},
   "outputs": [],
   "source": [
    "# import libraries\n",
    "import pandas as pd\n",
    "from sklearn.model_selection import train_test_split, GridSearchCV\n",
    "from sklearn.linear_model import LinearRegression, Ridge\n",
    "from sklearn.metrics import mean_squared_error, r2_score,mean_absolute_error\n",
    "from sklearn.preprocessing import StandardScaler, OrdinalEncoder, OneHotEncoder\n",
    "from sklearn.compose import ColumnTransformer\n",
    "from sklearn.pipeline import Pipeline\n",
    "from itertools import combinations"
   ]
  },
  {
   "cell_type": "markdown",
   "id": "0dde2a8b-5c0b-49cb-bc97-aef965406fd2",
   "metadata": {},
   "source": [
    "### Load Data"
   ]
  },
  {
   "cell_type": "code",
   "execution_count": 59,
   "id": "efd88898-d7ad-4c1c-8249-73a8a695bd8c",
   "metadata": {},
   "outputs": [
    {
     "data": {
      "text/html": [
       "<div>\n",
       "<style scoped>\n",
       "    .dataframe tbody tr th:only-of-type {\n",
       "        vertical-align: middle;\n",
       "    }\n",
       "\n",
       "    .dataframe tbody tr th {\n",
       "        vertical-align: top;\n",
       "    }\n",
       "\n",
       "    .dataframe thead th {\n",
       "        text-align: right;\n",
       "    }\n",
       "</style>\n",
       "<table border=\"1\" class=\"dataframe\">\n",
       "  <thead>\n",
       "    <tr style=\"text-align: right;\">\n",
       "      <th></th>\n",
       "      <th>state</th>\n",
       "      <th>year</th>\n",
       "      <th>total_pop</th>\n",
       "      <th>white_pop</th>\n",
       "      <th>black_pop</th>\n",
       "      <th>hispanic_pop</th>\n",
       "      <th>asian_pop</th>\n",
       "      <th>native_pop</th>\n",
       "      <th>islander_pop</th>\n",
       "      <th>multi_race_pop</th>\n",
       "      <th>...</th>\n",
       "      <th>total_crime_count</th>\n",
       "      <th>total_crime_rate</th>\n",
       "      <th>log_total_crime_rate</th>\n",
       "      <th>youth_school_poverty_interaction</th>\n",
       "      <th>poverty_income_interaction</th>\n",
       "      <th>unemployment_youth_interaction</th>\n",
       "      <th>poverty_rate_squared</th>\n",
       "      <th>median_income_squared</th>\n",
       "      <th>poverty_to_income_ratio</th>\n",
       "      <th>youth_to_total_pop_ratio</th>\n",
       "    </tr>\n",
       "  </thead>\n",
       "  <tbody>\n",
       "    <tr>\n",
       "      <th>0</th>\n",
       "      <td>AL</td>\n",
       "      <td>2022</td>\n",
       "      <td>4916000</td>\n",
       "      <td>0.645</td>\n",
       "      <td>0.252</td>\n",
       "      <td>0.0480</td>\n",
       "      <td>0.0140</td>\n",
       "      <td>0.002</td>\n",
       "      <td>0.0</td>\n",
       "      <td>0.039</td>\n",
       "      <td>...</td>\n",
       "      <td>39465.0</td>\n",
       "      <td>777.81</td>\n",
       "      <td>6.657767</td>\n",
       "      <td>9928.0</td>\n",
       "      <td>8147.76</td>\n",
       "      <td>1825.0</td>\n",
       "      <td>0.018496</td>\n",
       "      <td>3589208100</td>\n",
       "      <td>0.000002</td>\n",
       "      <td>0.014849</td>\n",
       "    </tr>\n",
       "    <tr>\n",
       "      <th>1</th>\n",
       "      <td>AL</td>\n",
       "      <td>2021</td>\n",
       "      <td>4900800</td>\n",
       "      <td>0.644</td>\n",
       "      <td>0.255</td>\n",
       "      <td>0.0470</td>\n",
       "      <td>0.0130</td>\n",
       "      <td>0.004</td>\n",
       "      <td>0.0</td>\n",
       "      <td>0.037</td>\n",
       "      <td>...</td>\n",
       "      <td>29868.0</td>\n",
       "      <td>591.41</td>\n",
       "      <td>6.384199</td>\n",
       "      <td>13674.0</td>\n",
       "      <td>9051.87</td>\n",
       "      <td>2924.0</td>\n",
       "      <td>0.025281</td>\n",
       "      <td>3241024900</td>\n",
       "      <td>0.000003</td>\n",
       "      <td>0.017548</td>\n",
       "    </tr>\n",
       "    <tr>\n",
       "      <th>2</th>\n",
       "      <td>AL</td>\n",
       "      <td>2020</td>\n",
       "      <td>4833950</td>\n",
       "      <td>0.649</td>\n",
       "      <td>0.260</td>\n",
       "      <td>0.0455</td>\n",
       "      <td>0.0135</td>\n",
       "      <td>0.004</td>\n",
       "      <td>0.0</td>\n",
       "      <td>0.028</td>\n",
       "      <td>...</td>\n",
       "      <td>2233.0</td>\n",
       "      <td>44.37</td>\n",
       "      <td>3.814851</td>\n",
       "      <td>12218.0</td>\n",
       "      <td>8148.81</td>\n",
       "      <td>5248.0</td>\n",
       "      <td>0.022201</td>\n",
       "      <td>2990996100</td>\n",
       "      <td>0.000003</td>\n",
       "      <td>0.016963</td>\n",
       "    </tr>\n",
       "    <tr>\n",
       "      <th>3</th>\n",
       "      <td>AL</td>\n",
       "      <td>2019</td>\n",
       "      <td>4767100</td>\n",
       "      <td>0.654</td>\n",
       "      <td>0.265</td>\n",
       "      <td>0.0440</td>\n",
       "      <td>0.0140</td>\n",
       "      <td>0.004</td>\n",
       "      <td>0.0</td>\n",
       "      <td>0.019</td>\n",
       "      <td>...</td>\n",
       "      <td>808.0</td>\n",
       "      <td>16.07</td>\n",
       "      <td>2.837323</td>\n",
       "      <td>9546.0</td>\n",
       "      <td>7249.80</td>\n",
       "      <td>2368.0</td>\n",
       "      <td>0.016641</td>\n",
       "      <td>3158440000</td>\n",
       "      <td>0.000002</td>\n",
       "      <td>0.015523</td>\n",
       "    </tr>\n",
       "    <tr>\n",
       "      <th>4</th>\n",
       "      <td>AL</td>\n",
       "      <td>2018</td>\n",
       "      <td>4752600</td>\n",
       "      <td>0.656</td>\n",
       "      <td>0.265</td>\n",
       "      <td>0.0430</td>\n",
       "      <td>0.0130</td>\n",
       "      <td>0.010</td>\n",
       "      <td>0.0</td>\n",
       "      <td>0.019</td>\n",
       "      <td>...</td>\n",
       "      <td>276.0</td>\n",
       "      <td>5.49</td>\n",
       "      <td>1.870263</td>\n",
       "      <td>13760.0</td>\n",
       "      <td>7990.40</td>\n",
       "      <td>3354.0</td>\n",
       "      <td>0.025600</td>\n",
       "      <td>2494003600</td>\n",
       "      <td>0.000003</td>\n",
       "      <td>0.018095</td>\n",
       "    </tr>\n",
       "  </tbody>\n",
       "</table>\n",
       "<p>5 rows × 41 columns</p>\n",
       "</div>"
      ],
      "text/plain": [
       "  state  year  total_pop  white_pop  black_pop  hispanic_pop  asian_pop  \\\n",
       "0    AL  2022    4916000      0.645      0.252        0.0480     0.0140   \n",
       "1    AL  2021    4900800      0.644      0.255        0.0470     0.0130   \n",
       "2    AL  2020    4833950      0.649      0.260        0.0455     0.0135   \n",
       "3    AL  2019    4767100      0.654      0.265        0.0440     0.0140   \n",
       "4    AL  2018    4752600      0.656      0.265        0.0430     0.0130   \n",
       "\n",
       "   native_pop  islander_pop  multi_race_pop  ...  total_crime_count  \\\n",
       "0       0.002           0.0           0.039  ...            39465.0   \n",
       "1       0.004           0.0           0.037  ...            29868.0   \n",
       "2       0.004           0.0           0.028  ...             2233.0   \n",
       "3       0.004           0.0           0.019  ...              808.0   \n",
       "4       0.010           0.0           0.019  ...              276.0   \n",
       "\n",
       "   total_crime_rate  log_total_crime_rate  youth_school_poverty_interaction  \\\n",
       "0            777.81              6.657767                            9928.0   \n",
       "1            591.41              6.384199                           13674.0   \n",
       "2             44.37              3.814851                           12218.0   \n",
       "3             16.07              2.837323                            9546.0   \n",
       "4              5.49              1.870263                           13760.0   \n",
       "\n",
       "   poverty_income_interaction  unemployment_youth_interaction  \\\n",
       "0                     8147.76                          1825.0   \n",
       "1                     9051.87                          2924.0   \n",
       "2                     8148.81                          5248.0   \n",
       "3                     7249.80                          2368.0   \n",
       "4                     7990.40                          3354.0   \n",
       "\n",
       "   poverty_rate_squared  median_income_squared  poverty_to_income_ratio  \\\n",
       "0              0.018496             3589208100                 0.000002   \n",
       "1              0.025281             3241024900                 0.000003   \n",
       "2              0.022201             2990996100                 0.000003   \n",
       "3              0.016641             3158440000                 0.000002   \n",
       "4              0.025600             2494003600                 0.000003   \n",
       "\n",
       "   youth_to_total_pop_ratio  \n",
       "0                  0.014849  \n",
       "1                  0.017548  \n",
       "2                  0.016963  \n",
       "3                  0.015523  \n",
       "4                  0.018095  \n",
       "\n",
       "[5 rows x 41 columns]"
      ]
     },
     "execution_count": 59,
     "metadata": {},
     "output_type": "execute_result"
    }
   ],
   "source": [
    "#df = pd.read_csv('../data/data.csv')\n",
    "df=pd.read_csv('../data/data_engineered.csv')\n",
    "df.head()"
   ]
  },
  {
   "cell_type": "code",
   "execution_count": 60,
   "id": "3a5f37c1-d688-4ca5-bb5b-b043ef7ffa2f",
   "metadata": {},
   "outputs": [
    {
     "data": {
      "text/plain": [
       "(312, 41)"
      ]
     },
     "execution_count": 60,
     "metadata": {},
     "output_type": "execute_result"
    }
   ],
   "source": [
    "df.shape"
   ]
  },
  {
   "cell_type": "code",
   "execution_count": 61,
   "id": "efee7cc2-9360-4457-b4d1-7a211705e158",
   "metadata": {},
   "outputs": [
    {
     "data": {
      "text/plain": [
       "state                                       0\n",
       "year                                        0\n",
       "total_pop                                   0\n",
       "white_pop                                   0\n",
       "black_pop                                   0\n",
       "hispanic_pop                                0\n",
       "asian_pop                                   0\n",
       "native_pop                                  0\n",
       "islander_pop                                0\n",
       "multi_race_pop                              0\n",
       "median_income                               0\n",
       "poverty_rate                                0\n",
       "unemployment_rate                           0\n",
       "unemployed_15_weeks                         0\n",
       "labor_force_participation_rate              0\n",
       "hs_grad_rate                                0\n",
       "bachelors_grad_rate                         0\n",
       "zhvi                                        0\n",
       "crude_rate_suicide                          0\n",
       "crude_rate_od                               0\n",
       "count:__crimes_against_society              0\n",
       "count:__fraud_and_other_financial_crimes    0\n",
       "count:__property_crime                      0\n",
       "count:__violent_crime                       0\n",
       "rate:__crimes_against_society               0\n",
       "rate:__fraud_and_other_financial_crimes     0\n",
       "rate:__property_crime                       0\n",
       "rate:__violent_crime                        0\n",
       "youth_not_in_school                         0\n",
       "youth_in_foster_care                        0\n",
       "youth_living_in_poverty                     0\n",
       "total_crime_count                           0\n",
       "total_crime_rate                            0\n",
       "log_total_crime_rate                        0\n",
       "youth_school_poverty_interaction            0\n",
       "poverty_income_interaction                  0\n",
       "unemployment_youth_interaction              0\n",
       "poverty_rate_squared                        0\n",
       "median_income_squared                       0\n",
       "poverty_to_income_ratio                     0\n",
       "youth_to_total_pop_ratio                    0\n",
       "dtype: int64"
      ]
     },
     "execution_count": 61,
     "metadata": {},
     "output_type": "execute_result"
    }
   ],
   "source": [
    "df.isna().sum()"
   ]
  },
  {
   "cell_type": "code",
   "execution_count": 62,
   "id": "ffe728a1-419a-4511-9830-e0198833ca86",
   "metadata": {},
   "outputs": [
    {
     "data": {
      "text/plain": [
       "Index(['state', 'year', 'total_pop', 'white_pop', 'black_pop', 'hispanic_pop',\n",
       "       'asian_pop', 'native_pop', 'islander_pop', 'multi_race_pop',\n",
       "       'median_income', 'poverty_rate', 'unemployment_rate',\n",
       "       'unemployed_15_weeks', 'labor_force_participation_rate', 'hs_grad_rate',\n",
       "       'bachelors_grad_rate', 'zhvi', 'crude_rate_suicide', 'crude_rate_od',\n",
       "       'count:__crimes_against_society',\n",
       "       'count:__fraud_and_other_financial_crimes', 'count:__property_crime',\n",
       "       'count:__violent_crime', 'rate:__crimes_against_society',\n",
       "       'rate:__fraud_and_other_financial_crimes', 'rate:__property_crime',\n",
       "       'rate:__violent_crime', 'youth_not_in_school', 'youth_in_foster_care',\n",
       "       'youth_living_in_poverty', 'total_crime_count', 'total_crime_rate',\n",
       "       'log_total_crime_rate', 'youth_school_poverty_interaction',\n",
       "       'poverty_income_interaction', 'unemployment_youth_interaction',\n",
       "       'poverty_rate_squared', 'median_income_squared',\n",
       "       'poverty_to_income_ratio', 'youth_to_total_pop_ratio'],\n",
       "      dtype='object')"
      ]
     },
     "execution_count": 62,
     "metadata": {},
     "output_type": "execute_result"
    }
   ],
   "source": [
    "df.columns"
   ]
  },
  {
   "cell_type": "markdown",
   "id": "6e09a15b-1e08-4710-868a-8ec9ea941fdd",
   "metadata": {},
   "source": [
    "### Features and Target Variable"
   ]
  },
  {
   "cell_type": "code",
   "execution_count": 64,
   "id": "64a08e10-b17e-4ea7-b510-8e1c698b192a",
   "metadata": {
    "scrolled": true
   },
   "outputs": [
    {
     "name": "stdout",
     "output_type": "stream",
     "text": [
      "['year', 'median_income', 'poverty_rate', 'unemployment_rate', 'unemployed_15_weeks', 'labor_force_participation_rate', 'hs_grad_rate', 'bachelors_grad_rate', 'zhvi', 'crude_rate_suicide', 'crude_rate_od', 'youth_not_in_school', 'youth_in_foster_care', 'youth_living_in_poverty', 'youth_school_poverty_interaction', 'poverty_income_interaction', 'unemployment_youth_interaction', 'poverty_rate_squared', 'median_income_squared', 'poverty_to_income_ratio', 'youth_to_total_pop_ratio']\n"
     ]
    }
   ],
   "source": [
    "# Define features (X) and target variable (y)\n",
    "\n",
    "# columns to exclude: population-related and crime-related features\n",
    "crime_related_columns = [\n",
    "    'count:__crimes_against_society', \n",
    "    'count:__fraud_and_other_financial_crimes', \n",
    "    'count:__property_crime', \n",
    "    'count:__violent_crime',\n",
    "    'rate:__crimes_against_society', \n",
    "    'rate:__fraud_and_other_financial_crimes', \n",
    "    'rate:__property_crime', \n",
    "    'rate:__violent_crime',\n",
    "    'total_crime_count',\n",
    "    'total_crime_rate',\n",
    "    'log_total_crime_rate'\n",
    "]\n",
    "\n",
    "population_related_columns = [\n",
    "    'total_pop',\n",
    "    'white_pop',\n",
    "    'black_pop',\n",
    "    'hispanic_pop',\n",
    "    'asian_pop',\n",
    "    'native_pop',\n",
    "    'islander_pop',\n",
    "    'multi_race_pop','state'\n",
    "]\n",
    "\n",
    "\n",
    "\n",
    "#features to keep: exclude population-related and crime-related features\n",
    "X = df.drop(columns=crime_related_columns + population_related_columns)\n",
    "\n",
    "# Display the list of features used for modeling\n",
    "filtered_features = X.columns.tolist()\n",
    "print(filtered_features)\n",
    "\n",
    "\n",
    "y = df['log_total_crime_rate']\n",
    "\n"
   ]
  },
  {
   "cell_type": "markdown",
   "id": "62b5e280-7038-4f21-a7fc-6aba9e7c1439",
   "metadata": {},
   "source": [
    "### Train-Test Split"
   ]
  },
  {
   "cell_type": "code",
   "execution_count": 66,
   "id": "4713cb52-4ee3-4646-9bb9-540efcbf2138",
   "metadata": {},
   "outputs": [],
   "source": [
    "# Split the data\n",
    "X_train, X_test, y_train, y_test = train_test_split(X, y, test_size=0.2, random_state=42)"
   ]
  },
  {
   "cell_type": "markdown",
   "id": "48f5a254-969f-4506-8250-a1908a0f9ebc",
   "metadata": {},
   "source": [
    "## Baseline Model:"
   ]
  },
  {
   "cell_type": "code",
   "execution_count": 68,
   "id": "3caa8f2f-9452-4a26-a7da-877463c5965b",
   "metadata": {},
   "outputs": [
    {
     "data": {
      "text/plain": [
       "(1.2580082053817108, 1.2580082053817108, 0.0)"
      ]
     },
     "execution_count": 68,
     "metadata": {},
     "output_type": "execute_result"
    }
   ],
   "source": [
    "# Calculate the mean and median baselines for `total_crime_count`\n",
    "mean_baseline = y.mean()\n",
    "\n",
    "\n",
    "# Generate predictions using mean and median baselines\n",
    "y_mean_baseline_pred = [mean_baseline] * len(y)\n",
    "\n",
    "\n",
    "# Calculate MSE and R² for mean baseline\n",
    "mse_mean_baseline = mean_squared_error(y, y_mean_baseline_pred)\n",
    "mae_mean_baseline = mean_squared_error(y, y_mean_baseline_pred)\n",
    "r2_mean_baseline = r2_score(y, y_mean_baseline_pred)\n",
    "\n",
    "\n",
    "(mse_mean_baseline, mae_mean_baseline,r2_mean_baseline)"
   ]
  },
  {
   "cell_type": "code",
   "execution_count": null,
   "id": "9cc851f4-837c-48cc-9b0e-d57247de19c1",
   "metadata": {},
   "outputs": [],
   "source": []
  },
  {
   "cell_type": "markdown",
   "id": "11923389-ca15-4885-bf12-594eb9202e9b",
   "metadata": {},
   "source": [
    "### Ridge Regression Model"
   ]
  },
  {
   "cell_type": "code",
   "execution_count": 70,
   "id": "b45eddc8-6059-4e21-b2ac-a40c66652d6a",
   "metadata": {},
   "outputs": [
    {
     "name": "stdout",
     "output_type": "stream",
     "text": [
      "Ridge Regression Model\n",
      "MSE Score (Training): 0.9251439258908855\n",
      "MAE Score (Training): 0.6463641563309233\n",
      "R² Score (Training): 0.23758084059829976\n",
      "MSE Score (Testing): 1.7756197044340927\n",
      "MAE Score (Testing): 0.9373586653868435\n",
      "R² Score (Testing): -0.25648218040399273\n"
     ]
    }
   ],
   "source": [
    "# Create Ridge Regression model\n",
    "model = Pipeline([\n",
    "   # ('preprocessor', preprocessor),\n",
    "    ('sc',StandardScaler()),\n",
    "    ('ridge', Ridge(alpha=1.0))\n",
    "])\n",
    "# Train the model\n",
    "model.fit(X_train, y_train)\n",
    "# Train the model\n",
    "model.fit(X_train, y_train)\n",
    "# Make predictions\n",
    "y_train_pred = model.predict(X_train)\n",
    "y_test_pred = model.predict(X_test)\n",
    "# Evaluate Model\n",
    "mse_train =mean_squared_error(y_train, y_train_pred)\n",
    "mae_train=mean_absolute_error(y_train, y_train_pred)\n",
    "r2_train = r2_score(y_train, y_train_pred)\n",
    "mse_test = mean_squared_error(y_test, y_test_pred)\n",
    "mae_test = mean_absolute_error(y_test, y_test_pred)\n",
    "r2_test = r2_score(y_test, y_test_pred)\n",
    "# Output scores\n",
    "print(\"Ridge Regression Model\")\n",
    "print(\"MSE Score (Training):\", mse_train)\n",
    "print(\"MAE Score (Training):\", mae_train)\n",
    "print(\"R² Score (Training):\", r2_train)\n",
    "print(\"MSE Score (Testing):\", mse_test)\n",
    "print(\"MAE Score (Testing):\", mae_test)\n",
    "print(\"R² Score (Testing):\", r2_test)"
   ]
  },
  {
   "cell_type": "markdown",
   "id": "9a59c104-1f3c-46a1-8a8f-d22253a61a35",
   "metadata": {},
   "source": []
  },
  {
   "cell_type": "markdown",
   "id": "b4d3d4f5-68c4-4f7c-bb07-1df96f40bb0d",
   "metadata": {},
   "source": [
    "### Linear Regression Model"
   ]
  },
  {
   "cell_type": "code",
   "execution_count": 73,
   "id": "7bfbd1a2-1a39-4d55-bdd9-aaadd2b54a47",
   "metadata": {},
   "outputs": [
    {
     "name": "stdout",
     "output_type": "stream",
     "text": [
      "Linear  Regression Model\n",
      "MSE Score (Training): 0.9231307883692299\n",
      "MAE Score (Training): 0.6445172990972622\n",
      "R² Score (Training): 0.23923988474707114\n",
      "MSE Score (Testing): 1.8085450355594965\n",
      "MAE Score (Testing): 0.9387987605777858\n",
      "R² Score (Testing): -0.27978114005152377\n"
     ]
    }
   ],
   "source": [
    "model = Pipeline([\n",
    "    #('preprocessor', preprocessor),\n",
    "    ('linear', LinearRegression())\n",
    "])\n",
    "model.fit(X_train, y_train)\n",
    "# Make predictions\n",
    "y_train_pred = model.predict(X_train)\n",
    "y_test_pred = model.predict(X_test)\n",
    "# Evaluate Model\n",
    "mse_train =mean_squared_error(y_train, y_train_pred)\n",
    "mae_train=mean_absolute_error(y_train, y_train_pred)\n",
    "r2_train = r2_score(y_train, y_train_pred)\n",
    "mse_test = mean_squared_error(y_test, y_test_pred)\n",
    "mae_test = mean_absolute_error(y_test, y_test_pred)\n",
    "r2_test = r2_score(y_test, y_test_pred)\n",
    "# Output the R² scores\n",
    "print(\"Linear  Regression Model\")\n",
    "print(\"MSE Score (Training):\", mse_train)\n",
    "print(\"MAE Score (Training):\", mae_train)\n",
    "print(\"R² Score (Training):\", r2_train)\n",
    "print(\"MSE Score (Testing):\", mse_test)\n",
    "print(\"MAE Score (Testing):\", mae_test)\n",
    "print(\"R² Score (Testing):\", r2_test)"
   ]
  },
  {
   "cell_type": "markdown",
   "id": "2ea4be7b-5b1c-403f-b94b-4a81d63b789b",
   "metadata": {},
   "source": []
  },
  {
   "cell_type": "markdown",
   "id": "9fd7d1c7-ad0f-494a-bbfb-4622f83ee5e8",
   "metadata": {},
   "source": [
    "### Test 2"
   ]
  },
  {
   "cell_type": "code",
   "execution_count": 76,
   "id": "679b092e-31c7-4497-baee-99fa5106aa60",
   "metadata": {},
   "outputs": [],
   "source": [
    "# Define all features\n",
    "features = [\n",
    "    'white_pop', 'black_pop', 'hispanic_pop', 'asian_pop',\n",
    "    'poverty_rate', 'unemployment_rate', 'labor_force_participation_rate',\n",
    "    'hs_grad_rate', 'bachelors_grad_rate', 'zhvi', 'crude_rate_suicide',\n",
    "    'crude_rate_od', 'youth_not_in_school', 'youth_in_foster_care',\n",
    "    'youth_living_in_poverty' \n",
    "]\n",
    "target = 'total_crime_rate'\n",
    "\n",
    "X = df[features]\n",
    "y = df[target]"
   ]
  },
  {
   "cell_type": "code",
   "execution_count": 77,
   "id": "aa3e734f-25a6-4a88-bd0f-bd6ff390a7b7",
   "metadata": {},
   "outputs": [],
   "source": [
    "# Standardize the features\n",
    "scaler = StandardScaler()\n",
    "X_scaled = scaler.fit_transform(X)\n"
   ]
  },
  {
   "cell_type": "code",
   "execution_count": 78,
   "id": "828d8563-0c75-46e2-adf5-ae07d3e13cb6",
   "metadata": {},
   "outputs": [],
   "source": [
    "# Split the dataset into training and testing sets\n",
    "X_train, X_test, y_train, y_test = train_test_split(X_scaled, y, test_size=0.2, random_state=42)"
   ]
  },
  {
   "cell_type": "code",
   "execution_count": 79,
   "id": "03dbbef9-1f72-45dc-9f70-61d62cfa537c",
   "metadata": {},
   "outputs": [],
   "source": [
    "# Function to evaluate a Ridge Regression model given a set of features\n",
    "def evaluate_features(feature_subset):\n",
    "    X_subset = df[list(feature_subset)]\n",
    "    X_subset_scaled = scaler.fit_transform(X_subset)\n",
    "    X_train_subset, X_test_subset, y_train_subset, y_test_subset = train_test_split(X_subset_scaled, y, test_size=0.2, random_state=42)\n",
    "    \n",
    "    ridge_model = Ridge(alpha=1.0)\n",
    "    ridge_model.fit(X_train_subset, y_train_subset)\n",
    "\n",
    "    y_train_pred = ridge_model.predict(X_train_subset)\n",
    "    y_test_pred = ridge_model.predict(X_test_subset)\n",
    "\n",
    "    r2_train = r2_score(y_train_subset, y_train_pred)\n",
    "    r2_test = r2_score(y_test_subset, y_test_pred)\n",
    "\n",
    "    return r2_train, r2_test"
   ]
  },
  {
   "cell_type": "code",
   "execution_count": 80,
   "id": "8b20f3d6-15aa-418c-91dd-0411c91b32b3",
   "metadata": {},
   "outputs": [
    {
     "ename": "NameError",
     "evalue": "name 'all_features' is not defined",
     "output_type": "error",
     "traceback": [
      "\u001b[0;31m---------------------------------------------------------------------------\u001b[0m",
      "\u001b[0;31mNameError\u001b[0m                                 Traceback (most recent call last)",
      "Cell \u001b[0;32mIn[80], line 7\u001b[0m\n\u001b[1;32m      5\u001b[0m \u001b[38;5;66;03m# Iterate through feature subsets (testing all possible subsets would be computationally expensive, so we use subsets of 3-5 features)\u001b[39;00m\n\u001b[1;32m      6\u001b[0m \u001b[38;5;28;01mfor\u001b[39;00m i \u001b[38;5;129;01min\u001b[39;00m \u001b[38;5;28mrange\u001b[39m(\u001b[38;5;241m3\u001b[39m, \u001b[38;5;241m6\u001b[39m):\n\u001b[0;32m----> 7\u001b[0m     \u001b[38;5;28;01mfor\u001b[39;00m feature_combination \u001b[38;5;129;01min\u001b[39;00m combinations(all_features, i):\n\u001b[1;32m      8\u001b[0m         r2_train, r2_test \u001b[38;5;241m=\u001b[39m evaluate_features(feature_combination)\n\u001b[1;32m      9\u001b[0m         \u001b[38;5;28;01mif\u001b[39;00m r2_test \u001b[38;5;241m>\u001b[39m best_r2_score:\n",
      "\u001b[0;31mNameError\u001b[0m: name 'all_features' is not defined"
     ]
    }
   ],
   "source": [
    "# Iterate over different combinations of features to find the best set\n",
    "best_r2_score = -float('inf')\n",
    "best_feature_set = None\n",
    "\n",
    "# Iterate through feature subsets (testing all possible subsets would be computationally expensive, so we use subsets of 3-5 features)\n",
    "for i in range(3, 6):\n",
    "    for feature_combination in combinations(all_features, i):\n",
    "        r2_train, r2_test = evaluate_features(feature_combination)\n",
    "        if r2_test > best_r2_score:\n",
    "            best_r2_score = r2_test\n",
    "            best_feature_set = feature_combination\n",
    "\n",
    "# Output the best feature set and its R² score\n",
    "print(\"Best Feature Set:\", best_feature_set)\n",
    "print(\"Best R² Score (Testing):\", best_r2_score)"
   ]
  },
  {
   "cell_type": "code",
   "execution_count": null,
   "id": "0dabba51-6c20-4ff0-a3f5-b6470b72632d",
   "metadata": {},
   "outputs": [],
   "source": []
  }
 ],
 "metadata": {
  "kernelspec": {
   "display_name": "Python 3 (ipykernel)",
   "language": "python",
   "name": "python3"
  },
  "language_info": {
   "codemirror_mode": {
    "name": "ipython",
    "version": 3
   },
   "file_extension": ".py",
   "mimetype": "text/x-python",
   "name": "python",
   "nbconvert_exporter": "python",
   "pygments_lexer": "ipython3",
   "version": "3.11.9"
  }
 },
 "nbformat": 4,
 "nbformat_minor": 5
}
