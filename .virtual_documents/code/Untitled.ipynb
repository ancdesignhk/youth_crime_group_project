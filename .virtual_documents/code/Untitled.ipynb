import pandas as pd
import numpy as np
import seaborn as sns
from sklearn.model_selection import train_test_split,cross_val_score,GridSearchCV
from sklearn.ensemble import GradientBoostingRegressor
from sklearn.pipeline import Pipeline
from sklearn.preprocessing import StandardScaler
from xgboost import XGBRegressor
from sklearn.metrics import mean_squared_error, mean_absolute_error, r2_score
from sklearn.svm import SVR


data = pd.read_csv('../data/data.csv')
data.head()


# check for null values
data.isna().sum()


#filling all null with 0 temporary
data.fillna(0, inplace=True)



# Drop crime-related columns and calculate the correlation matrix
crime_columns = [
    'total_crime_count', 'log_total_crime_count', 'crimes_against_society', 
    'fraud_and_other_financial_crimes', 'property_crime', 'violent_crime', 'state', 'year'
]
# Filter the correlation matrix to only include correlations with 'total_crime_count'
filtered_corr = corr_data.corrwith(data['total_crime_count'], numeric_only=True)

# Create a DataFrame for visualization in the heatmap
filtered_corr_df = pd.DataFrame(filtered_corr, columns=['total_crime_count']).sort_values(by='total_crime_count', ascending=False)

# Plot the heatmap of correlations with 'total_crime_count'
plt.figure(figsize=(6, 10))
sns.heatmap(filtered_corr_df, annot=True, cmap='coolwarm', cbar=True, fmt=".2f")
plt.title('Correlation with Total Crime Count')
plt.show()



# Separate features and target variable

X = data.drop(columns = ['total_crime_count', 'log_total_crime_count', 'crimes_against_society', 
    'fraud_and_other_financial_crimes', 'property_crime', 'violent_crime', 'state', 'year'
]) # Features
y = data['log_total_crime_count']               # Target

# Split data into training and testing sets
X_train, X_test, y_train, y_test = train_test_split(X, y, test_size=0.2, random_state=42)




# Initialize and fit Gradient Boosting Regressor
gbr = GradientBoostingRegressor(random_state=42)
gbr.fit(X_train, y_train)


# Predict on training and testing data
y_train_pred = gbr.predict(X_train)
y_test_pred = gbr.predict(X_test)



# Calculate training and testing scores
train_mse = mean_squared_error(y_train, y_train_pred)
train_mae = mean_absolute_error(y_train, y_train_pred)
train_r2 = r2_score(y_train, y_train_pred)

test_mse = mean_squared_error(y_test, y_test_pred)
test_mae = mean_absolute_error(y_test, y_test_pred)
test_r2 = r2_score(y_test, y_test_pred)
print("Training Scores:")
print(f"MSE: {train_mse}, MAE: {train_mae}, R2: {train_r2}")

print("\nTesting Scores:")
print(f"MSE: {test_mse}, MAE: {test_mae}, R2: {test_r2}")

# Perform cross-validation (using 5 folds here)
cv_r2 = cross_val_score(gbr, X, y, cv=5, scoring='r2')

print("\nCross-Validation Scores (averaged across 5 folds):")
print(f" R2: {np.mean(cv_r2)}")








# Initialize the Gradient Boosting Regressor
model = GradientBoostingRegressor()

# Define the hyperparameter grid
param_grid = {
    'n_estimators': [100, 200, 300],        # Number of boosting stages
    'learning_rate': [0.01, 0.1, 0.2],      # Step size shrinkage
    'max_depth': [3, 4, 5],                 # Maximum depth of each tree
    'min_samples_split': [2, 5, 10],        # Minimum samples required to split an internal node
    'min_samples_leaf': [1, 2, 4]           # Minimum samples required to be at a leaf node
}



# Set up GridSearchCV
grid_search = GridSearchCV(model, param_grid=param_grid, cv=5, n_jobs=-1)

# Fit the model using GridSearchCV
grid_search.fit(X_train, y_train)

# Retrieve the best parameters and best score
best_params = grid_search.best_params_
best_score = grid_search.best_score_  

print("Best Parameters:", best_params)
print("Best Cross-Validated MSE:", best_score)



# Predict on training and testing data
best_model = grid_search.best_estimator_
y_train_pred = best_model.predict(X_train)
y_test_pred = best_model.predict(X_test)


# Calculate training and testing scores
train_mse = mean_squared_error(y_train, y_train_pred)
train_mae = mean_absolute_error(y_train, y_train_pred)
train_r2 = r2_score(y_train, y_train_pred)

test_mse = mean_squared_error(y_test, y_test_pred)
test_mae = mean_absolute_error(y_test, y_test_pred)
test_r2 = r2_score(y_test, y_test_pred)
print("Training Scores:")
print(f"MSE: {train_mse}, MAE: {train_mae}, R2: {train_r2}")

print("\nTesting Scores:")
print(f"MSE: {test_mse}, MAE: {test_mae}, R2: {test_r2}")

# Perform cross-validation (using 5 folds here)
cv_r2 = cross_val_score(gbr, X, y, cv=5, scoring='r2')

print("\nCross-Validation Scores (averaged across 5 folds):")
print(f" R2: {np.mean(cv_r2)}")





### SVM




# Define the SVM pipeline with scaling
pipeline = Pipeline([
    ('scaler', StandardScaler()),       # Scale features for SVR
    ('svr', SVR(C=1.0, epsilon=0.1))    # Basic SVR model with default parameters
])

# Fit the pipeline on the training data
pipeline.fit(X_train, y_train)

# Make predictions on training and testing sets

train_pred_log = pipeline.predict(X_train)
y_test_pred_log = pipeline.predict(X_test)

# Evaluate the model performance
train_mse_log = mean_squared_error(y_train, y_train_pred)
train_r2_log = r2_score(y_train, y_train_pred)

test_mse_log = mean_squared_error(y_test, y_test_pred)
test_r2_log = r2_score(y_test, y_test_pred)

print("Training MSE:", train_mse_log)
print("Training R²:", train_r2_log)
print("Testing MSE:", test_mse_log)
print("Testing R²:", test_r2_log)





# Define the SVM pipeline with scaling
pipeline = Pipeline([
    ('scaler', StandardScaler()),  # Scale features for SVR
    ('svr', SVR())                 # SVR model without specific parameters (GridSearchCV will tune them)
])

# Define the parameter grid for GridSearchCV
param_grid = {
    'svr__C': [0.1, 1, 10],              # Regularization strength
    'svr__epsilon': [0.01, 0.1, 0.5],    # Insensitivity margin
    'svr__kernel': ['linear', 'rbf']      # Kernels to test
}

# Set up GridSearchCV with cross-validation
grid_search = GridSearchCV(pipeline, param_grid, cv=5, scoring='r2', verbose=1, n_jobs=-1)

# Fit GridSearchCV to the training data
grid_search.fit(X_train, y_train)

# Retrieve the best parameters and score
best_params = grid_search.best_params_
best_score = grid_search.best_score_

# Make predictions with the best estimator on the test set
y_test_pred_log = grid_search.best_estimator_.predict(X_test)

# Evaluate the model on the test set
test_mse_log = mean_squared_error(y_test, y_test_pred_log)
test_r2_log = r2_score(y_test, y_test_pred_log)

print("Best Parameters:", best_params)
print("Best Cross-Validated R²:", best_score)
print("Testing MSE:", test_mse_log)
print("Testing R²:", test_r2_log)



import matplotlib.pyplot as plt

# Plotting predicted vs actual values for the test set
plt.figure(figsize=(10, 6))
plt.scatter(y_test, y_test_pred_log, alpha=0.6, color='b')
plt.plot([y_test.min(), y_test.max()], [y_test.min(), y_test.max()], 'k--', lw=2)
plt.xlabel('Actual Log Total Crime Count')
plt.ylabel('Predicted Log Total Crime Count')
plt.title('SVR Predictions vs Actual Values')
plt.show()



from xgboost import XGBRegressor
from sklearn.model_selection import GridSearchCV

# Define the XGBoost model
xgb_model = XGBRegressor(random_state=42)

# Define the parameter grid
param_grid = {
    'n_estimators': [100, 300, 500],            # Number of trees
    'max_depth': [2, 3, 4],                     # Tree depth
    'learning_rate': [0.01, 0.05, 0.1],         # Learning rate for step size
    'reg_lambda': [0.5, 1, 5],                  # L2 regularization
    'reg_alpha': [0, 0.1, 0.5]                  # L1 regularization
}

# Set up GridSearchCV
grid_search = GridSearchCV(
    estimator=xgb_model,
    param_grid=param_grid,
    cv=5,                             # 5-fold cross-validation
                    
    n_jobs=-1,                        # Use all available cores
   
)

# Fit GridSearchCV to the training data
grid_search.fit(X_train, y_train)

# Retrieve best parameters and score
best_params = grid_search.best_params_
best_score = grid_search.best_score_

# Evaluate the best model on the test set
train_mse_log = mean_squared_error(y_train, y_train_pred_log)
train_r2_log = r2_score(y_train, y_train_pred_log)

y_test_pred_log = grid_search.best_estimator_.predict(X_test)
test_mse_log = mean_squared_error(y_test, y_test_pred_log)
test_r2_log = r2_score(y_test, y_test_pred_log)

print("Best Parameters:", best_params)
print("Best Cross-Validated R²:", best_score)
print("Testing MSE:", test_mse_log)
print("Testing R²:", test_r2_log)
print("Training MSE:", train_mse_log)
print("Training R²:", train_r2_log)



