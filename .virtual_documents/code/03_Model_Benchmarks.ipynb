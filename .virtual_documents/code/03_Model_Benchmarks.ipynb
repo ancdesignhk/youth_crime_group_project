














# Calculate the mean and median baselines for `total_crime_count`
mean_baseline = y_raw.mean()
median_baseline = y_raw.median()

# Generate predictions using mean and median baselines
y_mean_baseline_pred = [mean_baseline] * len(y_raw)
y_median_baseline_pred = [median_baseline] * len(y_raw)

# Calculate MSE and R² for mean baseline
mse_mean_baseline = mean_squared_error(y_raw, y_mean_baseline_pred)
r2_mean_baseline = r2_score(y_raw, y_mean_baseline_pred)

# Calculate MSE and R² for median baseline
mse_median_baseline = mean_squared_error(y_raw, y_median_baseline_pred)
r2_median_baseline = r2_score(y_raw, y_median_baseline_pred)

(mse_mean_baseline, r2_mean_baseline), (mse_median_baseline, r2_median_baseline)

