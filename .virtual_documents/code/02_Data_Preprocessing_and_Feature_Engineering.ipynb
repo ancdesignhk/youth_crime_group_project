











# imports 
import pandas as pd
import numpy as np


data = pd.read_csv('../data/state_demo_crime_youth_data_combined.csv')
data.head()


# combining crime-related columns to create a new 'total_ crime_count' column
# summing up 'crimes_against_society', 'fraud_and_other_financial_crimes', 'property_crime', and 'violent_crime' columns

# ensuring we handle any missing values during summation by filling NaN with 0 temporarily
data['total_crime_count'] = data[['crimes_against_society', 
                           'fraud_and_other_financial_crimes', 
                           'property_crime', 
                           'violent_crime']].fillna(0).sum(axis=1)

# first few rows to confirm the new 'total_ crime_count' column
data[['state', 'year', 'crimes_against_society', 'fraud_and_other_financial_crimes', 
      'property_crime', 'violent_crime', 'total_crime_count']].head()


# Create interaction terms
data['youth_school_poverty_interaction'] = data['youth_not_in_school'] * data['youth_living_in_poverty']

# Display the first few rows of the dataset with new interaction terms to verify
data[['youth_school_poverty_interaction']].head()



data['log_total_crime_count'] = np.log1p(data['total_crime_count'])


final_data = data.to_csv('../data/data.csv',index=False)



%store final_data 



