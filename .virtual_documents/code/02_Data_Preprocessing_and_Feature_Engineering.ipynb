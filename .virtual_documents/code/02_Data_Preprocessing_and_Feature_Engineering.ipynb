











# imports 
import pandas as pd
import numpy as np
import random
# Set seed
np.random.seed(42)
random.seed(42)


data = pd.read_csv('../data/data_final.csv')
data.head()



df_engineered = data.copy()






# Interaction Terms
#youth not in school and poverty rate
#df_engineered['youth_school_poverty_interaction'] = data['youth_not_in_school'] * data['poverty_rate']

# poverty rate and median income interaction
#df_engineered['poverty_income_interaction'] = data['poverty_rate'] * data['median_income']

# unemployment rate and youth not in school interaction
df_engineered['unemployment_youth_interaction'] = data['unemployment_rate'] * data['youth_not_in_school']

# Polynomial Features
# poverty rate
df_engineered['poverty_rate_squared'] = data['poverty_rate'] ** 2

# median income
#df_engineered['median_income_squared'] = data['median_income'] ** 2

# Ratio Features
# poverty rate to median income ratio
#df_engineered['poverty_to_income_ratio'] = data['poverty_rate'] / (data['median_income'] + 1)

# youth not in school to total population ratio
#df_engineered['youth_to_total_pop_ratio'] = data['youth_not_in_school'] / (data['total_pop'] + 1)
'''
# one-hot encoding for categorical features
categorical_features = ['state']
ohe = OneHotEncoder(drop='first', sparse_output=False,handle_unknown='ignore')
encoded_features = ohe.fit_transform(data[categorical_features])
encoded_df = pd.DataFrame(encoded_features, columns=ohe.get_feature_names_out(categorical_features))

# concatenating the encoded features with the original dataframe
df_engineered = pd.concat([df_engineered.reset_index(drop=True), encoded_df.reset_index(drop=True)], axis=1)
df_engineered.drop(columns= 'state',inplace=True)
'''


df_engineered.head()


df_engineered.to_csv('../data/data_engineered.csv',index=False)


final_data = data.to_csv('../data/data.csv',index=False)



df_engineered.shape



