











# imports 
import pandas as pd
import numpy as np


data = pd.read_csv('../data/data_final.csv')
data.head()


data.isna().sum()


# Create interaction terms
data['youth_school_poverty_interaction'] = data['youth_not_in_school'] * data['youth_living_in_poverty']

# Display the first few rows of the dataset with new interaction terms to verify
data[['youth_school_poverty_interaction']].head()






data['log_total_crime_count'] = np.log1p(data['total_crime_count'])


final_data = data.to_csv('../data/data.csv',index=False)



%store final_data 



